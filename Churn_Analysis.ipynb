{
  "cells": [
    {
      "cell_type": "markdown",
      "metadata": {
        "id": "view-in-github",
        "colab_type": "text"
      },
      "source": [
        "<a href=\"https://colab.research.google.com/github/kabirodavies/data-project/blob/main/Churn_Analysis.ipynb\" target=\"_parent\"><img src=\"https://colab.research.google.com/assets/colab-badge.svg\" alt=\"Open In Colab\"/></a>"
      ]
    },
    {
      "cell_type": "markdown",
      "metadata": {
        "id": "wOsW9qtDZmpF"
      },
      "source": [
        "## Import dependencies and load csv \n",
        "Import pandas, matplotlib, seaborn, and datetime dependencies"
      ]
    },
    {
      "cell_type": "code",
      "source": [
        "pip install lifetimes"
      ],
      "metadata": {
        "colab": {
          "base_uri": "https://localhost:8080/"
        },
        "id": "eRwNtYjv0QWf",
        "outputId": "c83857f2-efc0-46eb-8d3d-be0592d23080"
      },
      "execution_count": 1,
      "outputs": [
        {
          "output_type": "stream",
          "name": "stdout",
          "text": [
            "Looking in indexes: https://pypi.org/simple, https://us-python.pkg.dev/colab-wheels/public/simple/\n",
            "Collecting lifetimes\n",
            "  Downloading Lifetimes-0.11.3-py3-none-any.whl (584 kB)\n",
            "\u001b[K     |████████████████████████████████| 584 kB 7.3 MB/s \n",
            "\u001b[?25hRequirement already satisfied: numpy>=1.10.0 in /usr/local/lib/python3.7/dist-packages (from lifetimes) (1.21.6)\n",
            "Requirement already satisfied: scipy>=1.0.0 in /usr/local/lib/python3.7/dist-packages (from lifetimes) (1.7.3)\n",
            "Requirement already satisfied: autograd>=1.2.0 in /usr/local/lib/python3.7/dist-packages (from lifetimes) (1.5)\n",
            "Requirement already satisfied: dill>=0.2.6 in /usr/local/lib/python3.7/dist-packages (from lifetimes) (0.3.6)\n",
            "Requirement already satisfied: pandas>=0.24.0 in /usr/local/lib/python3.7/dist-packages (from lifetimes) (1.3.5)\n",
            "Requirement already satisfied: future>=0.15.2 in /usr/local/lib/python3.7/dist-packages (from autograd>=1.2.0->lifetimes) (0.16.0)\n",
            "Requirement already satisfied: python-dateutil>=2.7.3 in /usr/local/lib/python3.7/dist-packages (from pandas>=0.24.0->lifetimes) (2.8.2)\n",
            "Requirement already satisfied: pytz>=2017.3 in /usr/local/lib/python3.7/dist-packages (from pandas>=0.24.0->lifetimes) (2022.6)\n",
            "Requirement already satisfied: six>=1.5 in /usr/local/lib/python3.7/dist-packages (from python-dateutil>=2.7.3->pandas>=0.24.0->lifetimes) (1.15.0)\n",
            "Installing collected packages: lifetimes\n",
            "Successfully installed lifetimes-0.11.3\n"
          ]
        }
      ]
    },
    {
      "cell_type": "code",
      "execution_count": 2,
      "metadata": {
        "id": "MGDqXnDzZmpI"
      },
      "outputs": [],
      "source": [
        "import pandas as pd\n",
        "from time import strftime\n",
        "from datetime import datetime\n",
        "import matplotlib.pyplot as plt\n",
        "import seaborn as sns"
      ]
    },
    {
      "cell_type": "code",
      "execution_count": 3,
      "metadata": {
        "id": "lI2pWyb6ZmpK"
      },
      "outputs": [],
      "source": [
        "#Read Data\n",
        "users_sessions_url = 'https://raw.githubusercontent.com/kabirodavies/data-project/main/user_sessions.csv'\n",
        "users = pd.read_csv(users_sessions_url, encoding = 'utf8')"
      ]
    },
    {
      "cell_type": "code",
      "source": [
        "# Checking the shape (# No of columns and rows) of the dataset\n",
        "users.shape"
      ],
      "metadata": {
        "colab": {
          "base_uri": "https://localhost:8080/"
        },
        "id": "qZeXEwhxaM0_",
        "outputId": "1b14d418-50d2-4949-fdf5-6e73d8ed2559"
      },
      "execution_count": 4,
      "outputs": [
        {
          "output_type": "execute_result",
          "data": {
            "text/plain": [
              "(11880, 25)"
            ]
          },
          "metadata": {},
          "execution_count": 4
        }
      ]
    },
    {
      "cell_type": "code",
      "source": [
        "# Checking the names of columns\n",
        "users.columns"
      ],
      "metadata": {
        "colab": {
          "base_uri": "https://localhost:8080/"
        },
        "id": "Fw7u41tIUuWa",
        "outputId": "5d25f81b-bb81-4141-ee4b-946d34506890"
      },
      "execution_count": 5,
      "outputs": [
        {
          "output_type": "execute_result",
          "data": {
            "text/plain": [
              "Index(['session_id', 'datetime', 'supply_id', 'ip', 'user_device_id',\n",
              "       'app_name', 'app_bundle', 'app_ver', 'channel_id', 'full_user_agent',\n",
              "       'os_name', 'os_family', 'country', 'city', 'isp', 'carrier_id',\n",
              "       'connection_type', 'region', 'device_type', 'ua_family', 'platform',\n",
              "       'player_type', 'admanager_type', 'additional_data', 'default_language'],\n",
              "      dtype='object')"
            ]
          },
          "metadata": {},
          "execution_count": 5
        }
      ]
    },
    {
      "cell_type": "code",
      "source": [
        "# Checking for columns with missing or null values\n",
        "users.isnull().sum(axis=0)"
      ],
      "metadata": {
        "colab": {
          "base_uri": "https://localhost:8080/"
        },
        "id": "qDDbPyDL2I95",
        "outputId": "5cb9f874-be7d-4a88-d4f3-b7a3e54cbc3f"
      },
      "execution_count": 6,
      "outputs": [
        {
          "output_type": "execute_result",
          "data": {
            "text/plain": [
              "session_id              0\n",
              "datetime                0\n",
              "supply_id           10851\n",
              "ip                      0\n",
              "user_device_id        679\n",
              "app_name                0\n",
              "app_bundle             18\n",
              "app_ver                 0\n",
              "channel_id              0\n",
              "full_user_agent         0\n",
              "os_name              7868\n",
              "os_family            7868\n",
              "country                 2\n",
              "city                  358\n",
              "isp                    11\n",
              "carrier_id             20\n",
              "connection_type        59\n",
              "region                340\n",
              "device_type          7602\n",
              "ua_family            9008\n",
              "platform             7601\n",
              "player_type          8189\n",
              "admanager_type      11880\n",
              "additional_data      2034\n",
              "default_language        0\n",
              "dtype: int64"
            ]
          },
          "metadata": {},
          "execution_count": 6
        }
      ]
    },
    {
      "cell_type": "markdown",
      "source": [
        "# Data Engineering"
      ],
      "metadata": {
        "id": "OiU_QnaJ8HXs"
      }
    },
    {
      "cell_type": "code",
      "source": [
        "# Checking the datatypes of the columns in the dataset \n",
        "users.info()"
      ],
      "metadata": {
        "colab": {
          "base_uri": "https://localhost:8080/"
        },
        "id": "VpATD-CezRs4",
        "outputId": "681c10d8-1a87-49c6-cd67-0aaa81b58d7c"
      },
      "execution_count": 7,
      "outputs": [
        {
          "output_type": "stream",
          "name": "stdout",
          "text": [
            "<class 'pandas.core.frame.DataFrame'>\n",
            "RangeIndex: 11880 entries, 0 to 11879\n",
            "Data columns (total 25 columns):\n",
            " #   Column            Non-Null Count  Dtype  \n",
            "---  ------            --------------  -----  \n",
            " 0   session_id        11880 non-null  object \n",
            " 1   datetime          11880 non-null  object \n",
            " 2   supply_id         1029 non-null   float64\n",
            " 3   ip                11880 non-null  object \n",
            " 4   user_device_id    11201 non-null  object \n",
            " 5   app_name          11880 non-null  object \n",
            " 6   app_bundle        11862 non-null  object \n",
            " 7   app_ver           11880 non-null  object \n",
            " 8   channel_id        11880 non-null  object \n",
            " 9   full_user_agent   11880 non-null  object \n",
            " 10  os_name           4012 non-null   object \n",
            " 11  os_family         4012 non-null   object \n",
            " 12  country           11878 non-null  object \n",
            " 13  city              11522 non-null  object \n",
            " 14  isp               11869 non-null  object \n",
            " 15  carrier_id        11860 non-null  float64\n",
            " 16  connection_type   11821 non-null  object \n",
            " 17  region            11540 non-null  object \n",
            " 18  device_type       4278 non-null   object \n",
            " 19  ua_family         2872 non-null   object \n",
            " 20  platform          4279 non-null   object \n",
            " 21  player_type       3691 non-null   object \n",
            " 22  admanager_type    0 non-null      float64\n",
            " 23  additional_data   9846 non-null   object \n",
            " 24  default_language  11880 non-null  object \n",
            "dtypes: float64(3), object(22)\n",
            "memory usage: 2.3+ MB\n"
          ]
        }
      ]
    },
    {
      "cell_type": "code",
      "source": [
        "#Change 'datetime' datatype from object to datetime\n",
        "users['datetime'] =  pd.to_datetime(users['datetime'])"
      ],
      "metadata": {
        "id": "N_lAXIqCzUyX"
      },
      "execution_count": 8,
      "outputs": []
    },
    {
      "cell_type": "code",
      "source": [
        "users['datetime']"
      ],
      "metadata": {
        "colab": {
          "base_uri": "https://localhost:8080/"
        },
        "id": "bLKvcLzw28pu",
        "outputId": "8507c03c-3e01-409d-a813-a57ac5cf9869"
      },
      "execution_count": 9,
      "outputs": [
        {
          "output_type": "execute_result",
          "data": {
            "text/plain": [
              "0       2022-08-05 23:25:07.629000+00:00\n",
              "1       2022-08-05 22:08:45.281000+00:00\n",
              "2       2022-08-05 22:11:08.906000+00:00\n",
              "3       2022-08-05 22:05:35.273000+00:00\n",
              "4       2022-08-05 21:10:47.448000+00:00\n",
              "                      ...               \n",
              "11875   2022-08-21 06:24:49.144000+00:00\n",
              "11876   2022-08-21 12:47:42.816000+00:00\n",
              "11877   2022-08-21 10:39:19.457000+00:00\n",
              "11878   2022-08-21 02:20:09.202000+00:00\n",
              "11879   2022-08-21 19:53:30.537000+00:00\n",
              "Name: datetime, Length: 11880, dtype: datetime64[ns, UTC]"
            ]
          },
          "metadata": {},
          "execution_count": 9
        }
      ]
    },
    {
      "cell_type": "code",
      "source": [
        "# Extracting only date from the datetime column\n",
        "users['date'] = pd.to_datetime(users['datetime'], format=\"%Y/%m/%d %H:%M\").dt.date\n",
        "users['date'] =  pd.to_datetime(users['date'])"
      ],
      "metadata": {
        "id": "ENCSwm6hz2fn"
      },
      "execution_count": 10,
      "outputs": []
    },
    {
      "cell_type": "code",
      "source": [
        "#Cheking the minimun and maximum dates and the time difference in days\n",
        "dates = \"The First date is {}, And The last date is {}\".format(users['date'].min(), users['date'].max())\n",
        "print(dates)\n",
        "\n",
        "#Time difference in days\n",
        "time_diff_days = users['date'].max() - users['date'].min()\n",
        "print('Time Difference is', time_diff_days)"
      ],
      "metadata": {
        "colab": {
          "base_uri": "https://localhost:8080/"
        },
        "id": "8AkPv5OL3HXe",
        "outputId": "d0c1ea44-1b1a-4173-c711-5bc11ec180f0"
      },
      "execution_count": 11,
      "outputs": [
        {
          "output_type": "stream",
          "name": "stdout",
          "text": [
            "The First date is 2022-08-04 00:00:00, And The last date is 2022-10-20 00:00:00\n",
            "Time Difference is 77 days 00:00:00\n"
          ]
        }
      ]
    },
    {
      "cell_type": "code",
      "source": [
        "#Transforming the default_language column to have a uniform label for English\n",
        "users['default_language'] = users['default_language'].replace(['en', 'en-us'], 'English')"
      ],
      "metadata": {
        "id": "0eW8LjKHC5Cr"
      },
      "execution_count": 12,
      "outputs": []
    },
    {
      "cell_type": "markdown",
      "source": [],
      "metadata": {
        "id": "pDuS8wNADkcM"
      }
    },
    {
      "cell_type": "markdown",
      "source": [
        "# Checking for Data Integrity in columns of interest"
      ],
      "metadata": {
        "id": "14I9rWK6Dm7q"
      }
    },
    {
      "cell_type": "markdown",
      "source": [
        "**When a value occurs too many times it is worth investigating it futher. The choice of a column to user to identify a user is important.**"
      ],
      "metadata": {
        "id": "FOoACcMALzNe"
      }
    },
    {
      "cell_type": "code",
      "source": [
        "# Number of times user_device_id has occured \n",
        "users['user_device_id'].value_counts(sort=True) "
      ],
      "metadata": {
        "colab": {
          "base_uri": "https://localhost:8080/"
        },
        "id": "5Tkpz9BGGvyZ",
        "outputId": "92c69d71-87cb-4778-8f29-14861d9dfaa6"
      },
      "execution_count": 13,
      "outputs": [
        {
          "output_type": "execute_result",
          "data": {
            "text/plain": [
              "6B2848FC-05A4-4E27-A032-28A033AFE5DE    7601\n",
              "02:00:00:00:00:00                         89\n",
              "cb3de4e3-1e92-4422-a18d-003a930a7438       4\n",
              "065cbf4b-6ccb-51e7-bed5-d6ccc695e747       3\n",
              "ff016244-4894-a65f-596c-c3ce92b2049a       3\n",
              "                                        ... \n",
              "1019040057                                 1\n",
              "1007668544                                 1\n",
              "1062439763                                 1\n",
              "3fd46456-ab95-5d17-9c16-0f1ba738272a       1\n",
              "ewBZPNeiQES1UfAqzPMkuL                     1\n",
              "Name: user_device_id, Length: 3438, dtype: int64"
            ]
          },
          "metadata": {},
          "execution_count": 13
        }
      ]
    },
    {
      "cell_type": "code",
      "source": [
        "# Number of times ip has occured \n",
        "users['ip'].value_counts(sort=True) "
      ],
      "metadata": {
        "colab": {
          "base_uri": "https://localhost:8080/"
        },
        "id": "KyK_4OGFEhr7",
        "outputId": "002d1f37-8147-4355-cf19-dbd737916862"
      },
      "execution_count": 14,
      "outputs": [
        {
          "output_type": "execute_result",
          "data": {
            "text/plain": [
              "178.118.24.64                              7601\n",
              "176.112.65.246                               10\n",
              "36.255.44.74                                  4\n",
              "154.27.65.112                                 4\n",
              "46.39.65.243                                  3\n",
              "                                           ... \n",
              "109.101.200.58                                1\n",
              "2600:1005:b15e:597a:e436:8c9e:7981:51e0       1\n",
              "2402:800:63b4:e6b2:10ec:aefa:97d3:da91        1\n",
              "154.121.31.241                                1\n",
              "185.183.107.142                               1\n",
              "Name: ip, Length: 4166, dtype: int64"
            ]
          },
          "metadata": {},
          "execution_count": 14
        }
      ]
    },
    {
      "cell_type": "markdown",
      "source": [
        "# Investigating user with 7601 records"
      ],
      "metadata": {
        "id": "78ni3COBMzV1"
      }
    },
    {
      "cell_type": "code",
      "source": [
        "# Investigating 178.118.24.64 with 7601 records\n",
        "device_id_one = users[users['ip'] == '178.118.24.64'] \n",
        "device_id_one.head()"
      ],
      "metadata": {
        "colab": {
          "base_uri": "https://localhost:8080/",
          "height": 560
        },
        "id": "pXgUeilqF104",
        "outputId": "0befbb79-02b1-451e-8821-bd2a35c7f763"
      },
      "execution_count": 15,
      "outputs": [
        {
          "output_type": "execute_result",
          "data": {
            "text/plain": [
              "   session_id                         datetime  supply_id             ip  \\\n",
              "78      5.2.7 2022-10-20 08:59:23.669000+00:00        NaN  178.118.24.64   \n",
              "79      5.2.7 2022-10-20 09:34:15.711000+00:00        NaN  178.118.24.64   \n",
              "80      5.2.7 2022-10-20 11:44:50.258000+00:00        NaN  178.118.24.64   \n",
              "81      5.2.7 2022-10-20 10:32:41.610000+00:00        NaN  178.118.24.64   \n",
              "82      5.2.7 2022-10-20 11:53:27.485000+00:00        NaN  178.118.24.64   \n",
              "\n",
              "                          user_device_id      app_name       app_bundle  \\\n",
              "78  6B2848FC-05A4-4E27-A032-28A033AFE5DE  FashionTV%2B  com.appletv.ftv   \n",
              "79  6B2848FC-05A4-4E27-A032-28A033AFE5DE  FashionTV%2B  com.appletv.ftv   \n",
              "80  6B2848FC-05A4-4E27-A032-28A033AFE5DE  FashionTV%2B  com.appletv.ftv   \n",
              "81  6B2848FC-05A4-4E27-A032-28A033AFE5DE  FashionTV%2B  com.appletv.ftv   \n",
              "82  6B2848FC-05A4-4E27-A032-28A033AFE5DE  FashionTV%2B  com.appletv.ftv   \n",
              "\n",
              "   app_ver channel_id                                    full_user_agent  ...  \\\n",
              "78   5.2.7       1235  Fashion Tv/5.2.7 (com.fashiontvplus.multistrea...  ...   \n",
              "79   5.2.7       1235  Fashion Tv/5.2.7 (com.fashiontvplus.multistrea...  ...   \n",
              "80   5.2.7       1235  Fashion Tv/5.2.7 (com.fashiontvplus.multistrea...  ...   \n",
              "81   5.2.7       1235  Fashion Tv/5.2.7 (com.fashiontvplus.multistrea...  ...   \n",
              "82   5.2.7       1235  Fashion Tv/5.2.7 (com.fashiontvplus.multistrea...  ...   \n",
              "\n",
              "   connection_type                  region device_type ua_family platform  \\\n",
              "78       Cable/DSL  West Flanders Province         NaN       NaN      NaN   \n",
              "79       Cable/DSL  West Flanders Province         NaN       NaN      NaN   \n",
              "80       Cable/DSL  West Flanders Province         NaN       NaN      NaN   \n",
              "81       Cable/DSL  West Flanders Province         NaN       NaN      NaN   \n",
              "82       Cable/DSL  West Flanders Province         NaN       NaN      NaN   \n",
              "\n",
              "    player_type admanager_type                    additional_data  \\\n",
              "78          NaN            NaN  [{\"internal_ip\":\"[internal_ip]\"}]   \n",
              "79          NaN            NaN  [{\"internal_ip\":\"[internal_ip]\"}]   \n",
              "80          NaN            NaN  [{\"internal_ip\":\"[internal_ip]\"}]   \n",
              "81          NaN            NaN  [{\"internal_ip\":\"[internal_ip]\"}]   \n",
              "82          NaN            NaN  [{\"internal_ip\":\"[internal_ip]\"}]   \n",
              "\n",
              "   default_language       date  \n",
              "78          English 2022-10-20  \n",
              "79          English 2022-10-20  \n",
              "80          English 2022-10-20  \n",
              "81          English 2022-10-20  \n",
              "82          English 2022-10-20  \n",
              "\n",
              "[5 rows x 26 columns]"
            ],
            "text/html": [
              "\n",
              "  <div id=\"df-119bbd59-ab68-41c0-a419-8da2a39164bf\">\n",
              "    <div class=\"colab-df-container\">\n",
              "      <div>\n",
              "<style scoped>\n",
              "    .dataframe tbody tr th:only-of-type {\n",
              "        vertical-align: middle;\n",
              "    }\n",
              "\n",
              "    .dataframe tbody tr th {\n",
              "        vertical-align: top;\n",
              "    }\n",
              "\n",
              "    .dataframe thead th {\n",
              "        text-align: right;\n",
              "    }\n",
              "</style>\n",
              "<table border=\"1\" class=\"dataframe\">\n",
              "  <thead>\n",
              "    <tr style=\"text-align: right;\">\n",
              "      <th></th>\n",
              "      <th>session_id</th>\n",
              "      <th>datetime</th>\n",
              "      <th>supply_id</th>\n",
              "      <th>ip</th>\n",
              "      <th>user_device_id</th>\n",
              "      <th>app_name</th>\n",
              "      <th>app_bundle</th>\n",
              "      <th>app_ver</th>\n",
              "      <th>channel_id</th>\n",
              "      <th>full_user_agent</th>\n",
              "      <th>...</th>\n",
              "      <th>connection_type</th>\n",
              "      <th>region</th>\n",
              "      <th>device_type</th>\n",
              "      <th>ua_family</th>\n",
              "      <th>platform</th>\n",
              "      <th>player_type</th>\n",
              "      <th>admanager_type</th>\n",
              "      <th>additional_data</th>\n",
              "      <th>default_language</th>\n",
              "      <th>date</th>\n",
              "    </tr>\n",
              "  </thead>\n",
              "  <tbody>\n",
              "    <tr>\n",
              "      <th>78</th>\n",
              "      <td>5.2.7</td>\n",
              "      <td>2022-10-20 08:59:23.669000+00:00</td>\n",
              "      <td>NaN</td>\n",
              "      <td>178.118.24.64</td>\n",
              "      <td>6B2848FC-05A4-4E27-A032-28A033AFE5DE</td>\n",
              "      <td>FashionTV%2B</td>\n",
              "      <td>com.appletv.ftv</td>\n",
              "      <td>5.2.7</td>\n",
              "      <td>1235</td>\n",
              "      <td>Fashion Tv/5.2.7 (com.fashiontvplus.multistrea...</td>\n",
              "      <td>...</td>\n",
              "      <td>Cable/DSL</td>\n",
              "      <td>West Flanders Province</td>\n",
              "      <td>NaN</td>\n",
              "      <td>NaN</td>\n",
              "      <td>NaN</td>\n",
              "      <td>NaN</td>\n",
              "      <td>NaN</td>\n",
              "      <td>[{\"internal_ip\":\"[internal_ip]\"}]</td>\n",
              "      <td>English</td>\n",
              "      <td>2022-10-20</td>\n",
              "    </tr>\n",
              "    <tr>\n",
              "      <th>79</th>\n",
              "      <td>5.2.7</td>\n",
              "      <td>2022-10-20 09:34:15.711000+00:00</td>\n",
              "      <td>NaN</td>\n",
              "      <td>178.118.24.64</td>\n",
              "      <td>6B2848FC-05A4-4E27-A032-28A033AFE5DE</td>\n",
              "      <td>FashionTV%2B</td>\n",
              "      <td>com.appletv.ftv</td>\n",
              "      <td>5.2.7</td>\n",
              "      <td>1235</td>\n",
              "      <td>Fashion Tv/5.2.7 (com.fashiontvplus.multistrea...</td>\n",
              "      <td>...</td>\n",
              "      <td>Cable/DSL</td>\n",
              "      <td>West Flanders Province</td>\n",
              "      <td>NaN</td>\n",
              "      <td>NaN</td>\n",
              "      <td>NaN</td>\n",
              "      <td>NaN</td>\n",
              "      <td>NaN</td>\n",
              "      <td>[{\"internal_ip\":\"[internal_ip]\"}]</td>\n",
              "      <td>English</td>\n",
              "      <td>2022-10-20</td>\n",
              "    </tr>\n",
              "    <tr>\n",
              "      <th>80</th>\n",
              "      <td>5.2.7</td>\n",
              "      <td>2022-10-20 11:44:50.258000+00:00</td>\n",
              "      <td>NaN</td>\n",
              "      <td>178.118.24.64</td>\n",
              "      <td>6B2848FC-05A4-4E27-A032-28A033AFE5DE</td>\n",
              "      <td>FashionTV%2B</td>\n",
              "      <td>com.appletv.ftv</td>\n",
              "      <td>5.2.7</td>\n",
              "      <td>1235</td>\n",
              "      <td>Fashion Tv/5.2.7 (com.fashiontvplus.multistrea...</td>\n",
              "      <td>...</td>\n",
              "      <td>Cable/DSL</td>\n",
              "      <td>West Flanders Province</td>\n",
              "      <td>NaN</td>\n",
              "      <td>NaN</td>\n",
              "      <td>NaN</td>\n",
              "      <td>NaN</td>\n",
              "      <td>NaN</td>\n",
              "      <td>[{\"internal_ip\":\"[internal_ip]\"}]</td>\n",
              "      <td>English</td>\n",
              "      <td>2022-10-20</td>\n",
              "    </tr>\n",
              "    <tr>\n",
              "      <th>81</th>\n",
              "      <td>5.2.7</td>\n",
              "      <td>2022-10-20 10:32:41.610000+00:00</td>\n",
              "      <td>NaN</td>\n",
              "      <td>178.118.24.64</td>\n",
              "      <td>6B2848FC-05A4-4E27-A032-28A033AFE5DE</td>\n",
              "      <td>FashionTV%2B</td>\n",
              "      <td>com.appletv.ftv</td>\n",
              "      <td>5.2.7</td>\n",
              "      <td>1235</td>\n",
              "      <td>Fashion Tv/5.2.7 (com.fashiontvplus.multistrea...</td>\n",
              "      <td>...</td>\n",
              "      <td>Cable/DSL</td>\n",
              "      <td>West Flanders Province</td>\n",
              "      <td>NaN</td>\n",
              "      <td>NaN</td>\n",
              "      <td>NaN</td>\n",
              "      <td>NaN</td>\n",
              "      <td>NaN</td>\n",
              "      <td>[{\"internal_ip\":\"[internal_ip]\"}]</td>\n",
              "      <td>English</td>\n",
              "      <td>2022-10-20</td>\n",
              "    </tr>\n",
              "    <tr>\n",
              "      <th>82</th>\n",
              "      <td>5.2.7</td>\n",
              "      <td>2022-10-20 11:53:27.485000+00:00</td>\n",
              "      <td>NaN</td>\n",
              "      <td>178.118.24.64</td>\n",
              "      <td>6B2848FC-05A4-4E27-A032-28A033AFE5DE</td>\n",
              "      <td>FashionTV%2B</td>\n",
              "      <td>com.appletv.ftv</td>\n",
              "      <td>5.2.7</td>\n",
              "      <td>1235</td>\n",
              "      <td>Fashion Tv/5.2.7 (com.fashiontvplus.multistrea...</td>\n",
              "      <td>...</td>\n",
              "      <td>Cable/DSL</td>\n",
              "      <td>West Flanders Province</td>\n",
              "      <td>NaN</td>\n",
              "      <td>NaN</td>\n",
              "      <td>NaN</td>\n",
              "      <td>NaN</td>\n",
              "      <td>NaN</td>\n",
              "      <td>[{\"internal_ip\":\"[internal_ip]\"}]</td>\n",
              "      <td>English</td>\n",
              "      <td>2022-10-20</td>\n",
              "    </tr>\n",
              "  </tbody>\n",
              "</table>\n",
              "<p>5 rows × 26 columns</p>\n",
              "</div>\n",
              "      <button class=\"colab-df-convert\" onclick=\"convertToInteractive('df-119bbd59-ab68-41c0-a419-8da2a39164bf')\"\n",
              "              title=\"Convert this dataframe to an interactive table.\"\n",
              "              style=\"display:none;\">\n",
              "        \n",
              "  <svg xmlns=\"http://www.w3.org/2000/svg\" height=\"24px\"viewBox=\"0 0 24 24\"\n",
              "       width=\"24px\">\n",
              "    <path d=\"M0 0h24v24H0V0z\" fill=\"none\"/>\n",
              "    <path d=\"M18.56 5.44l.94 2.06.94-2.06 2.06-.94-2.06-.94-.94-2.06-.94 2.06-2.06.94zm-11 1L8.5 8.5l.94-2.06 2.06-.94-2.06-.94L8.5 2.5l-.94 2.06-2.06.94zm10 10l.94 2.06.94-2.06 2.06-.94-2.06-.94-.94-2.06-.94 2.06-2.06.94z\"/><path d=\"M17.41 7.96l-1.37-1.37c-.4-.4-.92-.59-1.43-.59-.52 0-1.04.2-1.43.59L10.3 9.45l-7.72 7.72c-.78.78-.78 2.05 0 2.83L4 21.41c.39.39.9.59 1.41.59.51 0 1.02-.2 1.41-.59l7.78-7.78 2.81-2.81c.8-.78.8-2.07 0-2.86zM5.41 20L4 18.59l7.72-7.72 1.47 1.35L5.41 20z\"/>\n",
              "  </svg>\n",
              "      </button>\n",
              "      \n",
              "  <style>\n",
              "    .colab-df-container {\n",
              "      display:flex;\n",
              "      flex-wrap:wrap;\n",
              "      gap: 12px;\n",
              "    }\n",
              "\n",
              "    .colab-df-convert {\n",
              "      background-color: #E8F0FE;\n",
              "      border: none;\n",
              "      border-radius: 50%;\n",
              "      cursor: pointer;\n",
              "      display: none;\n",
              "      fill: #1967D2;\n",
              "      height: 32px;\n",
              "      padding: 0 0 0 0;\n",
              "      width: 32px;\n",
              "    }\n",
              "\n",
              "    .colab-df-convert:hover {\n",
              "      background-color: #E2EBFA;\n",
              "      box-shadow: 0px 1px 2px rgba(60, 64, 67, 0.3), 0px 1px 3px 1px rgba(60, 64, 67, 0.15);\n",
              "      fill: #174EA6;\n",
              "    }\n",
              "\n",
              "    [theme=dark] .colab-df-convert {\n",
              "      background-color: #3B4455;\n",
              "      fill: #D2E3FC;\n",
              "    }\n",
              "\n",
              "    [theme=dark] .colab-df-convert:hover {\n",
              "      background-color: #434B5C;\n",
              "      box-shadow: 0px 1px 3px 1px rgba(0, 0, 0, 0.15);\n",
              "      filter: drop-shadow(0px 1px 2px rgba(0, 0, 0, 0.3));\n",
              "      fill: #FFFFFF;\n",
              "    }\n",
              "  </style>\n",
              "\n",
              "      <script>\n",
              "        const buttonEl =\n",
              "          document.querySelector('#df-119bbd59-ab68-41c0-a419-8da2a39164bf button.colab-df-convert');\n",
              "        buttonEl.style.display =\n",
              "          google.colab.kernel.accessAllowed ? 'block' : 'none';\n",
              "\n",
              "        async function convertToInteractive(key) {\n",
              "          const element = document.querySelector('#df-119bbd59-ab68-41c0-a419-8da2a39164bf');\n",
              "          const dataTable =\n",
              "            await google.colab.kernel.invokeFunction('convertToInteractive',\n",
              "                                                     [key], {});\n",
              "          if (!dataTable) return;\n",
              "\n",
              "          const docLinkHtml = 'Like what you see? Visit the ' +\n",
              "            '<a target=\"_blank\" href=https://colab.research.google.com/notebooks/data_table.ipynb>data table notebook</a>'\n",
              "            + ' to learn more about interactive tables.';\n",
              "          element.innerHTML = '';\n",
              "          dataTable['output_type'] = 'display_data';\n",
              "          await google.colab.output.renderOutput(dataTable, element);\n",
              "          const docLink = document.createElement('div');\n",
              "          docLink.innerHTML = docLinkHtml;\n",
              "          element.appendChild(docLink);\n",
              "        }\n",
              "      </script>\n",
              "    </div>\n",
              "  </div>\n",
              "  "
            ]
          },
          "metadata": {},
          "execution_count": 15
        }
      ]
    },
    {
      "cell_type": "code",
      "source": [
        "#Cheking the minimun and maximum dates and the time difference in days\n",
        "device_id_one_dates = \"The First date is {}, And The last date is {}\".format(device_id_one['datetime'].min(), device_id_one['datetime'].max())\n",
        "print(dates)\n",
        "\n",
        "#Time difference in days\n",
        "one_time_diff_days = device_id_one['datetime'].max() - device_id_one['datetime'].min()\n",
        "print('Time Difference is', one_time_diff_days)"
      ],
      "metadata": {
        "colab": {
          "base_uri": "https://localhost:8080/"
        },
        "id": "dHX1UFkBLFjA",
        "outputId": "a1ad9185-3800-4960-ef9f-cd7418ce41e0"
      },
      "execution_count": 16,
      "outputs": [
        {
          "output_type": "stream",
          "name": "stdout",
          "text": [
            "The First date is 2022-08-04 00:00:00, And The last date is 2022-10-20 00:00:00\n",
            "Time Difference is 0 days 05:23:16.458000\n"
          ]
        }
      ]
    },
    {
      "cell_type": "code",
      "source": [
        "device_id_one.shape"
      ],
      "metadata": {
        "colab": {
          "base_uri": "https://localhost:8080/"
        },
        "id": "99wNp2tdIbZX",
        "outputId": "840237b4-fcc1-4fd8-be08-2e3d6741594a"
      },
      "execution_count": 17,
      "outputs": [
        {
          "output_type": "execute_result",
          "data": {
            "text/plain": [
              "(7601, 26)"
            ]
          },
          "metadata": {},
          "execution_count": 17
        }
      ]
    },
    {
      "cell_type": "markdown",
      "source": [
        "**It's highly unlikely a user visited the app or apps 7601 times in a duration of five hours. Untill I understand better why this happened, I will drop this user**"
      ],
      "metadata": {
        "id": "X5GRUGuQIDuo"
      }
    },
    {
      "cell_type": "code",
      "source": [
        "#check user frequency\n",
        "#calculate sum of values by group\n",
        "df_name_freq = users.groupby(['app_name'])['ip'].size()\n",
        "\n",
        "#create bar plot by group\n",
        "df_name_freq = df_name_freq.sort_values(ascending=False)\n",
        "df_name_freq.plot(kind='bar',  figsize=(30, 10))"
      ],
      "metadata": {
        "colab": {
          "base_uri": "https://localhost:8080/",
          "height": 684
        },
        "id": "qkh-TGWKNq9G",
        "outputId": "835689d3-e9a9-4de1-f8b5-1c592d36c96c"
      },
      "execution_count": 18,
      "outputs": [
        {
          "output_type": "execute_result",
          "data": {
            "text/plain": [
              "<matplotlib.axes._subplots.AxesSubplot at 0x7f32645e1f90>"
            ]
          },
          "metadata": {},
          "execution_count": 18
        },
        {
          "output_type": "display_data",
          "data": {
            "text/plain": [
              "<Figure size 2160x720 with 1 Axes>"
            ],
            "image/png": "[encoded data removed]"
          },
          "metadata": {
            "needs_background": "light"
          }
        }
      ]
    },
    {
      "cell_type": "code",
      "source": [
        "# #Filter out records of ip 178.118.24.64\n",
        "df_filtered = users[users['ip'] != '178.118.24.64'] "
      ],
      "metadata": {
        "id": "AnEz6OTROh5f"
      },
      "execution_count": 19,
      "outputs": []
    },
    {
      "cell_type": "code",
      "source": [
        "df_filtered.shape"
      ],
      "metadata": {
        "colab": {
          "base_uri": "https://localhost:8080/"
        },
        "id": "1D0nz89TOBnT",
        "outputId": "41eb510d-c4ce-40f9-c9c4-336fa81550aa"
      },
      "execution_count": 20,
      "outputs": [
        {
          "output_type": "execute_result",
          "data": {
            "text/plain": [
              "(4279, 26)"
            ]
          },
          "metadata": {},
          "execution_count": 20
        }
      ]
    },
    {
      "cell_type": "markdown",
      "source": [
        "\n",
        "# Investigating user with 89 records\n",
        "**For this user the ip addresss is unique and can be used to differentiate users.**\n"
      ],
      "metadata": {
        "id": "oJ0jToe_Mkh9"
      }
    },
    {
      "cell_type": "code",
      "source": [
        "# Investigating user_device_id '02:00:00:00:00:00'\n",
        "device_id_two = users[users['user_device_id'] == '02:00:00:00:00:00'] \n",
        "device_id_two.head()"
      ],
      "metadata": {
        "colab": {
          "base_uri": "https://localhost:8080/",
          "height": 0
        },
        "id": "Vd7Fji3yE6JS",
        "outputId": "5678f566-cfca-4d3f-ae3c-1a11775142b5"
      },
      "execution_count": 21,
      "outputs": [
        {
          "output_type": "execute_result",
          "data": {
            "text/plain": [
              "        session_id                         datetime  supply_id  \\\n",
              "178  1659891270189 2022-08-07 16:54:32.867000+00:00     1079.0   \n",
              "491  1664070165976 2022-09-25 01:42:47.610000+00:00     1079.0   \n",
              "492  1664067596494 2022-09-25 00:59:57.057000+00:00     1079.0   \n",
              "513  1666154251949 2022-10-19 04:37:38.757000+00:00     1079.0   \n",
              "543  1662853712521 2022-09-10 23:48:33.296000+00:00     1079.0   \n",
              "\n",
              "                                        ip     user_device_id  \\\n",
              "178                           50.64.176.70  02:00:00:00:00:00   \n",
              "491   2603:90c8:1:95ef:98ca:1e6e:c336:fa4e  02:00:00:00:00:00   \n",
              "492                          162.81.182.39  02:00:00:00:00:00   \n",
              "513        2804:18:580f:3ff2:1:0:52d5:790b  02:00:00:00:00:00   \n",
              "543  2600:1700:3c70:32f0:74ac:4893:f1:57be  02:00:00:00:00:00   \n",
              "\n",
              "              app_name                  app_bundle app_ver  \\\n",
              "178  Classic Reruns TV    com.amazon.classicreruns   5.1.8   \n",
              "491  Dr SEC TV Network                  B08FMRKQ78   5.1.6   \n",
              "492  Dr SEC TV Network                  B08FMRKQ78   5.1.6   \n",
              "513        United News  com.andromobile.unitednews   5.1.8   \n",
              "543  Dr SEC TV Network                  B08FMRKQ78   5.1.6   \n",
              "\n",
              "                     channel_id full_user_agent  ... connection_type  \\\n",
              "178                  B099F57QGP   okhttp/3.10.0  ...       Cable/DSL   \n",
              "491                  B08FMRKQ78   okhttp/3.10.0  ...       Cable/DSL   \n",
              "492                  B08FMRKQ78   okhttp/3.10.0  ...             NaN   \n",
              "513  com.andromobile.unitednews   okhttp/3.10.0  ...        Cellular   \n",
              "543                  B08FMRKQ78   okhttp/3.10.0  ...       Cable/DSL   \n",
              "\n",
              "               region   device_type ua_family       platform  player_type  \\\n",
              "178  British Columbia  Unrecognized    OkHttp      AndroidTV    Exoplayer   \n",
              "491           Alabama  Unrecognized    OkHttp       AmazonTV    Exoplayer   \n",
              "492               NaN  Unrecognized    OkHttp       AmazonTV    Exoplayer   \n",
              "513    Rio de Janeiro  Unrecognized    OkHttp  AndroidMobile    Exoplayer   \n",
              "543         Louisiana  Unrecognized    OkHttp       AmazonTV    Exoplayer   \n",
              "\n",
              "    admanager_type                                    additional_data  \\\n",
              "178            NaN                             [{\"device_info\":\"8p\"}]   \n",
              "491            NaN                          [{\"device_info\":\"aftss\"}]   \n",
              "492            NaN                          [{\"device_info\":\"aftmm\"}]   \n",
              "513            NaN  [{\"placement_id\":\"23552196\"},{\"device_info\":\"s...   \n",
              "543            NaN                          [{\"device_info\":\"aftmm\"}]   \n",
              "\n",
              "    default_language       date  \n",
              "178               中文 2022-08-07  \n",
              "491          English 2022-09-25  \n",
              "492          English 2022-09-25  \n",
              "513        português 2022-10-19  \n",
              "543          English 2022-09-10  \n",
              "\n",
              "[5 rows x 26 columns]"
            ],
            "text/html": [
              "\n",
              "  <div id=\"df-8806d8e9-db12-4cad-a685-205af56c80e8\">\n",
              "    <div class=\"colab-df-container\">\n",
              "      <div>\n",
              "<style scoped>\n",
              "    .dataframe tbody tr th:only-of-type {\n",
              "        vertical-align: middle;\n",
              "    }\n",
              "\n",
              "    .dataframe tbody tr th {\n",
              "        vertical-align: top;\n",
              "    }\n",
              "\n",
              "    .dataframe thead th {\n",
              "        text-align: right;\n",
              "    }\n",
              "</style>\n",
              "<table border=\"1\" class=\"dataframe\">\n",
              "  <thead>\n",
              "    <tr style=\"text-align: right;\">\n",
              "      <th></th>\n",
              "      <th>session_id</th>\n",
              "      <th>datetime</th>\n",
              "      <th>supply_id</th>\n",
              "      <th>ip</th>\n",
              "      <th>user_device_id</th>\n",
              "      <th>app_name</th>\n",
              "      <th>app_bundle</th>\n",
              "      <th>app_ver</th>\n",
              "      <th>channel_id</th>\n",
              "      <th>full_user_agent</th>\n",
              "      <th>...</th>\n",
              "      <th>connection_type</th>\n",
              "      <th>region</th>\n",
              "      <th>device_type</th>\n",
              "      <th>ua_family</th>\n",
              "      <th>platform</th>\n",
              "      <th>player_type</th>\n",
              "      <th>admanager_type</th>\n",
              "      <th>additional_data</th>\n",
              "      <th>default_language</th>\n",
              "      <th>date</th>\n",
              "    </tr>\n",
              "  </thead>\n",
              "  <tbody>\n",
              "    <tr>\n",
              "      <th>178</th>\n",
              "      <td>1659891270189</td>\n",
              "      <td>2022-08-07 16:54:32.867000+00:00</td>\n",
              "      <td>1079.0</td>\n",
              "      <td>50.64.176.70</td>\n",
              "      <td>02:00:00:00:00:00</td>\n",
              "      <td>Classic Reruns TV</td>\n",
              "      <td>com.amazon.classicreruns</td>\n",
              "      <td>5.1.8</td>\n",
              "      <td>B099F57QGP</td>\n",
              "      <td>okhttp/3.10.0</td>\n",
              "      <td>...</td>\n",
              "      <td>Cable/DSL</td>\n",
              "      <td>British Columbia</td>\n",
              "      <td>Unrecognized</td>\n",
              "      <td>OkHttp</td>\n",
              "      <td>AndroidTV</td>\n",
              "      <td>Exoplayer</td>\n",
              "      <td>NaN</td>\n",
              "      <td>[{\"device_info\":\"8p\"}]</td>\n",
              "      <td>中文</td>\n",
              "      <td>2022-08-07</td>\n",
              "    </tr>\n",
              "    <tr>\n",
              "      <th>491</th>\n",
              "      <td>1664070165976</td>\n",
              "      <td>2022-09-25 01:42:47.610000+00:00</td>\n",
              "      <td>1079.0</td>\n",
              "      <td>2603:90c8:1:95ef:98ca:1e6e:c336:fa4e</td>\n",
              "      <td>02:00:00:00:00:00</td>\n",
              "      <td>Dr SEC TV Network</td>\n",
              "      <td>B08FMRKQ78</td>\n",
              "      <td>5.1.6</td>\n",
              "      <td>B08FMRKQ78</td>\n",
              "      <td>okhttp/3.10.0</td>\n",
              "      <td>...</td>\n",
              "      <td>Cable/DSL</td>\n",
              "      <td>Alabama</td>\n",
              "      <td>Unrecognized</td>\n",
              "      <td>OkHttp</td>\n",
              "      <td>AmazonTV</td>\n",
              "      <td>Exoplayer</td>\n",
              "      <td>NaN</td>\n",
              "      <td>[{\"device_info\":\"aftss\"}]</td>\n",
              "      <td>English</td>\n",
              "      <td>2022-09-25</td>\n",
              "    </tr>\n",
              "    <tr>\n",
              "      <th>492</th>\n",
              "      <td>1664067596494</td>\n",
              "      <td>2022-09-25 00:59:57.057000+00:00</td>\n",
              "      <td>1079.0</td>\n",
              "      <td>162.81.182.39</td>\n",
              "      <td>02:00:00:00:00:00</td>\n",
              "      <td>Dr SEC TV Network</td>\n",
              "      <td>B08FMRKQ78</td>\n",
              "      <td>5.1.6</td>\n",
              "      <td>B08FMRKQ78</td>\n",
              "      <td>okhttp/3.10.0</td>\n",
              "      <td>...</td>\n",
              "      <td>NaN</td>\n",
              "      <td>NaN</td>\n",
              "      <td>Unrecognized</td>\n",
              "      <td>OkHttp</td>\n",
              "      <td>AmazonTV</td>\n",
              "      <td>Exoplayer</td>\n",
              "      <td>NaN</td>\n",
              "      <td>[{\"device_info\":\"aftmm\"}]</td>\n",
              "      <td>English</td>\n",
              "      <td>2022-09-25</td>\n",
              "    </tr>\n",
              "    <tr>\n",
              "      <th>513</th>\n",
              "      <td>1666154251949</td>\n",
              "      <td>2022-10-19 04:37:38.757000+00:00</td>\n",
              "      <td>1079.0</td>\n",
              "      <td>2804:18:580f:3ff2:1:0:52d5:790b</td>\n",
              "      <td>02:00:00:00:00:00</td>\n",
              "      <td>United News</td>\n",
              "      <td>com.andromobile.unitednews</td>\n",
              "      <td>5.1.8</td>\n",
              "      <td>com.andromobile.unitednews</td>\n",
              "      <td>okhttp/3.10.0</td>\n",
              "      <td>...</td>\n",
              "      <td>Cellular</td>\n",
              "      <td>Rio de Janeiro</td>\n",
              "      <td>Unrecognized</td>\n",
              "      <td>OkHttp</td>\n",
              "      <td>AndroidMobile</td>\n",
              "      <td>Exoplayer</td>\n",
              "      <td>NaN</td>\n",
              "      <td>[{\"placement_id\":\"23552196\"},{\"device_info\":\"s...</td>\n",
              "      <td>português</td>\n",
              "      <td>2022-10-19</td>\n",
              "    </tr>\n",
              "    <tr>\n",
              "      <th>543</th>\n",
              "      <td>1662853712521</td>\n",
              "      <td>2022-09-10 23:48:33.296000+00:00</td>\n",
              "      <td>1079.0</td>\n",
              "      <td>2600:1700:3c70:32f0:74ac:4893:f1:57be</td>\n",
              "      <td>02:00:00:00:00:00</td>\n",
              "      <td>Dr SEC TV Network</td>\n",
              "      <td>B08FMRKQ78</td>\n",
              "      <td>5.1.6</td>\n",
              "      <td>B08FMRKQ78</td>\n",
              "      <td>okhttp/3.10.0</td>\n",
              "      <td>...</td>\n",
              "      <td>Cable/DSL</td>\n",
              "      <td>Louisiana</td>\n",
              "      <td>Unrecognized</td>\n",
              "      <td>OkHttp</td>\n",
              "      <td>AmazonTV</td>\n",
              "      <td>Exoplayer</td>\n",
              "      <td>NaN</td>\n",
              "      <td>[{\"device_info\":\"aftmm\"}]</td>\n",
              "      <td>English</td>\n",
              "      <td>2022-09-10</td>\n",
              "    </tr>\n",
              "  </tbody>\n",
              "</table>\n",
              "<p>5 rows × 26 columns</p>\n",
              "</div>\n",
              "      <button class=\"colab-df-convert\" onclick=\"convertToInteractive('df-8806d8e9-db12-4cad-a685-205af56c80e8')\"\n",
              "              title=\"Convert this dataframe to an interactive table.\"\n",
              "              style=\"display:none;\">\n",
              "        \n",
              "  <svg xmlns=\"http://www.w3.org/2000/svg\" height=\"24px\"viewBox=\"0 0 24 24\"\n",
              "       width=\"24px\">\n",
              "    <path d=\"M0 0h24v24H0V0z\" fill=\"none\"/>\n",
              "    <path d=\"M18.56 5.44l.94 2.06.94-2.06 2.06-.94-2.06-.94-.94-2.06-.94 2.06-2.06.94zm-11 1L8.5 8.5l.94-2.06 2.06-.94-2.06-.94L8.5 2.5l-.94 2.06-2.06.94zm10 10l.94 2.06.94-2.06 2.06-.94-2.06-.94-.94-2.06-.94 2.06-2.06.94z\"/><path d=\"M17.41 7.96l-1.37-1.37c-.4-.4-.92-.59-1.43-.59-.52 0-1.04.2-1.43.59L10.3 9.45l-7.72 7.72c-.78.78-.78 2.05 0 2.83L4 21.41c.39.39.9.59 1.41.59.51 0 1.02-.2 1.41-.59l7.78-7.78 2.81-2.81c.8-.78.8-2.07 0-2.86zM5.41 20L4 18.59l7.72-7.72 1.47 1.35L5.41 20z\"/>\n",
              "  </svg>\n",
              "      </button>\n",
              "      \n",
              "  <style>\n",
              "    .colab-df-container {\n",
              "      display:flex;\n",
              "      flex-wrap:wrap;\n",
              "      gap: 12px;\n",
              "    }\n",
              "\n",
              "    .colab-df-convert {\n",
              "      background-color: #E8F0FE;\n",
              "      border: none;\n",
              "      border-radius: 50%;\n",
              "      cursor: pointer;\n",
              "      display: none;\n",
              "      fill: #1967D2;\n",
              "      height: 32px;\n",
              "      padding: 0 0 0 0;\n",
              "      width: 32px;\n",
              "    }\n",
              "\n",
              "    .colab-df-convert:hover {\n",
              "      background-color: #E2EBFA;\n",
              "      box-shadow: 0px 1px 2px rgba(60, 64, 67, 0.3), 0px 1px 3px 1px rgba(60, 64, 67, 0.15);\n",
              "      fill: #174EA6;\n",
              "    }\n",
              "\n",
              "    [theme=dark] .colab-df-convert {\n",
              "      background-color: #3B4455;\n",
              "      fill: #D2E3FC;\n",
              "    }\n",
              "\n",
              "    [theme=dark] .colab-df-convert:hover {\n",
              "      background-color: #434B5C;\n",
              "      box-shadow: 0px 1px 3px 1px rgba(0, 0, 0, 0.15);\n",
              "      filter: drop-shadow(0px 1px 2px rgba(0, 0, 0, 0.3));\n",
              "      fill: #FFFFFF;\n",
              "    }\n",
              "  </style>\n",
              "\n",
              "      <script>\n",
              "        const buttonEl =\n",
              "          document.querySelector('#df-8806d8e9-db12-4cad-a685-205af56c80e8 button.colab-df-convert');\n",
              "        buttonEl.style.display =\n",
              "          google.colab.kernel.accessAllowed ? 'block' : 'none';\n",
              "\n",
              "        async function convertToInteractive(key) {\n",
              "          const element = document.querySelector('#df-8806d8e9-db12-4cad-a685-205af56c80e8');\n",
              "          const dataTable =\n",
              "            await google.colab.kernel.invokeFunction('convertToInteractive',\n",
              "                                                     [key], {});\n",
              "          if (!dataTable) return;\n",
              "\n",
              "          const docLinkHtml = 'Like what you see? Visit the ' +\n",
              "            '<a target=\"_blank\" href=https://colab.research.google.com/notebooks/data_table.ipynb>data table notebook</a>'\n",
              "            + ' to learn more about interactive tables.';\n",
              "          element.innerHTML = '';\n",
              "          dataTable['output_type'] = 'display_data';\n",
              "          await google.colab.output.renderOutput(dataTable, element);\n",
              "          const docLink = document.createElement('div');\n",
              "          docLink.innerHTML = docLinkHtml;\n",
              "          element.appendChild(docLink);\n",
              "        }\n",
              "      </script>\n",
              "    </div>\n",
              "  </div>\n",
              "  "
            ]
          },
          "metadata": {},
          "execution_count": 21
        }
      ]
    },
    {
      "cell_type": "markdown",
      "source": [
        "#Selecting Columns Neccessary For The Analysis"
      ],
      "metadata": {
        "id": "lVpknVaP79_9"
      }
    },
    {
      "cell_type": "code",
      "source": [
        "# Checking the names of columns\n",
        "df_filtered.columns"
      ],
      "metadata": {
        "colab": {
          "base_uri": "https://localhost:8080/"
        },
        "id": "mNvvHOIA7noU",
        "outputId": "882a6653-4c15-4f37-8a3d-88aa72da25a4"
      },
      "execution_count": 22,
      "outputs": [
        {
          "output_type": "execute_result",
          "data": {
            "text/plain": [
              "Index(['session_id', 'datetime', 'supply_id', 'ip', 'user_device_id',\n",
              "       'app_name', 'app_bundle', 'app_ver', 'channel_id', 'full_user_agent',\n",
              "       'os_name', 'os_family', 'country', 'city', 'isp', 'carrier_id',\n",
              "       'connection_type', 'region', 'device_type', 'ua_family', 'platform',\n",
              "       'player_type', 'admanager_type', 'additional_data', 'default_language',\n",
              "       'date'],\n",
              "      dtype='object')"
            ]
          },
          "metadata": {},
          "execution_count": 22
        }
      ]
    },
    {
      "cell_type": "code",
      "source": [
        "# df_filtered[df_filtered['ip'] == '178.118.24.64']"
      ],
      "metadata": {
        "id": "IJA33FvBYPyv"
      },
      "execution_count": 23,
      "outputs": []
    },
    {
      "cell_type": "markdown",
      "source": [
        "### Selecting only wanted columns\n",
        "**The Aim of this analysis is to check for user frequency and user recency to determine the most valiable users and users churn likelyhood.**\n",
        "**Date and IP columns are the most important to compute for recency and frequency. Other Columns can be used for further analysi of user behaviour**\n"
      ],
      "metadata": {
        "id": "_eIa9GUu8lH7"
      }
    },
    {
      "cell_type": "code",
      "source": [
        "# Select columns neccessary for this analysis\n",
        "necessary_cols = ['date', 'ip', 'app_name', 'app_ver', 'isp', 'connection_type', 'default_language', 'revenue']\n",
        "data = df_filtered[necessary_cols]\n",
        "data.head()"
      ],
      "metadata": {
        "id": "-99TKe8TB0O2",
        "colab": {
          "base_uri": "https://localhost:8080/",
          "height": 206
        },
        "outputId": "a5d80d15-0a46-4f43-b530-c9d1917017d0"
      },
      "execution_count": 65,
      "outputs": [
        {
          "output_type": "execute_result",
          "data": {
            "text/plain": [
              "        date               ip            app_name    app_ver  \\\n",
              "0 2022-08-05     97.118.20.38         Aquarium TV  V_s5.1.9b   \n",
              "1 2022-08-05  189.203.104.188            ADULTish  V_s5.1.9b   \n",
              "2 2022-08-05    81.111.134.45         Aquarium TV      5.8.4   \n",
              "3 2022-08-05     36.68.10.202  Culture Forward TV      5.8.4   \n",
              "4 2022-08-05   216.238.178.89         Aquarium TV      5.2.0   \n",
              "\n",
              "                         isp connection_type default_language  revenue  \n",
              "0                CenturyLink       Cable/DSL          English       15  \n",
              "1                  Totalplay       Cable/DSL          English       15  \n",
              "2               Virgin Media       Cable/DSL          English       15  \n",
              "3        PT Telkom Indonesia       Cable/DSL          English       15  \n",
              "4  Auburn Essential Services       Cable/DSL          English       15  "
            ],
            "text/html": [
              "\n",
              "  <div id=\"df-e47c656a-2395-4c27-a8a8-c44577bc1060\">\n",
              "    <div class=\"colab-df-container\">\n",
              "      <div>\n",
              "<style scoped>\n",
              "    .dataframe tbody tr th:only-of-type {\n",
              "        vertical-align: middle;\n",
              "    }\n",
              "\n",
              "    .dataframe tbody tr th {\n",
              "        vertical-align: top;\n",
              "    }\n",
              "\n",
              "    .dataframe thead th {\n",
              "        text-align: right;\n",
              "    }\n",
              "</style>\n",
              "<table border=\"1\" class=\"dataframe\">\n",
              "  <thead>\n",
              "    <tr style=\"text-align: right;\">\n",
              "      <th></th>\n",
              "      <th>date</th>\n",
              "      <th>ip</th>\n",
              "      <th>app_name</th>\n",
              "      <th>app_ver</th>\n",
              "      <th>isp</th>\n",
              "      <th>connection_type</th>\n",
              "      <th>default_language</th>\n",
              "      <th>revenue</th>\n",
              "    </tr>\n",
              "  </thead>\n",
              "  <tbody>\n",
              "    <tr>\n",
              "      <th>0</th>\n",
              "      <td>2022-08-05</td>\n",
              "      <td>97.118.20.38</td>\n",
              "      <td>Aquarium TV</td>\n",
              "      <td>V_s5.1.9b</td>\n",
              "      <td>CenturyLink</td>\n",
              "      <td>Cable/DSL</td>\n",
              "      <td>English</td>\n",
              "      <td>15</td>\n",
              "    </tr>\n",
              "    <tr>\n",
              "      <th>1</th>\n",
              "      <td>2022-08-05</td>\n",
              "      <td>189.203.104.188</td>\n",
              "      <td>ADULTish</td>\n",
              "      <td>V_s5.1.9b</td>\n",
              "      <td>Totalplay</td>\n",
              "      <td>Cable/DSL</td>\n",
              "      <td>English</td>\n",
              "      <td>15</td>\n",
              "    </tr>\n",
              "    <tr>\n",
              "      <th>2</th>\n",
              "      <td>2022-08-05</td>\n",
              "      <td>81.111.134.45</td>\n",
              "      <td>Aquarium TV</td>\n",
              "      <td>5.8.4</td>\n",
              "      <td>Virgin Media</td>\n",
              "      <td>Cable/DSL</td>\n",
              "      <td>English</td>\n",
              "      <td>15</td>\n",
              "    </tr>\n",
              "    <tr>\n",
              "      <th>3</th>\n",
              "      <td>2022-08-05</td>\n",
              "      <td>36.68.10.202</td>\n",
              "      <td>Culture Forward TV</td>\n",
              "      <td>5.8.4</td>\n",
              "      <td>PT Telkom Indonesia</td>\n",
              "      <td>Cable/DSL</td>\n",
              "      <td>English</td>\n",
              "      <td>15</td>\n",
              "    </tr>\n",
              "    <tr>\n",
              "      <th>4</th>\n",
              "      <td>2022-08-05</td>\n",
              "      <td>216.238.178.89</td>\n",
              "      <td>Aquarium TV</td>\n",
              "      <td>5.2.0</td>\n",
              "      <td>Auburn Essential Services</td>\n",
              "      <td>Cable/DSL</td>\n",
              "      <td>English</td>\n",
              "      <td>15</td>\n",
              "    </tr>\n",
              "  </tbody>\n",
              "</table>\n",
              "</div>\n",
              "      <button class=\"colab-df-convert\" onclick=\"convertToInteractive('df-e47c656a-2395-4c27-a8a8-c44577bc1060')\"\n",
              "              title=\"Convert this dataframe to an interactive table.\"\n",
              "              style=\"display:none;\">\n",
              "        \n",
              "  <svg xmlns=\"http://www.w3.org/2000/svg\" height=\"24px\"viewBox=\"0 0 24 24\"\n",
              "       width=\"24px\">\n",
              "    <path d=\"M0 0h24v24H0V0z\" fill=\"none\"/>\n",
              "    <path d=\"M18.56 5.44l.94 2.06.94-2.06 2.06-.94-2.06-.94-.94-2.06-.94 2.06-2.06.94zm-11 1L8.5 8.5l.94-2.06 2.06-.94-2.06-.94L8.5 2.5l-.94 2.06-2.06.94zm10 10l.94 2.06.94-2.06 2.06-.94-2.06-.94-.94-2.06-.94 2.06-2.06.94z\"/><path d=\"M17.41 7.96l-1.37-1.37c-.4-.4-.92-.59-1.43-.59-.52 0-1.04.2-1.43.59L10.3 9.45l-7.72 7.72c-.78.78-.78 2.05 0 2.83L4 21.41c.39.39.9.59 1.41.59.51 0 1.02-.2 1.41-.59l7.78-7.78 2.81-2.81c.8-.78.8-2.07 0-2.86zM5.41 20L4 18.59l7.72-7.72 1.47 1.35L5.41 20z\"/>\n",
              "  </svg>\n",
              "      </button>\n",
              "      \n",
              "  <style>\n",
              "    .colab-df-container {\n",
              "      display:flex;\n",
              "      flex-wrap:wrap;\n",
              "      gap: 12px;\n",
              "    }\n",
              "\n",
              "    .colab-df-convert {\n",
              "      background-color: #E8F0FE;\n",
              "      border: none;\n",
              "      border-radius: 50%;\n",
              "      cursor: pointer;\n",
              "      display: none;\n",
              "      fill: #1967D2;\n",
              "      height: 32px;\n",
              "      padding: 0 0 0 0;\n",
              "      width: 32px;\n",
              "    }\n",
              "\n",
              "    .colab-df-convert:hover {\n",
              "      background-color: #E2EBFA;\n",
              "      box-shadow: 0px 1px 2px rgba(60, 64, 67, 0.3), 0px 1px 3px 1px rgba(60, 64, 67, 0.15);\n",
              "      fill: #174EA6;\n",
              "    }\n",
              "\n",
              "    [theme=dark] .colab-df-convert {\n",
              "      background-color: #3B4455;\n",
              "      fill: #D2E3FC;\n",
              "    }\n",
              "\n",
              "    [theme=dark] .colab-df-convert:hover {\n",
              "      background-color: #434B5C;\n",
              "      box-shadow: 0px 1px 3px 1px rgba(0, 0, 0, 0.15);\n",
              "      filter: drop-shadow(0px 1px 2px rgba(0, 0, 0, 0.3));\n",
              "      fill: #FFFFFF;\n",
              "    }\n",
              "  </style>\n",
              "\n",
              "      <script>\n",
              "        const buttonEl =\n",
              "          document.querySelector('#df-e47c656a-2395-4c27-a8a8-c44577bc1060 button.colab-df-convert');\n",
              "        buttonEl.style.display =\n",
              "          google.colab.kernel.accessAllowed ? 'block' : 'none';\n",
              "\n",
              "        async function convertToInteractive(key) {\n",
              "          const element = document.querySelector('#df-e47c656a-2395-4c27-a8a8-c44577bc1060');\n",
              "          const dataTable =\n",
              "            await google.colab.kernel.invokeFunction('convertToInteractive',\n",
              "                                                     [key], {});\n",
              "          if (!dataTable) return;\n",
              "\n",
              "          const docLinkHtml = 'Like what you see? Visit the ' +\n",
              "            '<a target=\"_blank\" href=https://colab.research.google.com/notebooks/data_table.ipynb>data table notebook</a>'\n",
              "            + ' to learn more about interactive tables.';\n",
              "          element.innerHTML = '';\n",
              "          dataTable['output_type'] = 'display_data';\n",
              "          await google.colab.output.renderOutput(dataTable, element);\n",
              "          const docLink = document.createElement('div');\n",
              "          docLink.innerHTML = docLinkHtml;\n",
              "          element.appendChild(docLink);\n",
              "        }\n",
              "      </script>\n",
              "    </div>\n",
              "  </div>\n",
              "  "
            ]
          },
          "metadata": {},
          "execution_count": 65
        }
      ]
    },
    {
      "cell_type": "code",
      "source": [
        "data.isnull().sum()"
      ],
      "metadata": {
        "id": "LXLWpImJB0EZ",
        "colab": {
          "base_uri": "https://localhost:8080/"
        },
        "outputId": "0040fb91-1309-4e2f-ea44-550c08c396a6"
      },
      "execution_count": 66,
      "outputs": [
        {
          "output_type": "execute_result",
          "data": {
            "text/plain": [
              "date                 0\n",
              "ip                   0\n",
              "app_name             0\n",
              "app_ver              0\n",
              "isp                 11\n",
              "connection_type     59\n",
              "default_language     0\n",
              "revenue              0\n",
              "dtype: int64"
            ]
          },
          "metadata": {},
          "execution_count": 66
        }
      ]
    },
    {
      "cell_type": "code",
      "source": [
        "data.date.value_counts().plot()\n"
      ],
      "metadata": {
        "colab": {
          "base_uri": "https://localhost:8080/",
          "height": 288
        },
        "id": "8m0jjCgpXv4s",
        "outputId": "4bf1254e-9659-4d9a-b5c0-65800f507773"
      },
      "execution_count": 67,
      "outputs": [
        {
          "output_type": "execute_result",
          "data": {
            "text/plain": [
              "<matplotlib.axes._subplots.AxesSubplot at 0x7f325bd76b10>"
            ]
          },
          "metadata": {},
          "execution_count": 67
        },
        {
          "output_type": "display_data",
          "data": {
            "text/plain": [
              "<Figure size 432x288 with 1 Axes>"
            ],
            "image/png": "[encoded data removed]"
          },
          "metadata": {
            "needs_background": "light"
          }
        }
      ]
    },
    {
      "cell_type": "code",
      "source": [
        "#check user frequency of users \n",
        "#calculate count of values by group\n",
        "df_name_freq = data.groupby(['app_name'])['ip'].count()\n",
        "\n",
        "#create bar plot by group\n",
        "df_name_freq = df_name_freq.sort_values(ascending=False)\n",
        "df_name_freq.plot(kind='bar',  figsize=(30, 10))"
      ],
      "metadata": {
        "id": "_MaTgBIs-La0",
        "colab": {
          "base_uri": "https://localhost:8080/",
          "height": 687
        },
        "outputId": "89a55b3e-57bc-41a6-fb00-fc922f5a85c5"
      },
      "execution_count": 68,
      "outputs": [
        {
          "output_type": "execute_result",
          "data": {
            "text/plain": [
              "<matplotlib.axes._subplots.AxesSubplot at 0x7f325bb82b50>"
            ]
          },
          "metadata": {},
          "execution_count": 68
        },
        {
          "output_type": "display_data",
          "data": {
            "text/plain": [
              "<Figure size 2160x720 with 1 Axes>"
            ],
            "image/png": "[encoded data removed]"
          },
          "metadata": {
            "needs_background": "light"
          }
        }
      ]
    },
    {
      "cell_type": "markdown",
      "source": [
        "#Churn\n",
        "Any user who visits any of the applications, details like user_id and ip are recorded. We are going to check over the duration of 77 days the frequency of returning users.\n",
        "Users who visited only once are going to be classified as users who churned.\n",
        "\n",
        "*   **Churn = Lost Customers ÷ Total Customers**\n",
        "\n",
        "\n",
        "\n"
      ],
      "metadata": {
        "id": "fliWFhUl1xwD"
      }
    },
    {
      "cell_type": "markdown",
      "source": [
        "#Checking count of repeating ips"
      ],
      "metadata": {
        "id": "9-ryw3xH9i-M"
      }
    },
    {
      "cell_type": "code",
      "source": [
        "#Print records existing unique user ips\n",
        "print(data['ip'].nunique())"
      ],
      "metadata": {
        "colab": {
          "base_uri": "https://localhost:8080/"
        },
        "id": "D4yNqFAbSBIE",
        "outputId": "5e3f3323-776c-437d-dee6-83df582035b6"
      },
      "execution_count": 69,
      "outputs": [
        {
          "output_type": "stream",
          "name": "stdout",
          "text": [
            "4165\n"
          ]
        }
      ]
    },
    {
      "cell_type": "code",
      "source": [
        "#Checking for users who visited at least once\n",
        "data['ip'].value_counts()\n",
        "visit_once = data['ip'].value_counts().loc[lambda x : x==1]\n",
        "len(visit_once)"
      ],
      "metadata": {
        "colab": {
          "base_uri": "https://localhost:8080/"
        },
        "id": "lgpWNdYo7RAb",
        "outputId": "cab58c2d-cc39-4580-9fd4-17d4f5c8720c"
      },
      "execution_count": 70,
      "outputs": [
        {
          "output_type": "execute_result",
          "data": {
            "text/plain": [
              "4070"
            ]
          },
          "metadata": {},
          "execution_count": 70
        }
      ]
    },
    {
      "cell_type": "code",
      "source": [
        "# Checking for users who visited more than once\n",
        "returning_users = data['ip'].value_counts().loc[lambda x : x!=1]\n",
        "len(returning_users)"
      ],
      "metadata": {
        "colab": {
          "base_uri": "https://localhost:8080/"
        },
        "id": "x77Yuzhe9pwE",
        "outputId": "e7a4d7e5-02be-4729-a6fc-33165ba71bc6"
      },
      "execution_count": 71,
      "outputs": [
        {
          "output_type": "execute_result",
          "data": {
            "text/plain": [
              "95"
            ]
          },
          "metadata": {},
          "execution_count": 71
        }
      ]
    },
    {
      "cell_type": "code",
      "source": [
        "#Check the Last app visit date\n",
        "last_visit_date = data['date'].dt.date.max()\n",
        "print(last_visit_date)"
      ],
      "metadata": {
        "colab": {
          "base_uri": "https://localhost:8080/"
        },
        "id": "Lk1zON4TRgnJ",
        "outputId": "336c17cc-52e8-46f7-eb57-83733310c394"
      },
      "execution_count": 72,
      "outputs": [
        {
          "output_type": "stream",
          "name": "stdout",
          "text": [
            "2022-10-20\n"
          ]
        }
      ]
    },
    {
      "cell_type": "code",
      "source": [
        "data['ip'].value_counts().plot(kind='hist', bins=20, title='Count of IP Addresses')"
      ],
      "metadata": {
        "colab": {
          "base_uri": "https://localhost:8080/",
          "height": 298
        },
        "id": "o55sc_c9hwIq",
        "outputId": "818de2d2-5b6c-4c4d-e886-ba791a509c96"
      },
      "execution_count": 73,
      "outputs": [
        {
          "output_type": "execute_result",
          "data": {
            "text/plain": [
              "<matplotlib.axes._subplots.AxesSubplot at 0x7f325ba34110>"
            ]
          },
          "metadata": {},
          "execution_count": 73
        },
        {
          "output_type": "display_data",
          "data": {
            "text/plain": [
              "<Figure size 432x288 with 1 Axes>"
            ],
            "image/png": "[encoded data removed]"
          },
          "metadata": {
            "needs_background": "light"
          }
        }
      ]
    },
    {
      "cell_type": "code",
      "source": [
        "from lifetimes.plotting import *\n",
        "from lifetimes.utils import *\n",
        "#Built-in utility functions from lifetimes package to transform the transactional data (one row per visit) \n",
        "#into summary data (frequency, recency, and age)\n",
        "\n",
        "data_df = summary_data_from_transaction_data(data, 'ip', 'date', observation_period_end='2022-10-20')\n",
        "data_df = data_df.reset_index()\n",
        "data_df.head()"
      ],
      "metadata": {
        "colab": {
          "base_uri": "https://localhost:8080/",
          "height": 206
        },
        "id": "UH_U_rG1Rght",
        "outputId": "c0698ddc-77dd-4205-ccd3-198760e64988"
      },
      "execution_count": 74,
      "outputs": [
        {
          "output_type": "execute_result",
          "data": {
            "text/plain": [
              "             ip  frequency  recency     T\n",
              "0  1.123.101.22        0.0      0.0   0.0\n",
              "1  1.123.147.77        0.0      0.0  24.0\n",
              "2  1.147.96.230        0.0      0.0  13.0\n",
              "3  1.152.109.42        0.0      0.0  22.0\n",
              "4    1.157.5.57        0.0      0.0   0.0"
            ],
            "text/html": [
              "\n",
              "  <div id=\"df-e424c70c-1529-4d2c-b976-608e84cfb566\">\n",
              "    <div class=\"colab-df-container\">\n",
              "      <div>\n",
              "<style scoped>\n",
              "    .dataframe tbody tr th:only-of-type {\n",
              "        vertical-align: middle;\n",
              "    }\n",
              "\n",
              "    .dataframe tbody tr th {\n",
              "        vertical-align: top;\n",
              "    }\n",
              "\n",
              "    .dataframe thead th {\n",
              "        text-align: right;\n",
              "    }\n",
              "</style>\n",
              "<table border=\"1\" class=\"dataframe\">\n",
              "  <thead>\n",
              "    <tr style=\"text-align: right;\">\n",
              "      <th></th>\n",
              "      <th>ip</th>\n",
              "      <th>frequency</th>\n",
              "      <th>recency</th>\n",
              "      <th>T</th>\n",
              "    </tr>\n",
              "  </thead>\n",
              "  <tbody>\n",
              "    <tr>\n",
              "      <th>0</th>\n",
              "      <td>1.123.101.22</td>\n",
              "      <td>0.0</td>\n",
              "      <td>0.0</td>\n",
              "      <td>0.0</td>\n",
              "    </tr>\n",
              "    <tr>\n",
              "      <th>1</th>\n",
              "      <td>1.123.147.77</td>\n",
              "      <td>0.0</td>\n",
              "      <td>0.0</td>\n",
              "      <td>24.0</td>\n",
              "    </tr>\n",
              "    <tr>\n",
              "      <th>2</th>\n",
              "      <td>1.147.96.230</td>\n",
              "      <td>0.0</td>\n",
              "      <td>0.0</td>\n",
              "      <td>13.0</td>\n",
              "    </tr>\n",
              "    <tr>\n",
              "      <th>3</th>\n",
              "      <td>1.152.109.42</td>\n",
              "      <td>0.0</td>\n",
              "      <td>0.0</td>\n",
              "      <td>22.0</td>\n",
              "    </tr>\n",
              "    <tr>\n",
              "      <th>4</th>\n",
              "      <td>1.157.5.57</td>\n",
              "      <td>0.0</td>\n",
              "      <td>0.0</td>\n",
              "      <td>0.0</td>\n",
              "    </tr>\n",
              "  </tbody>\n",
              "</table>\n",
              "</div>\n",
              "      <button class=\"colab-df-convert\" onclick=\"convertToInteractive('df-e424c70c-1529-4d2c-b976-608e84cfb566')\"\n",
              "              title=\"Convert this dataframe to an interactive table.\"\n",
              "              style=\"display:none;\">\n",
              "        \n",
              "  <svg xmlns=\"http://www.w3.org/2000/svg\" height=\"24px\"viewBox=\"0 0 24 24\"\n",
              "       width=\"24px\">\n",
              "    <path d=\"M0 0h24v24H0V0z\" fill=\"none\"/>\n",
              "    <path d=\"M18.56 5.44l.94 2.06.94-2.06 2.06-.94-2.06-.94-.94-2.06-.94 2.06-2.06.94zm-11 1L8.5 8.5l.94-2.06 2.06-.94-2.06-.94L8.5 2.5l-.94 2.06-2.06.94zm10 10l.94 2.06.94-2.06 2.06-.94-2.06-.94-.94-2.06-.94 2.06-2.06.94z\"/><path d=\"M17.41 7.96l-1.37-1.37c-.4-.4-.92-.59-1.43-.59-.52 0-1.04.2-1.43.59L10.3 9.45l-7.72 7.72c-.78.78-.78 2.05 0 2.83L4 21.41c.39.39.9.59 1.41.59.51 0 1.02-.2 1.41-.59l7.78-7.78 2.81-2.81c.8-.78.8-2.07 0-2.86zM5.41 20L4 18.59l7.72-7.72 1.47 1.35L5.41 20z\"/>\n",
              "  </svg>\n",
              "      </button>\n",
              "      \n",
              "  <style>\n",
              "    .colab-df-container {\n",
              "      display:flex;\n",
              "      flex-wrap:wrap;\n",
              "      gap: 12px;\n",
              "    }\n",
              "\n",
              "    .colab-df-convert {\n",
              "      background-color: #E8F0FE;\n",
              "      border: none;\n",
              "      border-radius: 50%;\n",
              "      cursor: pointer;\n",
              "      display: none;\n",
              "      fill: #1967D2;\n",
              "      height: 32px;\n",
              "      padding: 0 0 0 0;\n",
              "      width: 32px;\n",
              "    }\n",
              "\n",
              "    .colab-df-convert:hover {\n",
              "      background-color: #E2EBFA;\n",
              "      box-shadow: 0px 1px 2px rgba(60, 64, 67, 0.3), 0px 1px 3px 1px rgba(60, 64, 67, 0.15);\n",
              "      fill: #174EA6;\n",
              "    }\n",
              "\n",
              "    [theme=dark] .colab-df-convert {\n",
              "      background-color: #3B4455;\n",
              "      fill: #D2E3FC;\n",
              "    }\n",
              "\n",
              "    [theme=dark] .colab-df-convert:hover {\n",
              "      background-color: #434B5C;\n",
              "      box-shadow: 0px 1px 3px 1px rgba(0, 0, 0, 0.15);\n",
              "      filter: drop-shadow(0px 1px 2px rgba(0, 0, 0, 0.3));\n",
              "      fill: #FFFFFF;\n",
              "    }\n",
              "  </style>\n",
              "\n",
              "      <script>\n",
              "        const buttonEl =\n",
              "          document.querySelector('#df-e424c70c-1529-4d2c-b976-608e84cfb566 button.colab-df-convert');\n",
              "        buttonEl.style.display =\n",
              "          google.colab.kernel.accessAllowed ? 'block' : 'none';\n",
              "\n",
              "        async function convertToInteractive(key) {\n",
              "          const element = document.querySelector('#df-e424c70c-1529-4d2c-b976-608e84cfb566');\n",
              "          const dataTable =\n",
              "            await google.colab.kernel.invokeFunction('convertToInteractive',\n",
              "                                                     [key], {});\n",
              "          if (!dataTable) return;\n",
              "\n",
              "          const docLinkHtml = 'Like what you see? Visit the ' +\n",
              "            '<a target=\"_blank\" href=https://colab.research.google.com/notebooks/data_table.ipynb>data table notebook</a>'\n",
              "            + ' to learn more about interactive tables.';\n",
              "          element.innerHTML = '';\n",
              "          dataTable['output_type'] = 'display_data';\n",
              "          await google.colab.output.renderOutput(dataTable, element);\n",
              "          const docLink = document.createElement('div');\n",
              "          docLink.innerHTML = docLinkHtml;\n",
              "          element.appendChild(docLink);\n",
              "        }\n",
              "      </script>\n",
              "    </div>\n",
              "  </div>\n",
              "  "
            ]
          },
          "metadata": {},
          "execution_count": 74
        }
      ]
    },
    {
      "cell_type": "markdown",
      "source": [
        "**Context**\n",
        "*   **Frequency: represents count of times a user visits**\n",
        "*   **Recency: represents time in days since a user last visited**\n",
        "*   **T: represents time in days since a user last visited from the last day**\n",
        "\n",
        "\n",
        "\n",
        "\n"
      ],
      "metadata": {
        "id": "o9X1Fz3HWi0K"
      }
    },
    {
      "cell_type": "code",
      "source": [
        "data_df.shape"
      ],
      "metadata": {
        "colab": {
          "base_uri": "https://localhost:8080/"
        },
        "id": "DbuZjUBdV1Bw",
        "outputId": "2dfb2d2c-2f43-4005-b7fb-aa878b890103"
      },
      "execution_count": null,
      "outputs": [
        {
          "output_type": "execute_result",
          "data": {
            "text/plain": [
              "(4166, 4)"
            ]
          },
          "metadata": {},
          "execution_count": 55
        }
      ]
    },
    {
      "cell_type": "code",
      "source": [
        "data_df['recency'].max(), data_df['frequency'].max(), "
      ],
      "metadata": {
        "colab": {
          "base_uri": "https://localhost:8080/"
        },
        "id": "cSve-h3URgTd",
        "outputId": "135dce32-7fec-4cc7-c724-d62488c5dbd9"
      },
      "execution_count": null,
      "outputs": [
        {
          "output_type": "execute_result",
          "data": {
            "text/plain": [
              "(74.0, 3.0)"
            ]
          },
          "metadata": {},
          "execution_count": 56
        }
      ]
    },
    {
      "cell_type": "code",
      "source": [
        "%matplotlib inline\n",
        "#Create histogram to find out how many customers purchased item only once.\n",
        "data_df['frequency'].plot(kind='hist', bins=10)\n",
        "print(data_df['frequency'].describe())\n",
        "print(\"---------------------------------------\")\n",
        "one_time_visitors = round(sum(data_df['frequency'] == 0)/float(len(data_df))*(100),2)\n",
        "print(\"Percentage of users visiting only once:\", one_time_visitors ,\"%\")"
      ],
      "metadata": {
        "colab": {
          "base_uri": "https://localhost:8080/",
          "height": 456
        },
        "id": "46ktizJzRgPx",
        "outputId": "f878b93e-6271-46e6-9f25-2c67afbc38f4"
      },
      "execution_count": 40,
      "outputs": [
        {
          "output_type": "stream",
          "name": "stdout",
          "text": [
            "count    4165.000000\n",
            "mean        0.012485\n",
            "std         0.121382\n",
            "min         0.000000\n",
            "25%         0.000000\n",
            "50%         0.000000\n",
            "75%         0.000000\n",
            "max         3.000000\n",
            "Name: frequency, dtype: float64\n",
            "---------------------------------------\n",
            "Percentage of users visiting only once: 98.85 %\n"
          ]
        },
        {
          "output_type": "display_data",
          "data": {
            "text/plain": [
              "<Figure size 432x288 with 1 Axes>"
            ],
            "image/png": "[encoded data removed]"
          },
          "metadata": {
            "needs_background": "light"
          }
        }
      ]
    },
    {
      "cell_type": "code",
      "source": [
        "data_df['frequency'].value_counts()"
      ],
      "metadata": {
        "colab": {
          "base_uri": "https://localhost:8080/"
        },
        "id": "qu4vZzr-RgLc",
        "outputId": "9a854f2a-99bd-4705-8f46-62221b9989e3"
      },
      "execution_count": null,
      "outputs": [
        {
          "output_type": "execute_result",
          "data": {
            "text/plain": [
              "0.0    4118\n",
              "1.0      45\n",
              "2.0       2\n",
              "3.0       1\n",
              "Name: frequency, dtype: int64"
            ]
          },
          "metadata": {},
          "execution_count": 58
        }
      ]
    },
    {
      "cell_type": "code",
      "source": [
        "data['ip'].value_counts(ascending=False)"
      ],
      "metadata": {
        "colab": {
          "base_uri": "https://localhost:8080/"
        },
        "id": "iL4YtGZmRyQt",
        "outputId": "e9db1d29-bd7d-48a7-fd7d-6f14c02af7bd"
      },
      "execution_count": null,
      "outputs": [
        {
          "output_type": "execute_result",
          "data": {
            "text/plain": [
              "178.118.24.64                              7601\n",
              "176.112.65.246                               10\n",
              "36.255.44.74                                  4\n",
              "154.27.65.112                                 4\n",
              "46.39.65.243                                  3\n",
              "                                           ... \n",
              "109.101.200.58                                1\n",
              "2600:1005:b15e:597a:e436:8c9e:7981:51e0       1\n",
              "2402:800:63b4:e6b2:10ec:aefa:97d3:da91        1\n",
              "154.121.31.241                                1\n",
              "185.183.107.142                               1\n",
              "Name: ip, Length: 4166, dtype: int64"
            ]
          },
          "metadata": {},
          "execution_count": 60
        }
      ]
    },
    {
      "cell_type": "code",
      "source": [],
      "metadata": {
        "id": "4AVXqL9eOyaf"
      },
      "execution_count": null,
      "outputs": []
    },
    {
      "cell_type": "code",
      "source": [],
      "metadata": {
        "id": "XrTV4FVFOyJ_"
      },
      "execution_count": null,
      "outputs": []
    },
    {
      "cell_type": "code",
      "source": [],
      "metadata": {
        "id": "A_AnMxnKOxz1"
      },
      "execution_count": null,
      "outputs": []
    },
    {
      "cell_type": "code",
      "source": [
        "#Frequency/Recency Analysis Using the BG/NBD Model\n",
        "from lifetimes import BetaGeoFitter\n",
        "bgf = BetaGeoFitter(penalizer_coef=0.0)\n",
        "bgf.fit(data_df['frequency'], data_df['recency'], data_df['T'])\n",
        "print(bgf)"
      ],
      "metadata": {
        "colab": {
          "base_uri": "https://localhost:8080/"
        },
        "id": "prRFSDnrRgF-",
        "outputId": "46b044a4-ea8e-40fa-f464-5860cffce10a"
      },
      "execution_count": 42,
      "outputs": [
        {
          "output_type": "stream",
          "name": "stdout",
          "text": [
            "<lifetimes.BetaGeoFitter: fitted with 4165 subjects, a: 1.10, alpha: 5.80, b: 0.14, r: 0.01>\n"
          ]
        }
      ]
    },
    {
      "cell_type": "code",
      "source": [
        "bgf.summary"
      ],
      "metadata": {
        "colab": {
          "base_uri": "https://localhost:8080/",
          "height": 175
        },
        "id": "M82VklVIaRyQ",
        "outputId": "ede99e03-ae36-43eb-88a8-8cf2e6ebd0d2"
      },
      "execution_count": 43,
      "outputs": [
        {
          "output_type": "execute_result",
          "data": {
            "text/plain": [
              "           coef  se(coef)  lower 95% bound  upper 95% bound\n",
              "r      0.006260  0.002019         0.002303         0.010218\n",
              "alpha  5.795297  3.866566        -1.783172        13.373765\n",
              "a      1.102556  1.877163        -2.576682         4.781795\n",
              "b      0.138199  0.254711        -0.361034         0.637432"
            ],
            "text/html": [
              "\n",
              "  <div id=\"df-0eadf225-d6fb-4906-80cc-6973f83d39e1\">\n",
              "    <div class=\"colab-df-container\">\n",
              "      <div>\n",
              "<style scoped>\n",
              "    .dataframe tbody tr th:only-of-type {\n",
              "        vertical-align: middle;\n",
              "    }\n",
              "\n",
              "    .dataframe tbody tr th {\n",
              "        vertical-align: top;\n",
              "    }\n",
              "\n",
              "    .dataframe thead th {\n",
              "        text-align: right;\n",
              "    }\n",
              "</style>\n",
              "<table border=\"1\" class=\"dataframe\">\n",
              "  <thead>\n",
              "    <tr style=\"text-align: right;\">\n",
              "      <th></th>\n",
              "      <th>coef</th>\n",
              "      <th>se(coef)</th>\n",
              "      <th>lower 95% bound</th>\n",
              "      <th>upper 95% bound</th>\n",
              "    </tr>\n",
              "  </thead>\n",
              "  <tbody>\n",
              "    <tr>\n",
              "      <th>r</th>\n",
              "      <td>0.006260</td>\n",
              "      <td>0.002019</td>\n",
              "      <td>0.002303</td>\n",
              "      <td>0.010218</td>\n",
              "    </tr>\n",
              "    <tr>\n",
              "      <th>alpha</th>\n",
              "      <td>5.795297</td>\n",
              "      <td>3.866566</td>\n",
              "      <td>-1.783172</td>\n",
              "      <td>13.373765</td>\n",
              "    </tr>\n",
              "    <tr>\n",
              "      <th>a</th>\n",
              "      <td>1.102556</td>\n",
              "      <td>1.877163</td>\n",
              "      <td>-2.576682</td>\n",
              "      <td>4.781795</td>\n",
              "    </tr>\n",
              "    <tr>\n",
              "      <th>b</th>\n",
              "      <td>0.138199</td>\n",
              "      <td>0.254711</td>\n",
              "      <td>-0.361034</td>\n",
              "      <td>0.637432</td>\n",
              "    </tr>\n",
              "  </tbody>\n",
              "</table>\n",
              "</div>\n",
              "      <button class=\"colab-df-convert\" onclick=\"convertToInteractive('df-0eadf225-d6fb-4906-80cc-6973f83d39e1')\"\n",
              "              title=\"Convert this dataframe to an interactive table.\"\n",
              "              style=\"display:none;\">\n",
              "        \n",
              "  <svg xmlns=\"http://www.w3.org/2000/svg\" height=\"24px\"viewBox=\"0 0 24 24\"\n",
              "       width=\"24px\">\n",
              "    <path d=\"M0 0h24v24H0V0z\" fill=\"none\"/>\n",
              "    <path d=\"M18.56 5.44l.94 2.06.94-2.06 2.06-.94-2.06-.94-.94-2.06-.94 2.06-2.06.94zm-11 1L8.5 8.5l.94-2.06 2.06-.94-2.06-.94L8.5 2.5l-.94 2.06-2.06.94zm10 10l.94 2.06.94-2.06 2.06-.94-2.06-.94-.94-2.06-.94 2.06-2.06.94z\"/><path d=\"M17.41 7.96l-1.37-1.37c-.4-.4-.92-.59-1.43-.59-.52 0-1.04.2-1.43.59L10.3 9.45l-7.72 7.72c-.78.78-.78 2.05 0 2.83L4 21.41c.39.39.9.59 1.41.59.51 0 1.02-.2 1.41-.59l7.78-7.78 2.81-2.81c.8-.78.8-2.07 0-2.86zM5.41 20L4 18.59l7.72-7.72 1.47 1.35L5.41 20z\"/>\n",
              "  </svg>\n",
              "      </button>\n",
              "      \n",
              "  <style>\n",
              "    .colab-df-container {\n",
              "      display:flex;\n",
              "      flex-wrap:wrap;\n",
              "      gap: 12px;\n",
              "    }\n",
              "\n",
              "    .colab-df-convert {\n",
              "      background-color: #E8F0FE;\n",
              "      border: none;\n",
              "      border-radius: 50%;\n",
              "      cursor: pointer;\n",
              "      display: none;\n",
              "      fill: #1967D2;\n",
              "      height: 32px;\n",
              "      padding: 0 0 0 0;\n",
              "      width: 32px;\n",
              "    }\n",
              "\n",
              "    .colab-df-convert:hover {\n",
              "      background-color: #E2EBFA;\n",
              "      box-shadow: 0px 1px 2px rgba(60, 64, 67, 0.3), 0px 1px 3px 1px rgba(60, 64, 67, 0.15);\n",
              "      fill: #174EA6;\n",
              "    }\n",
              "\n",
              "    [theme=dark] .colab-df-convert {\n",
              "      background-color: #3B4455;\n",
              "      fill: #D2E3FC;\n",
              "    }\n",
              "\n",
              "    [theme=dark] .colab-df-convert:hover {\n",
              "      background-color: #434B5C;\n",
              "      box-shadow: 0px 1px 3px 1px rgba(0, 0, 0, 0.15);\n",
              "      filter: drop-shadow(0px 1px 2px rgba(0, 0, 0, 0.3));\n",
              "      fill: #FFFFFF;\n",
              "    }\n",
              "  </style>\n",
              "\n",
              "      <script>\n",
              "        const buttonEl =\n",
              "          document.querySelector('#df-0eadf225-d6fb-4906-80cc-6973f83d39e1 button.colab-df-convert');\n",
              "        buttonEl.style.display =\n",
              "          google.colab.kernel.accessAllowed ? 'block' : 'none';\n",
              "\n",
              "        async function convertToInteractive(key) {\n",
              "          const element = document.querySelector('#df-0eadf225-d6fb-4906-80cc-6973f83d39e1');\n",
              "          const dataTable =\n",
              "            await google.colab.kernel.invokeFunction('convertToInteractive',\n",
              "                                                     [key], {});\n",
              "          if (!dataTable) return;\n",
              "\n",
              "          const docLinkHtml = 'Like what you see? Visit the ' +\n",
              "            '<a target=\"_blank\" href=https://colab.research.google.com/notebooks/data_table.ipynb>data table notebook</a>'\n",
              "            + ' to learn more about interactive tables.';\n",
              "          element.innerHTML = '';\n",
              "          dataTable['output_type'] = 'display_data';\n",
              "          await google.colab.output.renderOutput(dataTable, element);\n",
              "          const docLink = document.createElement('div');\n",
              "          docLink.innerHTML = docLinkHtml;\n",
              "          element.appendChild(docLink);\n",
              "        }\n",
              "      </script>\n",
              "    </div>\n",
              "  </div>\n",
              "  "
            ]
          },
          "metadata": {},
          "execution_count": 43
        }
      ]
    },
    {
      "cell_type": "code",
      "source": [
        "#Visualizing our frequency/recency matrix\n",
        "%matplotlib inline\n",
        "import matplotlib.pyplot as plt\n",
        "from lifetimes.plotting import plot_frequency_recency_matrix\n",
        "fig = plt.figure(figsize=(12,8))\n",
        "plot_frequency_recency_matrix(bgf)"
      ],
      "metadata": {
        "colab": {
          "base_uri": "https://localhost:8080/",
          "height": 545
        },
        "id": "BEamjQrVRgB_",
        "outputId": "fb36cb76-38f6-487e-9692-29dde186c902"
      },
      "execution_count": 44,
      "outputs": [
        {
          "output_type": "execute_result",
          "data": {
            "text/plain": [
              "<matplotlib.axes._subplots.AxesSubplot at 0x7f325eaeefd0>"
            ]
          },
          "metadata": {},
          "execution_count": 44
        },
        {
          "output_type": "display_data",
          "data": {
            "text/plain": [
              "<Figure size 864x576 with 2 Axes>"
            ],
            "image/png": "[encoded data removed]"
          },
          "metadata": {
            "needs_background": "light"
          }
        }
      ]
    },
    {
      "cell_type": "code",
      "source": [
        "#predict if the customers are surely alive:\n",
        "from lifetimes.plotting import plot_probability_alive_matrix\n",
        "fig = plt.figure(figsize=(12,8))\n",
        "plot_probability_alive_matrix(bgf)"
      ],
      "metadata": {
        "colab": {
          "base_uri": "https://localhost:8080/",
          "height": 545
        },
        "id": "-4SZUVb_Rf9N",
        "outputId": "012e5834-f0bb-4846-e0ed-1a28188934a4"
      },
      "execution_count": 45,
      "outputs": [
        {
          "output_type": "execute_result",
          "data": {
            "text/plain": [
              "<matplotlib.axes._subplots.AxesSubplot at 0x7f325ea8a250>"
            ]
          },
          "metadata": {},
          "execution_count": 45
        },
        {
          "output_type": "display_data",
          "data": {
            "text/plain": [
              "<Figure size 864x576 with 2 Axes>"
            ],
            "image/png": "[encoded data removed]"
          },
          "metadata": {
            "needs_background": "light"
          }
        }
      ]
    },
    {
      "cell_type": "code",
      "source": [
        "#Predict future transaction in next 10 days i.e.top 10 customers that the model expects them to make purchases \n",
        "#in the next 10 days, based on historical data\n",
        "\n",
        "t = 90\n",
        "data_df['pred_num_txn'] = round(bgf.conditional_expected_number_of_purchases_up_to_time(t, data_df['frequency'], data_df['recency'], data_df['T']),2)\n",
        "data_df.sort_values(by='pred_num_txn', ascending=False).head(10).reset_index()"
      ],
      "metadata": {
        "colab": {
          "base_uri": "https://localhost:8080/",
          "height": 363
        },
        "id": "Yqv2MiYURf2l",
        "outputId": "81c9fd13-a590-42ad-b68e-e24c517564af"
      },
      "execution_count": 46,
      "outputs": [
        {
          "output_type": "execute_result",
          "data": {
            "text/plain": [
              "   index               ip  frequency  recency     T  pred_num_txn\n",
              "0   2716     36.255.44.74        3.0     74.0  77.0          1.38\n",
              "1   3279    66.249.66.210        2.0     25.0  25.0          1.36\n",
              "2   3390   70.130.112.237        1.0     15.0  15.0          0.19\n",
              "3   3138    51.81.116.103        1.0     23.0  29.0          0.12\n",
              "4    340   121.66.144.141        1.0     39.0  41.0          0.12\n",
              "5   1746  192.227.119.213        1.0     23.0  29.0          0.12\n",
              "6    581     154.27.65.82        1.0     23.0  29.0          0.12\n",
              "7    580    154.27.65.112        1.0     23.0  29.0          0.12\n",
              "8   2169   209.236.122.58        1.0     23.0  29.0          0.12\n",
              "9   3407    71.10.120.217        1.0     59.0  60.0          0.10"
            ],
            "text/html": [
              "\n",
              "  <div id=\"df-03a717e3-6044-4f64-9fa3-aa51434ecc5a\">\n",
              "    <div class=\"colab-df-container\">\n",
              "      <div>\n",
              "<style scoped>\n",
              "    .dataframe tbody tr th:only-of-type {\n",
              "        vertical-align: middle;\n",
              "    }\n",
              "\n",
              "    .dataframe tbody tr th {\n",
              "        vertical-align: top;\n",
              "    }\n",
              "\n",
              "    .dataframe thead th {\n",
              "        text-align: right;\n",
              "    }\n",
              "</style>\n",
              "<table border=\"1\" class=\"dataframe\">\n",
              "  <thead>\n",
              "    <tr style=\"text-align: right;\">\n",
              "      <th></th>\n",
              "      <th>index</th>\n",
              "      <th>ip</th>\n",
              "      <th>frequency</th>\n",
              "      <th>recency</th>\n",
              "      <th>T</th>\n",
              "      <th>pred_num_txn</th>\n",
              "    </tr>\n",
              "  </thead>\n",
              "  <tbody>\n",
              "    <tr>\n",
              "      <th>0</th>\n",
              "      <td>2716</td>\n",
              "      <td>36.255.44.74</td>\n",
              "      <td>3.0</td>\n",
              "      <td>74.0</td>\n",
              "      <td>77.0</td>\n",
              "      <td>1.38</td>\n",
              "    </tr>\n",
              "    <tr>\n",
              "      <th>1</th>\n",
              "      <td>3279</td>\n",
              "      <td>66.249.66.210</td>\n",
              "      <td>2.0</td>\n",
              "      <td>25.0</td>\n",
              "      <td>25.0</td>\n",
              "      <td>1.36</td>\n",
              "    </tr>\n",
              "    <tr>\n",
              "      <th>2</th>\n",
              "      <td>3390</td>\n",
              "      <td>70.130.112.237</td>\n",
              "      <td>1.0</td>\n",
              "      <td>15.0</td>\n",
              "      <td>15.0</td>\n",
              "      <td>0.19</td>\n",
              "    </tr>\n",
              "    <tr>\n",
              "      <th>3</th>\n",
              "      <td>3138</td>\n",
              "      <td>51.81.116.103</td>\n",
              "      <td>1.0</td>\n",
              "      <td>23.0</td>\n",
              "      <td>29.0</td>\n",
              "      <td>0.12</td>\n",
              "    </tr>\n",
              "    <tr>\n",
              "      <th>4</th>\n",
              "      <td>340</td>\n",
              "      <td>121.66.144.141</td>\n",
              "      <td>1.0</td>\n",
              "      <td>39.0</td>\n",
              "      <td>41.0</td>\n",
              "      <td>0.12</td>\n",
              "    </tr>\n",
              "    <tr>\n",
              "      <th>5</th>\n",
              "      <td>1746</td>\n",
              "      <td>192.227.119.213</td>\n",
              "      <td>1.0</td>\n",
              "      <td>23.0</td>\n",
              "      <td>29.0</td>\n",
              "      <td>0.12</td>\n",
              "    </tr>\n",
              "    <tr>\n",
              "      <th>6</th>\n",
              "      <td>581</td>\n",
              "      <td>154.27.65.82</td>\n",
              "      <td>1.0</td>\n",
              "      <td>23.0</td>\n",
              "      <td>29.0</td>\n",
              "      <td>0.12</td>\n",
              "    </tr>\n",
              "    <tr>\n",
              "      <th>7</th>\n",
              "      <td>580</td>\n",
              "      <td>154.27.65.112</td>\n",
              "      <td>1.0</td>\n",
              "      <td>23.0</td>\n",
              "      <td>29.0</td>\n",
              "      <td>0.12</td>\n",
              "    </tr>\n",
              "    <tr>\n",
              "      <th>8</th>\n",
              "      <td>2169</td>\n",
              "      <td>209.236.122.58</td>\n",
              "      <td>1.0</td>\n",
              "      <td>23.0</td>\n",
              "      <td>29.0</td>\n",
              "      <td>0.12</td>\n",
              "    </tr>\n",
              "    <tr>\n",
              "      <th>9</th>\n",
              "      <td>3407</td>\n",
              "      <td>71.10.120.217</td>\n",
              "      <td>1.0</td>\n",
              "      <td>59.0</td>\n",
              "      <td>60.0</td>\n",
              "      <td>0.10</td>\n",
              "    </tr>\n",
              "  </tbody>\n",
              "</table>\n",
              "</div>\n",
              "      <button class=\"colab-df-convert\" onclick=\"convertToInteractive('df-03a717e3-6044-4f64-9fa3-aa51434ecc5a')\"\n",
              "              title=\"Convert this dataframe to an interactive table.\"\n",
              "              style=\"display:none;\">\n",
              "        \n",
              "  <svg xmlns=\"http://www.w3.org/2000/svg\" height=\"24px\"viewBox=\"0 0 24 24\"\n",
              "       width=\"24px\">\n",
              "    <path d=\"M0 0h24v24H0V0z\" fill=\"none\"/>\n",
              "    <path d=\"M18.56 5.44l.94 2.06.94-2.06 2.06-.94-2.06-.94-.94-2.06-.94 2.06-2.06.94zm-11 1L8.5 8.5l.94-2.06 2.06-.94-2.06-.94L8.5 2.5l-.94 2.06-2.06.94zm10 10l.94 2.06.94-2.06 2.06-.94-2.06-.94-.94-2.06-.94 2.06-2.06.94z\"/><path d=\"M17.41 7.96l-1.37-1.37c-.4-.4-.92-.59-1.43-.59-.52 0-1.04.2-1.43.59L10.3 9.45l-7.72 7.72c-.78.78-.78 2.05 0 2.83L4 21.41c.39.39.9.59 1.41.59.51 0 1.02-.2 1.41-.59l7.78-7.78 2.81-2.81c.8-.78.8-2.07 0-2.86zM5.41 20L4 18.59l7.72-7.72 1.47 1.35L5.41 20z\"/>\n",
              "  </svg>\n",
              "      </button>\n",
              "      \n",
              "  <style>\n",
              "    .colab-df-container {\n",
              "      display:flex;\n",
              "      flex-wrap:wrap;\n",
              "      gap: 12px;\n",
              "    }\n",
              "\n",
              "    .colab-df-convert {\n",
              "      background-color: #E8F0FE;\n",
              "      border: none;\n",
              "      border-radius: 50%;\n",
              "      cursor: pointer;\n",
              "      display: none;\n",
              "      fill: #1967D2;\n",
              "      height: 32px;\n",
              "      padding: 0 0 0 0;\n",
              "      width: 32px;\n",
              "    }\n",
              "\n",
              "    .colab-df-convert:hover {\n",
              "      background-color: #E2EBFA;\n",
              "      box-shadow: 0px 1px 2px rgba(60, 64, 67, 0.3), 0px 1px 3px 1px rgba(60, 64, 67, 0.15);\n",
              "      fill: #174EA6;\n",
              "    }\n",
              "\n",
              "    [theme=dark] .colab-df-convert {\n",
              "      background-color: #3B4455;\n",
              "      fill: #D2E3FC;\n",
              "    }\n",
              "\n",
              "    [theme=dark] .colab-df-convert:hover {\n",
              "      background-color: #434B5C;\n",
              "      box-shadow: 0px 1px 3px 1px rgba(0, 0, 0, 0.15);\n",
              "      filter: drop-shadow(0px 1px 2px rgba(0, 0, 0, 0.3));\n",
              "      fill: #FFFFFF;\n",
              "    }\n",
              "  </style>\n",
              "\n",
              "      <script>\n",
              "        const buttonEl =\n",
              "          document.querySelector('#df-03a717e3-6044-4f64-9fa3-aa51434ecc5a button.colab-df-convert');\n",
              "        buttonEl.style.display =\n",
              "          google.colab.kernel.accessAllowed ? 'block' : 'none';\n",
              "\n",
              "        async function convertToInteractive(key) {\n",
              "          const element = document.querySelector('#df-03a717e3-6044-4f64-9fa3-aa51434ecc5a');\n",
              "          const dataTable =\n",
              "            await google.colab.kernel.invokeFunction('convertToInteractive',\n",
              "                                                     [key], {});\n",
              "          if (!dataTable) return;\n",
              "\n",
              "          const docLinkHtml = 'Like what you see? Visit the ' +\n",
              "            '<a target=\"_blank\" href=https://colab.research.google.com/notebooks/data_table.ipynb>data table notebook</a>'\n",
              "            + ' to learn more about interactive tables.';\n",
              "          element.innerHTML = '';\n",
              "          dataTable['output_type'] = 'display_data';\n",
              "          await google.colab.output.renderOutput(dataTable, element);\n",
              "          const docLink = document.createElement('div');\n",
              "          docLink.innerHTML = docLinkHtml;\n",
              "          element.appendChild(docLink);\n",
              "        }\n",
              "      </script>\n",
              "    </div>\n",
              "  </div>\n",
              "  "
            ]
          },
          "metadata": {},
          "execution_count": 46
        }
      ]
    },
    {
      "cell_type": "code",
      "source": [
        "#Assessing model fit\n",
        "from lifetimes.plotting import plot_period_transactions\n",
        "plot_period_transactions(bgf)"
      ],
      "metadata": {
        "colab": {
          "base_uri": "https://localhost:8080/",
          "height": 379
        },
        "id": "ZmZYidc0Rfvp",
        "outputId": "8998890e-d3ec-4740-fc66-9cc6102b0799"
      },
      "execution_count": null,
      "outputs": [
        {
          "output_type": "stream",
          "name": "stderr",
          "text": [
            "/usr/local/lib/python3.7/dist-packages/lifetimes/generate_data.py:54: RuntimeWarning: divide by zero encountered in double_scalars\n",
            "  next_purchase_in = random.exponential(scale=1.0 / l)\n",
            "/usr/local/lib/python3.7/dist-packages/lifetimes/generate_data.py:54: RuntimeWarning: overflow encountered in double_scalars\n",
            "  next_purchase_in = random.exponential(scale=1.0 / l)\n"
          ]
        },
        {
          "output_type": "execute_result",
          "data": {
            "text/plain": [
              "<matplotlib.axes._subplots.AxesSubplot at 0x7fab2a8fc490>"
            ]
          },
          "metadata": {},
          "execution_count": 57
        },
        {
          "output_type": "display_data",
          "data": {
            "text/plain": [
              "<Figure size 432x288 with 1 Axes>"
            ],
            "image/png": "[encoded data removed]"
          },
          "metadata": {
            "needs_background": "light"
          }
        }
      ]
    },
    {
      "cell_type": "code",
      "source": [
        "data_df.loc[2717]"
      ],
      "metadata": {
        "colab": {
          "base_uri": "https://localhost:8080/"
        },
        "id": "AYtPgGo3gdSX",
        "outputId": "eff778d2-0a44-4938-ffc7-f9ff999202ac"
      },
      "execution_count": 47,
      "outputs": [
        {
          "output_type": "execute_result",
          "data": {
            "text/plain": [
              "ip              36.37.185.82\n",
              "frequency                0.0\n",
              "recency                  0.0\n",
              "T                       68.0\n",
              "pred_num_txn            0.01\n",
              "Name: 2717, dtype: object"
            ]
          },
          "metadata": {},
          "execution_count": 47
        }
      ]
    },
    {
      "cell_type": "code",
      "source": [
        "#Customer's future transaction prediction for next 10 days\n",
        "\n",
        "t = 90\n",
        "individual = data_df.loc[2717]\n",
        "bgf.predict(t, individual['frequency'], individual['recency'], individual['T'])\n",
        "\n",
        "#OBSERVATION: Our model predicts that user 1.123.101.22 future visits in 90 days."
      ],
      "metadata": {
        "colab": {
          "base_uri": "https://localhost:8080/"
        },
        "id": "ODWPjZJ0RfsG",
        "outputId": "2ee22ab2-4cb5-45d8-fa95-594601c5af8c"
      },
      "execution_count": 48,
      "outputs": [
        {
          "output_type": "execute_result",
          "data": {
            "text/plain": [
              "0.005202001482287274"
            ]
          },
          "metadata": {},
          "execution_count": 48
        }
      ]
    },
    {
      "cell_type": "markdown",
      "source": [
        "#User Lifetime Value = Customer Value * Average Customer Lifespan"
      ],
      "metadata": {
        "id": "aREvECd4iGxi"
      }
    },
    {
      "cell_type": "code",
      "source": [
        "data_df['frequency'].value_counts()"
      ],
      "metadata": {
        "colab": {
          "base_uri": "https://localhost:8080/"
        },
        "id": "SK4GloI97xVG",
        "outputId": "9dc38b54-6e12-4e90-d498-fbb3d2df5fa2"
      },
      "execution_count": 56,
      "outputs": [
        {
          "output_type": "execute_result",
          "data": {
            "text/plain": [
              "0.0    4117\n",
              "1.0      45\n",
              "2.0       2\n",
              "3.0       1\n",
              "Name: frequency, dtype: int64"
            ]
          },
          "metadata": {},
          "execution_count": 56
        }
      ]
    },
    {
      "cell_type": "code",
      "source": [
        "4117+45+2+1"
      ],
      "metadata": {
        "id": "SoNQlo1Q7xIR",
        "colab": {
          "base_uri": "https://localhost:8080/"
        },
        "outputId": "5e2d9ae7-0a93-4e23-816d-63ab83e8f9ed"
      },
      "execution_count": 57,
      "outputs": [
        {
          "output_type": "execute_result",
          "data": {
            "text/plain": [
              "4165"
            ]
          },
          "metadata": {},
          "execution_count": 57
        }
      ]
    },
    {
      "cell_type": "code",
      "source": [
        "4117/4165"
      ],
      "metadata": {
        "id": "AEAcLN9I7w_R",
        "colab": {
          "base_uri": "https://localhost:8080/"
        },
        "outputId": "f7487dac-cdb2-49a6-9c6f-885f42f7d7ac"
      },
      "execution_count": 58,
      "outputs": [
        {
          "output_type": "execute_result",
          "data": {
            "text/plain": [
              "0.9884753901560625"
            ]
          },
          "metadata": {},
          "execution_count": 58
        }
      ]
    },
    {
      "cell_type": "code",
      "source": [],
      "metadata": {
        "id": "bRX0mZpqjOli"
      },
      "execution_count": null,
      "outputs": []
    },
    {
      "cell_type": "code",
      "source": [],
      "metadata": {
        "id": "ZIzjEOxTjOeq"
      },
      "execution_count": null,
      "outputs": []
    },
    {
      "cell_type": "code",
      "source": [],
      "metadata": {
        "id": "vsIWvojyjOUK"
      },
      "execution_count": null,
      "outputs": []
    },
    {
      "cell_type": "code",
      "source": [],
      "metadata": {
        "id": "jwIGRCYrjOHK"
      },
      "execution_count": null,
      "outputs": []
    },
    {
      "cell_type": "markdown",
      "source": [
        "### From this we can see a huge number of people have visited once. We will create a new 'churn' feature with values \"yes\" and \"no\""
      ],
      "metadata": {
        "id": "Oapsb-Gu98HC"
      }
    },
    {
      "cell_type": "code",
      "source": [
        "data"
      ],
      "metadata": {
        "colab": {
          "base_uri": "https://localhost:8080/",
          "height": 424
        },
        "id": "SltUq0iouNPx",
        "outputId": "8c41e4be-c8f9-43a3-d3cc-f2739b0a82b7"
      },
      "execution_count": 75,
      "outputs": [
        {
          "output_type": "execute_result",
          "data": {
            "text/plain": [
              "            date                                       ip            app_name  \\\n",
              "0     2022-08-05                             97.118.20.38         Aquarium TV   \n",
              "1     2022-08-05                          189.203.104.188            ADULTish   \n",
              "2     2022-08-05                            81.111.134.45         Aquarium TV   \n",
              "3     2022-08-05                             36.68.10.202  Culture Forward TV   \n",
              "4     2022-08-05                           216.238.178.89         Aquarium TV   \n",
              "...          ...                                      ...                 ...   \n",
              "11875 2022-08-21                            59.103.203.85          FashionTV+   \n",
              "11876 2022-08-21  2409:4043:2e1f:43a1:4d79:4211:d1c4:1049          FashionTV+   \n",
              "11877 2022-08-21        2402:8100:3869:17f7:1:2:f3c3:7a9f        Short Box TV   \n",
              "11878 2022-08-21  2401:4900:3b1f:2da3:c131:11bd:f1f0:53d0          FashionTV+   \n",
              "11879 2022-08-21                          185.183.107.142          FashionTV+   \n",
              "\n",
              "         app_ver                        isp connection_type default_language  \\\n",
              "0      V_s5.1.9b                CenturyLink       Cable/DSL          English   \n",
              "1      V_s5.1.9b                  Totalplay       Cable/DSL          English   \n",
              "2          5.8.4               Virgin Media       Cable/DSL          English   \n",
              "3          5.8.4        PT Telkom Indonesia       Cable/DSL          English   \n",
              "4          5.2.0  Auburn Essential Services       Cable/DSL          English   \n",
              "...          ...                        ...             ...              ...   \n",
              "11875      5.2.0          Wancom (Pvt) Ltd.       Cable/DSL          English   \n",
              "11876      5.2.0                        Jio        Cellular          English   \n",
              "11877      5.2.0              Vodafone Idea        Cellular          English   \n",
              "11878      5.2.0                     Airtel        Cellular          English   \n",
              "11879      5.2.0                   M247 Ltd       Corporate          Deutsch   \n",
              "\n",
              "       revenue  \n",
              "0           15  \n",
              "1           15  \n",
              "2           15  \n",
              "3           15  \n",
              "4           15  \n",
              "...        ...  \n",
              "11875       15  \n",
              "11876       15  \n",
              "11877       15  \n",
              "11878       15  \n",
              "11879       15  \n",
              "\n",
              "[4279 rows x 8 columns]"
            ],
            "text/html": [
              "\n",
              "  <div id=\"df-060daaba-f6ee-40f0-bcf3-deb52d27e2f5\">\n",
              "    <div class=\"colab-df-container\">\n",
              "      <div>\n",
              "<style scoped>\n",
              "    .dataframe tbody tr th:only-of-type {\n",
              "        vertical-align: middle;\n",
              "    }\n",
              "\n",
              "    .dataframe tbody tr th {\n",
              "        vertical-align: top;\n",
              "    }\n",
              "\n",
              "    .dataframe thead th {\n",
              "        text-align: right;\n",
              "    }\n",
              "</style>\n",
              "<table border=\"1\" class=\"dataframe\">\n",
              "  <thead>\n",
              "    <tr style=\"text-align: right;\">\n",
              "      <th></th>\n",
              "      <th>date</th>\n",
              "      <th>ip</th>\n",
              "      <th>app_name</th>\n",
              "      <th>app_ver</th>\n",
              "      <th>isp</th>\n",
              "      <th>connection_type</th>\n",
              "      <th>default_language</th>\n",
              "      <th>revenue</th>\n",
              "    </tr>\n",
              "  </thead>\n",
              "  <tbody>\n",
              "    <tr>\n",
              "      <th>0</th>\n",
              "      <td>2022-08-05</td>\n",
              "      <td>97.118.20.38</td>\n",
              "      <td>Aquarium TV</td>\n",
              "      <td>V_s5.1.9b</td>\n",
              "      <td>CenturyLink</td>\n",
              "      <td>Cable/DSL</td>\n",
              "      <td>English</td>\n",
              "      <td>15</td>\n",
              "    </tr>\n",
              "    <tr>\n",
              "      <th>1</th>\n",
              "      <td>2022-08-05</td>\n",
              "      <td>189.203.104.188</td>\n",
              "      <td>ADULTish</td>\n",
              "      <td>V_s5.1.9b</td>\n",
              "      <td>Totalplay</td>\n",
              "      <td>Cable/DSL</td>\n",
              "      <td>English</td>\n",
              "      <td>15</td>\n",
              "    </tr>\n",
              "    <tr>\n",
              "      <th>2</th>\n",
              "      <td>2022-08-05</td>\n",
              "      <td>81.111.134.45</td>\n",
              "      <td>Aquarium TV</td>\n",
              "      <td>5.8.4</td>\n",
              "      <td>Virgin Media</td>\n",
              "      <td>Cable/DSL</td>\n",
              "      <td>English</td>\n",
              "      <td>15</td>\n",
              "    </tr>\n",
              "    <tr>\n",
              "      <th>3</th>\n",
              "      <td>2022-08-05</td>\n",
              "      <td>36.68.10.202</td>\n",
              "      <td>Culture Forward TV</td>\n",
              "      <td>5.8.4</td>\n",
              "      <td>PT Telkom Indonesia</td>\n",
              "      <td>Cable/DSL</td>\n",
              "      <td>English</td>\n",
              "      <td>15</td>\n",
              "    </tr>\n",
              "    <tr>\n",
              "      <th>4</th>\n",
              "      <td>2022-08-05</td>\n",
              "      <td>216.238.178.89</td>\n",
              "      <td>Aquarium TV</td>\n",
              "      <td>5.2.0</td>\n",
              "      <td>Auburn Essential Services</td>\n",
              "      <td>Cable/DSL</td>\n",
              "      <td>English</td>\n",
              "      <td>15</td>\n",
              "    </tr>\n",
              "    <tr>\n",
              "      <th>...</th>\n",
              "      <td>...</td>\n",
              "      <td>...</td>\n",
              "      <td>...</td>\n",
              "      <td>...</td>\n",
              "      <td>...</td>\n",
              "      <td>...</td>\n",
              "      <td>...</td>\n",
              "      <td>...</td>\n",
              "    </tr>\n",
              "    <tr>\n",
              "      <th>11875</th>\n",
              "      <td>2022-08-21</td>\n",
              "      <td>59.103.203.85</td>\n",
              "      <td>FashionTV+</td>\n",
              "      <td>5.2.0</td>\n",
              "      <td>Wancom (Pvt) Ltd.</td>\n",
              "      <td>Cable/DSL</td>\n",
              "      <td>English</td>\n",
              "      <td>15</td>\n",
              "    </tr>\n",
              "    <tr>\n",
              "      <th>11876</th>\n",
              "      <td>2022-08-21</td>\n",
              "      <td>2409:4043:2e1f:43a1:4d79:4211:d1c4:1049</td>\n",
              "      <td>FashionTV+</td>\n",
              "      <td>5.2.0</td>\n",
              "      <td>Jio</td>\n",
              "      <td>Cellular</td>\n",
              "      <td>English</td>\n",
              "      <td>15</td>\n",
              "    </tr>\n",
              "    <tr>\n",
              "      <th>11877</th>\n",
              "      <td>2022-08-21</td>\n",
              "      <td>2402:8100:3869:17f7:1:2:f3c3:7a9f</td>\n",
              "      <td>Short Box TV</td>\n",
              "      <td>5.2.0</td>\n",
              "      <td>Vodafone Idea</td>\n",
              "      <td>Cellular</td>\n",
              "      <td>English</td>\n",
              "      <td>15</td>\n",
              "    </tr>\n",
              "    <tr>\n",
              "      <th>11878</th>\n",
              "      <td>2022-08-21</td>\n",
              "      <td>2401:4900:3b1f:2da3:c131:11bd:f1f0:53d0</td>\n",
              "      <td>FashionTV+</td>\n",
              "      <td>5.2.0</td>\n",
              "      <td>Airtel</td>\n",
              "      <td>Cellular</td>\n",
              "      <td>English</td>\n",
              "      <td>15</td>\n",
              "    </tr>\n",
              "    <tr>\n",
              "      <th>11879</th>\n",
              "      <td>2022-08-21</td>\n",
              "      <td>185.183.107.142</td>\n",
              "      <td>FashionTV+</td>\n",
              "      <td>5.2.0</td>\n",
              "      <td>M247 Ltd</td>\n",
              "      <td>Corporate</td>\n",
              "      <td>Deutsch</td>\n",
              "      <td>15</td>\n",
              "    </tr>\n",
              "  </tbody>\n",
              "</table>\n",
              "<p>4279 rows × 8 columns</p>\n",
              "</div>\n",
              "      <button class=\"colab-df-convert\" onclick=\"convertToInteractive('df-060daaba-f6ee-40f0-bcf3-deb52d27e2f5')\"\n",
              "              title=\"Convert this dataframe to an interactive table.\"\n",
              "              style=\"display:none;\">\n",
              "        \n",
              "  <svg xmlns=\"http://www.w3.org/2000/svg\" height=\"24px\"viewBox=\"0 0 24 24\"\n",
              "       width=\"24px\">\n",
              "    <path d=\"M0 0h24v24H0V0z\" fill=\"none\"/>\n",
              "    <path d=\"M18.56 5.44l.94 2.06.94-2.06 2.06-.94-2.06-.94-.94-2.06-.94 2.06-2.06.94zm-11 1L8.5 8.5l.94-2.06 2.06-.94-2.06-.94L8.5 2.5l-.94 2.06-2.06.94zm10 10l.94 2.06.94-2.06 2.06-.94-2.06-.94-.94-2.06-.94 2.06-2.06.94z\"/><path d=\"M17.41 7.96l-1.37-1.37c-.4-.4-.92-.59-1.43-.59-.52 0-1.04.2-1.43.59L10.3 9.45l-7.72 7.72c-.78.78-.78 2.05 0 2.83L4 21.41c.39.39.9.59 1.41.59.51 0 1.02-.2 1.41-.59l7.78-7.78 2.81-2.81c.8-.78.8-2.07 0-2.86zM5.41 20L4 18.59l7.72-7.72 1.47 1.35L5.41 20z\"/>\n",
              "  </svg>\n",
              "      </button>\n",
              "      \n",
              "  <style>\n",
              "    .colab-df-container {\n",
              "      display:flex;\n",
              "      flex-wrap:wrap;\n",
              "      gap: 12px;\n",
              "    }\n",
              "\n",
              "    .colab-df-convert {\n",
              "      background-color: #E8F0FE;\n",
              "      border: none;\n",
              "      border-radius: 50%;\n",
              "      cursor: pointer;\n",
              "      display: none;\n",
              "      fill: #1967D2;\n",
              "      height: 32px;\n",
              "      padding: 0 0 0 0;\n",
              "      width: 32px;\n",
              "    }\n",
              "\n",
              "    .colab-df-convert:hover {\n",
              "      background-color: #E2EBFA;\n",
              "      box-shadow: 0px 1px 2px rgba(60, 64, 67, 0.3), 0px 1px 3px 1px rgba(60, 64, 67, 0.15);\n",
              "      fill: #174EA6;\n",
              "    }\n",
              "\n",
              "    [theme=dark] .colab-df-convert {\n",
              "      background-color: #3B4455;\n",
              "      fill: #D2E3FC;\n",
              "    }\n",
              "\n",
              "    [theme=dark] .colab-df-convert:hover {\n",
              "      background-color: #434B5C;\n",
              "      box-shadow: 0px 1px 3px 1px rgba(0, 0, 0, 0.15);\n",
              "      filter: drop-shadow(0px 1px 2px rgba(0, 0, 0, 0.3));\n",
              "      fill: #FFFFFF;\n",
              "    }\n",
              "  </style>\n",
              "\n",
              "      <script>\n",
              "        const buttonEl =\n",
              "          document.querySelector('#df-060daaba-f6ee-40f0-bcf3-deb52d27e2f5 button.colab-df-convert');\n",
              "        buttonEl.style.display =\n",
              "          google.colab.kernel.accessAllowed ? 'block' : 'none';\n",
              "\n",
              "        async function convertToInteractive(key) {\n",
              "          const element = document.querySelector('#df-060daaba-f6ee-40f0-bcf3-deb52d27e2f5');\n",
              "          const dataTable =\n",
              "            await google.colab.kernel.invokeFunction('convertToInteractive',\n",
              "                                                     [key], {});\n",
              "          if (!dataTable) return;\n",
              "\n",
              "          const docLinkHtml = 'Like what you see? Visit the ' +\n",
              "            '<a target=\"_blank\" href=https://colab.research.google.com/notebooks/data_table.ipynb>data table notebook</a>'\n",
              "            + ' to learn more about interactive tables.';\n",
              "          element.innerHTML = '';\n",
              "          dataTable['output_type'] = 'display_data';\n",
              "          await google.colab.output.renderOutput(dataTable, element);\n",
              "          const docLink = document.createElement('div');\n",
              "          docLink.innerHTML = docLinkHtml;\n",
              "          element.appendChild(docLink);\n",
              "        }\n",
              "      </script>\n",
              "    </div>\n",
              "  </div>\n",
              "  "
            ]
          },
          "metadata": {},
          "execution_count": 75
        }
      ]
    },
    {
      "cell_type": "code",
      "source": [
        "data['counts'] = data.groupby(['ip'])['ip'].transform('count')\n"
      ],
      "metadata": {
        "id": "iM-9HnuJKc3V"
      },
      "execution_count": 76,
      "outputs": []
    },
    {
      "cell_type": "code",
      "source": [
        "data[data['counts']>1]"
      ],
      "metadata": {
        "id": "LsWInEoEKrfm",
        "colab": {
          "base_uri": "https://localhost:8080/",
          "height": 424
        },
        "outputId": "15ff9c09-0f17-4d1b-c6ec-e9fd2c7021e9"
      },
      "execution_count": 77,
      "outputs": [
        {
          "output_type": "execute_result",
          "data": {
            "text/plain": [
              "            date                                       ip  \\\n",
              "6     2022-08-18                            51.37.211.101   \n",
              "16    2022-10-20                            66.249.66.210   \n",
              "156   2022-08-09  2404:3c00:b05f:c500:9c22:24be:497e:461f   \n",
              "157   2022-08-09                             46.39.65.243   \n",
              "160   2022-08-09                           172.254.82.122   \n",
              "...          ...                                      ...   \n",
              "11664 2022-09-09                             1.251.190.68   \n",
              "11679 2022-08-05                           73.148.252.242   \n",
              "11681 2022-08-05                            24.250.34.126   \n",
              "11868 2022-08-21                             72.230.71.18   \n",
              "11869 2022-08-21                            71.10.120.217   \n",
              "\n",
              "                        app_name    app_ver                 isp  \\\n",
              "6              Ento live Network      5.8.4    Vodafone Ireland   \n",
              "16     Channel Fight Masterclass     1.2.63           Googlebot   \n",
              "156                Bob the train      5.1.8           Sky Cable   \n",
              "157                Bob the train      5.1.8       Satellite Ltd   \n",
              "160                   Fashion TV  V_s5.1.9b   Spectrum Business   \n",
              "...                          ...        ...                 ...   \n",
              "11664          LifestyleMagazine      5.8.7        SK Broadband   \n",
              "11679                Aquarium TV  V_s5.1.9b       Comcast Cable   \n",
              "11681                Aquarium TV  V_s5.1.9a  Cox Communications   \n",
              "11868                Wawkalak TV  V_s5.1.9b            Spectrum   \n",
              "11869               Top 80s Hits  V_s5.1.9b            Spectrum   \n",
              "\n",
              "      connection_type default_language  revenue  counts  \n",
              "6           Cable/DSL          English       15       2  \n",
              "16          Corporate          English       15       3  \n",
              "156         Cable/DSL          English       15       2  \n",
              "157         Cable/DSL          русский       15       3  \n",
              "160         Corporate          English       15       2  \n",
              "...               ...              ...      ...     ...  \n",
              "11664       Cable/DSL          English       15       2  \n",
              "11679       Cable/DSL          English       15       2  \n",
              "11681       Cable/DSL          English       15       2  \n",
              "11868       Cable/DSL          English       15       2  \n",
              "11869       Cable/DSL          English       15       2  \n",
              "\n",
              "[209 rows x 9 columns]"
            ],
            "text/html": [
              "\n",
              "  <div id=\"df-84a09972-8f7e-4d9a-aae1-6058dc697a2d\">\n",
              "    <div class=\"colab-df-container\">\n",
              "      <div>\n",
              "<style scoped>\n",
              "    .dataframe tbody tr th:only-of-type {\n",
              "        vertical-align: middle;\n",
              "    }\n",
              "\n",
              "    .dataframe tbody tr th {\n",
              "        vertical-align: top;\n",
              "    }\n",
              "\n",
              "    .dataframe thead th {\n",
              "        text-align: right;\n",
              "    }\n",
              "</style>\n",
              "<table border=\"1\" class=\"dataframe\">\n",
              "  <thead>\n",
              "    <tr style=\"text-align: right;\">\n",
              "      <th></th>\n",
              "      <th>date</th>\n",
              "      <th>ip</th>\n",
              "      <th>app_name</th>\n",
              "      <th>app_ver</th>\n",
              "      <th>isp</th>\n",
              "      <th>connection_type</th>\n",
              "      <th>default_language</th>\n",
              "      <th>revenue</th>\n",
              "      <th>counts</th>\n",
              "    </tr>\n",
              "  </thead>\n",
              "  <tbody>\n",
              "    <tr>\n",
              "      <th>6</th>\n",
              "      <td>2022-08-18</td>\n",
              "      <td>51.37.211.101</td>\n",
              "      <td>Ento live Network</td>\n",
              "      <td>5.8.4</td>\n",
              "      <td>Vodafone Ireland</td>\n",
              "      <td>Cable/DSL</td>\n",
              "      <td>English</td>\n",
              "      <td>15</td>\n",
              "      <td>2</td>\n",
              "    </tr>\n",
              "    <tr>\n",
              "      <th>16</th>\n",
              "      <td>2022-10-20</td>\n",
              "      <td>66.249.66.210</td>\n",
              "      <td>Channel Fight Masterclass</td>\n",
              "      <td>1.2.63</td>\n",
              "      <td>Googlebot</td>\n",
              "      <td>Corporate</td>\n",
              "      <td>English</td>\n",
              "      <td>15</td>\n",
              "      <td>3</td>\n",
              "    </tr>\n",
              "    <tr>\n",
              "      <th>156</th>\n",
              "      <td>2022-08-09</td>\n",
              "      <td>2404:3c00:b05f:c500:9c22:24be:497e:461f</td>\n",
              "      <td>Bob the train</td>\n",
              "      <td>5.1.8</td>\n",
              "      <td>Sky Cable</td>\n",
              "      <td>Cable/DSL</td>\n",
              "      <td>English</td>\n",
              "      <td>15</td>\n",
              "      <td>2</td>\n",
              "    </tr>\n",
              "    <tr>\n",
              "      <th>157</th>\n",
              "      <td>2022-08-09</td>\n",
              "      <td>46.39.65.243</td>\n",
              "      <td>Bob the train</td>\n",
              "      <td>5.1.8</td>\n",
              "      <td>Satellite Ltd</td>\n",
              "      <td>Cable/DSL</td>\n",
              "      <td>русский</td>\n",
              "      <td>15</td>\n",
              "      <td>3</td>\n",
              "    </tr>\n",
              "    <tr>\n",
              "      <th>160</th>\n",
              "      <td>2022-08-09</td>\n",
              "      <td>172.254.82.122</td>\n",
              "      <td>Fashion TV</td>\n",
              "      <td>V_s5.1.9b</td>\n",
              "      <td>Spectrum Business</td>\n",
              "      <td>Corporate</td>\n",
              "      <td>English</td>\n",
              "      <td>15</td>\n",
              "      <td>2</td>\n",
              "    </tr>\n",
              "    <tr>\n",
              "      <th>...</th>\n",
              "      <td>...</td>\n",
              "      <td>...</td>\n",
              "      <td>...</td>\n",
              "      <td>...</td>\n",
              "      <td>...</td>\n",
              "      <td>...</td>\n",
              "      <td>...</td>\n",
              "      <td>...</td>\n",
              "      <td>...</td>\n",
              "    </tr>\n",
              "    <tr>\n",
              "      <th>11664</th>\n",
              "      <td>2022-09-09</td>\n",
              "      <td>1.251.190.68</td>\n",
              "      <td>LifestyleMagazine</td>\n",
              "      <td>5.8.7</td>\n",
              "      <td>SK Broadband</td>\n",
              "      <td>Cable/DSL</td>\n",
              "      <td>English</td>\n",
              "      <td>15</td>\n",
              "      <td>2</td>\n",
              "    </tr>\n",
              "    <tr>\n",
              "      <th>11679</th>\n",
              "      <td>2022-08-05</td>\n",
              "      <td>73.148.252.242</td>\n",
              "      <td>Aquarium TV</td>\n",
              "      <td>V_s5.1.9b</td>\n",
              "      <td>Comcast Cable</td>\n",
              "      <td>Cable/DSL</td>\n",
              "      <td>English</td>\n",
              "      <td>15</td>\n",
              "      <td>2</td>\n",
              "    </tr>\n",
              "    <tr>\n",
              "      <th>11681</th>\n",
              "      <td>2022-08-05</td>\n",
              "      <td>24.250.34.126</td>\n",
              "      <td>Aquarium TV</td>\n",
              "      <td>V_s5.1.9a</td>\n",
              "      <td>Cox Communications</td>\n",
              "      <td>Cable/DSL</td>\n",
              "      <td>English</td>\n",
              "      <td>15</td>\n",
              "      <td>2</td>\n",
              "    </tr>\n",
              "    <tr>\n",
              "      <th>11868</th>\n",
              "      <td>2022-08-21</td>\n",
              "      <td>72.230.71.18</td>\n",
              "      <td>Wawkalak TV</td>\n",
              "      <td>V_s5.1.9b</td>\n",
              "      <td>Spectrum</td>\n",
              "      <td>Cable/DSL</td>\n",
              "      <td>English</td>\n",
              "      <td>15</td>\n",
              "      <td>2</td>\n",
              "    </tr>\n",
              "    <tr>\n",
              "      <th>11869</th>\n",
              "      <td>2022-08-21</td>\n",
              "      <td>71.10.120.217</td>\n",
              "      <td>Top 80s Hits</td>\n",
              "      <td>V_s5.1.9b</td>\n",
              "      <td>Spectrum</td>\n",
              "      <td>Cable/DSL</td>\n",
              "      <td>English</td>\n",
              "      <td>15</td>\n",
              "      <td>2</td>\n",
              "    </tr>\n",
              "  </tbody>\n",
              "</table>\n",
              "<p>209 rows × 9 columns</p>\n",
              "</div>\n",
              "      <button class=\"colab-df-convert\" onclick=\"convertToInteractive('df-84a09972-8f7e-4d9a-aae1-6058dc697a2d')\"\n",
              "              title=\"Convert this dataframe to an interactive table.\"\n",
              "              style=\"display:none;\">\n",
              "        \n",
              "  <svg xmlns=\"http://www.w3.org/2000/svg\" height=\"24px\"viewBox=\"0 0 24 24\"\n",
              "       width=\"24px\">\n",
              "    <path d=\"M0 0h24v24H0V0z\" fill=\"none\"/>\n",
              "    <path d=\"M18.56 5.44l.94 2.06.94-2.06 2.06-.94-2.06-.94-.94-2.06-.94 2.06-2.06.94zm-11 1L8.5 8.5l.94-2.06 2.06-.94-2.06-.94L8.5 2.5l-.94 2.06-2.06.94zm10 10l.94 2.06.94-2.06 2.06-.94-2.06-.94-.94-2.06-.94 2.06-2.06.94z\"/><path d=\"M17.41 7.96l-1.37-1.37c-.4-.4-.92-.59-1.43-.59-.52 0-1.04.2-1.43.59L10.3 9.45l-7.72 7.72c-.78.78-.78 2.05 0 2.83L4 21.41c.39.39.9.59 1.41.59.51 0 1.02-.2 1.41-.59l7.78-7.78 2.81-2.81c.8-.78.8-2.07 0-2.86zM5.41 20L4 18.59l7.72-7.72 1.47 1.35L5.41 20z\"/>\n",
              "  </svg>\n",
              "      </button>\n",
              "      \n",
              "  <style>\n",
              "    .colab-df-container {\n",
              "      display:flex;\n",
              "      flex-wrap:wrap;\n",
              "      gap: 12px;\n",
              "    }\n",
              "\n",
              "    .colab-df-convert {\n",
              "      background-color: #E8F0FE;\n",
              "      border: none;\n",
              "      border-radius: 50%;\n",
              "      cursor: pointer;\n",
              "      display: none;\n",
              "      fill: #1967D2;\n",
              "      height: 32px;\n",
              "      padding: 0 0 0 0;\n",
              "      width: 32px;\n",
              "    }\n",
              "\n",
              "    .colab-df-convert:hover {\n",
              "      background-color: #E2EBFA;\n",
              "      box-shadow: 0px 1px 2px rgba(60, 64, 67, 0.3), 0px 1px 3px 1px rgba(60, 64, 67, 0.15);\n",
              "      fill: #174EA6;\n",
              "    }\n",
              "\n",
              "    [theme=dark] .colab-df-convert {\n",
              "      background-color: #3B4455;\n",
              "      fill: #D2E3FC;\n",
              "    }\n",
              "\n",
              "    [theme=dark] .colab-df-convert:hover {\n",
              "      background-color: #434B5C;\n",
              "      box-shadow: 0px 1px 3px 1px rgba(0, 0, 0, 0.15);\n",
              "      filter: drop-shadow(0px 1px 2px rgba(0, 0, 0, 0.3));\n",
              "      fill: #FFFFFF;\n",
              "    }\n",
              "  </style>\n",
              "\n",
              "      <script>\n",
              "        const buttonEl =\n",
              "          document.querySelector('#df-84a09972-8f7e-4d9a-aae1-6058dc697a2d button.colab-df-convert');\n",
              "        buttonEl.style.display =\n",
              "          google.colab.kernel.accessAllowed ? 'block' : 'none';\n",
              "\n",
              "        async function convertToInteractive(key) {\n",
              "          const element = document.querySelector('#df-84a09972-8f7e-4d9a-aae1-6058dc697a2d');\n",
              "          const dataTable =\n",
              "            await google.colab.kernel.invokeFunction('convertToInteractive',\n",
              "                                                     [key], {});\n",
              "          if (!dataTable) return;\n",
              "\n",
              "          const docLinkHtml = 'Like what you see? Visit the ' +\n",
              "            '<a target=\"_blank\" href=https://colab.research.google.com/notebooks/data_table.ipynb>data table notebook</a>'\n",
              "            + ' to learn more about interactive tables.';\n",
              "          element.innerHTML = '';\n",
              "          dataTable['output_type'] = 'display_data';\n",
              "          await google.colab.output.renderOutput(dataTable, element);\n",
              "          const docLink = document.createElement('div');\n",
              "          docLink.innerHTML = docLinkHtml;\n",
              "          element.appendChild(docLink);\n",
              "        }\n",
              "      </script>\n",
              "    </div>\n",
              "  </div>\n",
              "  "
            ]
          },
          "metadata": {},
          "execution_count": 77
        }
      ]
    },
    {
      "cell_type": "code",
      "source": [
        "#Creating new column Churn\n",
        "\n",
        "def create_churn_value(data):\n",
        "  if data['counts'] == 1:\n",
        "    return 'Yes'\n",
        "  else:\n",
        "    return 'No'\n",
        "\n"
      ],
      "metadata": {
        "id": "skbMYx086ByK"
      },
      "execution_count": 78,
      "outputs": []
    },
    {
      "cell_type": "code",
      "source": [
        "data['churn'] = data.apply(lambda data: create_churn_value(data), axis=1)"
      ],
      "metadata": {
        "id": "95yn-noRzn1t"
      },
      "execution_count": 79,
      "outputs": []
    },
    {
      "cell_type": "code",
      "source": [
        "data.head()"
      ],
      "metadata": {
        "colab": {
          "base_uri": "https://localhost:8080/",
          "height": 206
        },
        "id": "2ss7alXTznpc",
        "outputId": "55447edc-7354-4ff4-be5e-df0e1f6e876a"
      },
      "execution_count": 81,
      "outputs": [
        {
          "output_type": "execute_result",
          "data": {
            "text/plain": [
              "        date               ip            app_name    app_ver  \\\n",
              "0 2022-08-05     97.118.20.38         Aquarium TV  V_s5.1.9b   \n",
              "1 2022-08-05  189.203.104.188            ADULTish  V_s5.1.9b   \n",
              "2 2022-08-05    81.111.134.45         Aquarium TV      5.8.4   \n",
              "3 2022-08-05     36.68.10.202  Culture Forward TV      5.8.4   \n",
              "4 2022-08-05   216.238.178.89         Aquarium TV      5.2.0   \n",
              "\n",
              "                         isp connection_type default_language  revenue  \\\n",
              "0                CenturyLink       Cable/DSL          English       15   \n",
              "1                  Totalplay       Cable/DSL          English       15   \n",
              "2               Virgin Media       Cable/DSL          English       15   \n",
              "3        PT Telkom Indonesia       Cable/DSL          English       15   \n",
              "4  Auburn Essential Services       Cable/DSL          English       15   \n",
              "\n",
              "   counts churn  \n",
              "0       1   Yes  \n",
              "1       1   Yes  \n",
              "2       1   Yes  \n",
              "3       1   Yes  \n",
              "4       1   Yes  "
            ],
            "text/html": [
              "\n",
              "  <div id=\"df-28969320-bf51-4101-b922-0ad48e80ec36\">\n",
              "    <div class=\"colab-df-container\">\n",
              "      <div>\n",
              "<style scoped>\n",
              "    .dataframe tbody tr th:only-of-type {\n",
              "        vertical-align: middle;\n",
              "    }\n",
              "\n",
              "    .dataframe tbody tr th {\n",
              "        vertical-align: top;\n",
              "    }\n",
              "\n",
              "    .dataframe thead th {\n",
              "        text-align: right;\n",
              "    }\n",
              "</style>\n",
              "<table border=\"1\" class=\"dataframe\">\n",
              "  <thead>\n",
              "    <tr style=\"text-align: right;\">\n",
              "      <th></th>\n",
              "      <th>date</th>\n",
              "      <th>ip</th>\n",
              "      <th>app_name</th>\n",
              "      <th>app_ver</th>\n",
              "      <th>isp</th>\n",
              "      <th>connection_type</th>\n",
              "      <th>default_language</th>\n",
              "      <th>revenue</th>\n",
              "      <th>counts</th>\n",
              "      <th>churn</th>\n",
              "    </tr>\n",
              "  </thead>\n",
              "  <tbody>\n",
              "    <tr>\n",
              "      <th>0</th>\n",
              "      <td>2022-08-05</td>\n",
              "      <td>97.118.20.38</td>\n",
              "      <td>Aquarium TV</td>\n",
              "      <td>V_s5.1.9b</td>\n",
              "      <td>CenturyLink</td>\n",
              "      <td>Cable/DSL</td>\n",
              "      <td>English</td>\n",
              "      <td>15</td>\n",
              "      <td>1</td>\n",
              "      <td>Yes</td>\n",
              "    </tr>\n",
              "    <tr>\n",
              "      <th>1</th>\n",
              "      <td>2022-08-05</td>\n",
              "      <td>189.203.104.188</td>\n",
              "      <td>ADULTish</td>\n",
              "      <td>V_s5.1.9b</td>\n",
              "      <td>Totalplay</td>\n",
              "      <td>Cable/DSL</td>\n",
              "      <td>English</td>\n",
              "      <td>15</td>\n",
              "      <td>1</td>\n",
              "      <td>Yes</td>\n",
              "    </tr>\n",
              "    <tr>\n",
              "      <th>2</th>\n",
              "      <td>2022-08-05</td>\n",
              "      <td>81.111.134.45</td>\n",
              "      <td>Aquarium TV</td>\n",
              "      <td>5.8.4</td>\n",
              "      <td>Virgin Media</td>\n",
              "      <td>Cable/DSL</td>\n",
              "      <td>English</td>\n",
              "      <td>15</td>\n",
              "      <td>1</td>\n",
              "      <td>Yes</td>\n",
              "    </tr>\n",
              "    <tr>\n",
              "      <th>3</th>\n",
              "      <td>2022-08-05</td>\n",
              "      <td>36.68.10.202</td>\n",
              "      <td>Culture Forward TV</td>\n",
              "      <td>5.8.4</td>\n",
              "      <td>PT Telkom Indonesia</td>\n",
              "      <td>Cable/DSL</td>\n",
              "      <td>English</td>\n",
              "      <td>15</td>\n",
              "      <td>1</td>\n",
              "      <td>Yes</td>\n",
              "    </tr>\n",
              "    <tr>\n",
              "      <th>4</th>\n",
              "      <td>2022-08-05</td>\n",
              "      <td>216.238.178.89</td>\n",
              "      <td>Aquarium TV</td>\n",
              "      <td>5.2.0</td>\n",
              "      <td>Auburn Essential Services</td>\n",
              "      <td>Cable/DSL</td>\n",
              "      <td>English</td>\n",
              "      <td>15</td>\n",
              "      <td>1</td>\n",
              "      <td>Yes</td>\n",
              "    </tr>\n",
              "  </tbody>\n",
              "</table>\n",
              "</div>\n",
              "      <button class=\"colab-df-convert\" onclick=\"convertToInteractive('df-28969320-bf51-4101-b922-0ad48e80ec36')\"\n",
              "              title=\"Convert this dataframe to an interactive table.\"\n",
              "              style=\"display:none;\">\n",
              "        \n",
              "  <svg xmlns=\"http://www.w3.org/2000/svg\" height=\"24px\"viewBox=\"0 0 24 24\"\n",
              "       width=\"24px\">\n",
              "    <path d=\"M0 0h24v24H0V0z\" fill=\"none\"/>\n",
              "    <path d=\"M18.56 5.44l.94 2.06.94-2.06 2.06-.94-2.06-.94-.94-2.06-.94 2.06-2.06.94zm-11 1L8.5 8.5l.94-2.06 2.06-.94-2.06-.94L8.5 2.5l-.94 2.06-2.06.94zm10 10l.94 2.06.94-2.06 2.06-.94-2.06-.94-.94-2.06-.94 2.06-2.06.94z\"/><path d=\"M17.41 7.96l-1.37-1.37c-.4-.4-.92-.59-1.43-.59-.52 0-1.04.2-1.43.59L10.3 9.45l-7.72 7.72c-.78.78-.78 2.05 0 2.83L4 21.41c.39.39.9.59 1.41.59.51 0 1.02-.2 1.41-.59l7.78-7.78 2.81-2.81c.8-.78.8-2.07 0-2.86zM5.41 20L4 18.59l7.72-7.72 1.47 1.35L5.41 20z\"/>\n",
              "  </svg>\n",
              "      </button>\n",
              "      \n",
              "  <style>\n",
              "    .colab-df-container {\n",
              "      display:flex;\n",
              "      flex-wrap:wrap;\n",
              "      gap: 12px;\n",
              "    }\n",
              "\n",
              "    .colab-df-convert {\n",
              "      background-color: #E8F0FE;\n",
              "      border: none;\n",
              "      border-radius: 50%;\n",
              "      cursor: pointer;\n",
              "      display: none;\n",
              "      fill: #1967D2;\n",
              "      height: 32px;\n",
              "      padding: 0 0 0 0;\n",
              "      width: 32px;\n",
              "    }\n",
              "\n",
              "    .colab-df-convert:hover {\n",
              "      background-color: #E2EBFA;\n",
              "      box-shadow: 0px 1px 2px rgba(60, 64, 67, 0.3), 0px 1px 3px 1px rgba(60, 64, 67, 0.15);\n",
              "      fill: #174EA6;\n",
              "    }\n",
              "\n",
              "    [theme=dark] .colab-df-convert {\n",
              "      background-color: #3B4455;\n",
              "      fill: #D2E3FC;\n",
              "    }\n",
              "\n",
              "    [theme=dark] .colab-df-convert:hover {\n",
              "      background-color: #434B5C;\n",
              "      box-shadow: 0px 1px 3px 1px rgba(0, 0, 0, 0.15);\n",
              "      filter: drop-shadow(0px 1px 2px rgba(0, 0, 0, 0.3));\n",
              "      fill: #FFFFFF;\n",
              "    }\n",
              "  </style>\n",
              "\n",
              "      <script>\n",
              "        const buttonEl =\n",
              "          document.querySelector('#df-28969320-bf51-4101-b922-0ad48e80ec36 button.colab-df-convert');\n",
              "        buttonEl.style.display =\n",
              "          google.colab.kernel.accessAllowed ? 'block' : 'none';\n",
              "\n",
              "        async function convertToInteractive(key) {\n",
              "          const element = document.querySelector('#df-28969320-bf51-4101-b922-0ad48e80ec36');\n",
              "          const dataTable =\n",
              "            await google.colab.kernel.invokeFunction('convertToInteractive',\n",
              "                                                     [key], {});\n",
              "          if (!dataTable) return;\n",
              "\n",
              "          const docLinkHtml = 'Like what you see? Visit the ' +\n",
              "            '<a target=\"_blank\" href=https://colab.research.google.com/notebooks/data_table.ipynb>data table notebook</a>'\n",
              "            + ' to learn more about interactive tables.';\n",
              "          element.innerHTML = '';\n",
              "          dataTable['output_type'] = 'display_data';\n",
              "          await google.colab.output.renderOutput(dataTable, element);\n",
              "          const docLink = document.createElement('div');\n",
              "          docLink.innerHTML = docLinkHtml;\n",
              "          element.appendChild(docLink);\n",
              "        }\n",
              "      </script>\n",
              "    </div>\n",
              "  </div>\n",
              "  "
            ]
          },
          "metadata": {},
          "execution_count": 81
        }
      ]
    },
    {
      "cell_type": "code",
      "source": [
        "#check user frequency\n",
        "#calculate sum of values by group\n",
        "churn_cust = data.groupby(['churn'])['churn'].size()\n",
        "\n",
        "#create bar plot by group\n",
        "churn_cust.plot(kind='bar',  figsize=(10, 5), title='User Churn Rate')"
      ],
      "metadata": {
        "id": "7_1LWGKJMW5d",
        "colab": {
          "base_uri": "https://localhost:8080/",
          "height": 373
        },
        "outputId": "b43d8007-1d4c-46a6-fa29-605e30bd4b0e"
      },
      "execution_count": 85,
      "outputs": [
        {
          "output_type": "execute_result",
          "data": {
            "text/plain": [
              "<matplotlib.axes._subplots.AxesSubplot at 0x7f325b825a90>"
            ]
          },
          "metadata": {},
          "execution_count": 85
        },
        {
          "output_type": "display_data",
          "data": {
            "text/plain": [
              "<Figure size 720x360 with 1 Axes>"
            ],
            "image/png": "[encoded data removed]"
          },
          "metadata": {
            "needs_background": "light"
          }
        }
      ]
    },
    {
      "cell_type": "code",
      "source": [
        "len(data[data['churn']=='Yes'])"
      ],
      "metadata": {
        "colab": {
          "base_uri": "https://localhost:8080/"
        },
        "id": "d0SsM5TVwE63",
        "outputId": "d7ab176c-dc9d-439a-ed80-fb7c61ec280e"
      },
      "execution_count": 88,
      "outputs": [
        {
          "output_type": "execute_result",
          "data": {
            "text/plain": [
              "4070"
            ]
          },
          "metadata": {},
          "execution_count": 88
        }
      ]
    },
    {
      "cell_type": "code",
      "source": [
        "len(data[data['churn']=='No'])"
      ],
      "metadata": {
        "colab": {
          "base_uri": "https://localhost:8080/"
        },
        "id": "tfGIErlvwSvz",
        "outputId": "00ebb0f4-1962-4005-c8af-a72870cd77ac"
      },
      "execution_count": 90,
      "outputs": [
        {
          "output_type": "execute_result",
          "data": {
            "text/plain": [
              "209"
            ]
          },
          "metadata": {},
          "execution_count": 90
        }
      ]
    },
    {
      "cell_type": "code",
      "source": [
        "data['churn'].value_counts()"
      ],
      "metadata": {
        "colab": {
          "base_uri": "https://localhost:8080/"
        },
        "id": "o2ExrILMwcDH",
        "outputId": "6abae82c-3093-489c-a3ce-e1f96f972df5"
      },
      "execution_count": 91,
      "outputs": [
        {
          "output_type": "execute_result",
          "data": {
            "text/plain": [
              "Yes    4070\n",
              "No      209\n",
              "Name: churn, dtype: int64"
            ]
          },
          "metadata": {},
          "execution_count": 91
        }
      ]
    },
    {
      "cell_type": "code",
      "source": [
        "4070+209"
      ],
      "metadata": {
        "colab": {
          "base_uri": "https://localhost:8080/"
        },
        "id": "YSOsnBX6wmQP",
        "outputId": "ad9cefbd-35be-4ef8-f8c5-b64ec3985b4a"
      },
      "execution_count": 92,
      "outputs": [
        {
          "output_type": "execute_result",
          "data": {
            "text/plain": [
              "4279"
            ]
          },
          "metadata": {},
          "execution_count": 92
        }
      ]
    },
    {
      "cell_type": "code",
      "source": [
        "4070/4279"
      ],
      "metadata": {
        "colab": {
          "base_uri": "https://localhost:8080/"
        },
        "id": "k2L15S8gwpQX",
        "outputId": "1538f134-b902-4e72-dd6f-388658261c8a"
      },
      "execution_count": 94,
      "outputs": [
        {
          "output_type": "execute_result",
          "data": {
            "text/plain": [
              "0.9511568123393316"
            ]
          },
          "metadata": {},
          "execution_count": 94
        }
      ]
    },
    {
      "cell_type": "markdown",
      "source": [],
      "metadata": {
        "id": "JraSdjU3aoeh"
      }
    }
  ],
  "metadata": {
    "kernelspec": {
      "display_name": "Python [conda env:PythonData] *",
      "language": "python",
      "name": "conda-env-PythonData-py"
    },
    "language_info": {
      "codemirror_mode": {
        "name": "ipython",
        "version": 3
      },
      "file_extension": ".py",
      "mimetype": "text/x-python",
      "name": "python",
      "nbconvert_exporter": "python",
      "pygments_lexer": "ipython3",
      "version": "3.6.10"
    },
    "colab": {
      "provenance": [],
      "collapsed_sections": [
        "OiU_QnaJ8HXs",
        "oJ0jToe_Mkh9"
      ],
      "include_colab_link": true
    }
  },
  "nbformat": 4,
  "nbformat_minor": 0
}