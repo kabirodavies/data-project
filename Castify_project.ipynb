{
  "cells": [
    {
      "cell_type": "markdown",
      "metadata": {
        "id": "view-in-github",
        "colab_type": "text"
      },
      "source": [
        "<a href=\"https://colab.research.google.com/github/kabirodavies/data-project/blob/main/Castify_project.ipynb\" target=\"_parent\"><img src=\"https://colab.research.google.com/assets/colab-badge.svg\" alt=\"Open In Colab\"/></a>"
      ]
    },
    {
      "cell_type": "markdown",
      "metadata": {
        "id": "dJ-rGGSYnT9i"
      },
      "source": [
        "# Introduction\n",
        "-----"
      ]
    },
    {
      "cell_type": "markdown",
      "metadata": {
        "id": "62Az6xVpnT9j"
      },
      "source": [
        "**\n",
        "The goal of this analysis is to identify user behaviour on Castify's platforms and how to leverage this to improve user satisfaction and increase ad conversion rate\n",
        "\n",
        "\n",
        "** \n",
        "\n",
        "------"
      ]
    },
    {
      "cell_type": "markdown",
      "metadata": {
        "id": "4Mth8AgqnT9k"
      },
      "source": [
        "# Sources"
      ]
    },
    {
      "cell_type": "markdown",
      "metadata": {
        "id": "l8EBRnH1nT9k"
      },
      "source": [
        "This is Castify's User Sessions and User Sessions Event data."
      ]
    },
    {
      "cell_type": "markdown",
      "source": [
        "#Install Packages"
      ],
      "metadata": {
        "id": "aG_ilpNcGz75"
      }
    },
    {
      "cell_type": "markdown",
      "metadata": {
        "id": "zJGlNsOFnT9k"
      },
      "source": [
        "# Imports"
      ]
    },
    {
      "cell_type": "code",
      "source": [
        "pip install sklearn"
      ],
      "metadata": {
        "colab": {
          "base_uri": "https://localhost:8080/"
        },
        "id": "GLqdjjPOAD13",
        "outputId": "5b3f22ea-d681-4302-9ed9-048e75bd9a10"
      },
      "execution_count": null,
      "outputs": [
        {
          "output_type": "stream",
          "name": "stdout",
          "text": [
            "Looking in indexes: https://pypi.org/simple, https://us-python.pkg.dev/colab-wheels/public/simple/\n",
            "Collecting sklearn\n",
            "  Downloading sklearn-0.0.tar.gz (1.1 kB)\n",
            "Requirement already satisfied: scikit-learn in /usr/local/lib/python3.7/dist-packages (from sklearn) (1.0.2)\n",
            "Requirement already satisfied: scipy>=1.1.0 in /usr/local/lib/python3.7/dist-packages (from scikit-learn->sklearn) (1.7.3)\n",
            "Requirement already satisfied: numpy>=1.14.6 in /usr/local/lib/python3.7/dist-packages (from scikit-learn->sklearn) (1.21.6)\n",
            "Requirement already satisfied: joblib>=0.11 in /usr/local/lib/python3.7/dist-packages (from scikit-learn->sklearn) (1.2.0)\n",
            "Requirement already satisfied: threadpoolctl>=2.0.0 in /usr/local/lib/python3.7/dist-packages (from scikit-learn->sklearn) (3.1.0)\n",
            "Building wheels for collected packages: sklearn\n",
            "  Building wheel for sklearn (setup.py) ... \u001b[?25l\u001b[?25hdone\n",
            "  Created wheel for sklearn: filename=sklearn-0.0-py2.py3-none-any.whl size=1310 sha256=da29d4e5ee047ca375a63cf3759f8786384dec8be945ecd96d040d85b82462a6\n",
            "  Stored in directory: /root/.cache/pip/wheels/46/ef/c3/157e41f5ee1372d1be90b09f74f82b10e391eaacca8f22d33e\n",
            "Successfully built sklearn\n",
            "Installing collected packages: sklearn\n",
            "Successfully installed sklearn-0.0\n"
          ]
        }
      ]
    },
    {
      "cell_type": "code",
      "execution_count": 31,
      "metadata": {
        "id": "fKfwt0awnT9l"
      },
      "outputs": [],
      "source": [
        "# Libraries for data loading, data manipulation and data visulisation\n",
        "import pandas as pd\n",
        "import numpy as np\n",
        "import matplotlib.pyplot as plt\n",
        "%matplotlib inline\n",
        "import seaborn as sns\n",
        "import plotly.express as px\n",
        "from statsmodels.graphics.correlation import plot_corr\n",
        "import matplotlib.ticker as ticker\n",
        "from statsmodels.graphics.correlation import plot_corr\n",
        "\n",
        "#Data Imbalance\n",
        "from sklearn.utils import resample\n",
        "\n",
        "#Encoding & Data Pre-processing\n",
        "from sklearn.preprocessing import LabelEncoder\n",
        "from sklearn.impute import SimpleImputer\n",
        "from sklearn.preprocessing import OrdinalEncoder\n",
        "\n",
        "#Algorithms\n",
        "from sklearn.model_selection import train_test_split\n",
        "from sklearn.linear_model import LogisticRegression\n",
        "from sklearn import svm\n",
        "from sklearn.ensemble import RandomForestClassifier\n",
        "from xgboost import XGBClassifier\n",
        "from sklearn.naive_bayes import MultinomialNB\n",
        "from sklearn.svm import LinearSVC\n",
        "from sklearn.pipeline import Pipeline\n",
        "\n",
        "#Grid Search\n",
        "from sklearn.model_selection import GridSearchCV\n",
        "\n",
        "#Metrics\n",
        "from sklearn.metrics import classification_report\n",
        "from sklearn.metrics import accuracy_score\n",
        "from sklearn.metrics import f1_score\n",
        "from sklearn.metrics import confusion_matrix\n",
        "from sklearn.metrics import roc_curve, roc_auc_score\n",
        "from sklearn.metrics import plot_confusion_matrix\n",
        "\n",
        "\n",
        "from google.colab import files\n",
        "from datetime import datetime\n"
      ]
    },
    {
      "cell_type": "markdown",
      "metadata": {
        "id": "wh_Fsm7wnT9l"
      },
      "source": [
        "# Data collection"
      ]
    },
    {
      "cell_type": "markdown",
      "metadata": {
        "id": "7uMjeoULnT9l"
      },
      "source": [
        "***Data import***"
      ]
    },
    {
      "cell_type": "code",
      "source": [
        "data = files.upload()"
      ],
      "metadata": {
        "colab": {
          "base_uri": "https://localhost:8080/",
          "height": 73
        },
        "id": "w3PtHSHjpECC",
        "outputId": "90520bfd-ec3f-4371-8c04-78a82b49658d"
      },
      "execution_count": 39,
      "outputs": [
        {
          "output_type": "display_data",
          "data": {
            "text/plain": [
              "<IPython.core.display.HTML object>"
            ],
            "text/html": [
              "\n",
              "     <input type=\"file\" id=\"files-4aab1703-8518-44b3-8a9e-6b8f26f5ae6d\" name=\"files[]\" multiple disabled\n",
              "        style=\"border:none\" />\n",
              "     <output id=\"result-4aab1703-8518-44b3-8a9e-6b8f26f5ae6d\">\n",
              "      Upload widget is only available when the cell has been executed in the\n",
              "      current browser session. Please rerun this cell to enable.\n",
              "      </output>\n",
              "      <script>// Copyright 2017 Google LLC\n",
              "//\n",
              "// Licensed under the Apache License, Version 2.0 (the \"License\");\n",
              "// you may not use this file except in compliance with the License.\n",
              "// You may obtain a copy of the License at\n",
              "//\n",
              "//      http://www.apache.org/licenses/LICENSE-2.0\n",
              "//\n",
              "// Unless required by applicable law or agreed to in writing, software\n",
              "// distributed under the License is distributed on an \"AS IS\" BASIS,\n",
              "// WITHOUT WARRANTIES OR CONDITIONS OF ANY KIND, either express or implied.\n",
              "// See the License for the specific language governing permissions and\n",
              "// limitations under the License.\n",
              "\n",
              "/**\n",
              " * @fileoverview Helpers for google.colab Python module.\n",
              " */\n",
              "(function(scope) {\n",
              "function span(text, styleAttributes = {}) {\n",
              "  const element = document.createElement('span');\n",
              "  element.textContent = text;\n",
              "  for (const key of Object.keys(styleAttributes)) {\n",
              "    element.style[key] = styleAttributes[key];\n",
              "  }\n",
              "  return element;\n",
              "}\n",
              "\n",
              "// Max number of bytes which will be uploaded at a time.\n",
              "const MAX_PAYLOAD_SIZE = 100 * 1024;\n",
              "\n",
              "function _uploadFiles(inputId, outputId) {\n",
              "  const steps = uploadFilesStep(inputId, outputId);\n",
              "  const outputElement = document.getElementById(outputId);\n",
              "  // Cache steps on the outputElement to make it available for the next call\n",
              "  // to uploadFilesContinue from Python.\n",
              "  outputElement.steps = steps;\n",
              "\n",
              "  return _uploadFilesContinue(outputId);\n",
              "}\n",
              "\n",
              "// This is roughly an async generator (not supported in the browser yet),\n",
              "// where there are multiple asynchronous steps and the Python side is going\n",
              "// to poll for completion of each step.\n",
              "// This uses a Promise to block the python side on completion of each step,\n",
              "// then passes the result of the previous step as the input to the next step.\n",
              "function _uploadFilesContinue(outputId) {\n",
              "  const outputElement = document.getElementById(outputId);\n",
              "  const steps = outputElement.steps;\n",
              "\n",
              "  const next = steps.next(outputElement.lastPromiseValue);\n",
              "  return Promise.resolve(next.value.promise).then((value) => {\n",
              "    // Cache the last promise value to make it available to the next\n",
              "    // step of the generator.\n",
              "    outputElement.lastPromiseValue = value;\n",
              "    return next.value.response;\n",
              "  });\n",
              "}\n",
              "\n",
              "/**\n",
              " * Generator function which is called between each async step of the upload\n",
              " * process.\n",
              " * @param {string} inputId Element ID of the input file picker element.\n",
              " * @param {string} outputId Element ID of the output display.\n",
              " * @return {!Iterable<!Object>} Iterable of next steps.\n",
              " */\n",
              "function* uploadFilesStep(inputId, outputId) {\n",
              "  const inputElement = document.getElementById(inputId);\n",
              "  inputElement.disabled = false;\n",
              "\n",
              "  const outputElement = document.getElementById(outputId);\n",
              "  outputElement.innerHTML = '';\n",
              "\n",
              "  const pickedPromise = new Promise((resolve) => {\n",
              "    inputElement.addEventListener('change', (e) => {\n",
              "      resolve(e.target.files);\n",
              "    });\n",
              "  });\n",
              "\n",
              "  const cancel = document.createElement('button');\n",
              "  inputElement.parentElement.appendChild(cancel);\n",
              "  cancel.textContent = 'Cancel upload';\n",
              "  const cancelPromise = new Promise((resolve) => {\n",
              "    cancel.onclick = () => {\n",
              "      resolve(null);\n",
              "    };\n",
              "  });\n",
              "\n",
              "  // Wait for the user to pick the files.\n",
              "  const files = yield {\n",
              "    promise: Promise.race([pickedPromise, cancelPromise]),\n",
              "    response: {\n",
              "      action: 'starting',\n",
              "    }\n",
              "  };\n",
              "\n",
              "  cancel.remove();\n",
              "\n",
              "  // Disable the input element since further picks are not allowed.\n",
              "  inputElement.disabled = true;\n",
              "\n",
              "  if (!files) {\n",
              "    return {\n",
              "      response: {\n",
              "        action: 'complete',\n",
              "      }\n",
              "    };\n",
              "  }\n",
              "\n",
              "  for (const file of files) {\n",
              "    const li = document.createElement('li');\n",
              "    li.append(span(file.name, {fontWeight: 'bold'}));\n",
              "    li.append(span(\n",
              "        `(${file.type || 'n/a'}) - ${file.size} bytes, ` +\n",
              "        `last modified: ${\n",
              "            file.lastModifiedDate ? file.lastModifiedDate.toLocaleDateString() :\n",
              "                                    'n/a'} - `));\n",
              "    const percent = span('0% done');\n",
              "    li.appendChild(percent);\n",
              "\n",
              "    outputElement.appendChild(li);\n",
              "\n",
              "    const fileDataPromise = new Promise((resolve) => {\n",
              "      const reader = new FileReader();\n",
              "      reader.onload = (e) => {\n",
              "        resolve(e.target.result);\n",
              "      };\n",
              "      reader.readAsArrayBuffer(file);\n",
              "    });\n",
              "    // Wait for the data to be ready.\n",
              "    let fileData = yield {\n",
              "      promise: fileDataPromise,\n",
              "      response: {\n",
              "        action: 'continue',\n",
              "      }\n",
              "    };\n",
              "\n",
              "    // Use a chunked sending to avoid message size limits. See b/62115660.\n",
              "    let position = 0;\n",
              "    do {\n",
              "      const length = Math.min(fileData.byteLength - position, MAX_PAYLOAD_SIZE);\n",
              "      const chunk = new Uint8Array(fileData, position, length);\n",
              "      position += length;\n",
              "\n",
              "      const base64 = btoa(String.fromCharCode.apply(null, chunk));\n",
              "      yield {\n",
              "        response: {\n",
              "          action: 'append',\n",
              "          file: file.name,\n",
              "          data: base64,\n",
              "        },\n",
              "      };\n",
              "\n",
              "      let percentDone = fileData.byteLength === 0 ?\n",
              "          100 :\n",
              "          Math.round((position / fileData.byteLength) * 100);\n",
              "      percent.textContent = `${percentDone}% done`;\n",
              "\n",
              "    } while (position < fileData.byteLength);\n",
              "  }\n",
              "\n",
              "  // All done.\n",
              "  yield {\n",
              "    response: {\n",
              "      action: 'complete',\n",
              "    }\n",
              "  };\n",
              "}\n",
              "\n",
              "scope.google = scope.google || {};\n",
              "scope.google.colab = scope.google.colab || {};\n",
              "scope.google.colab._files = {\n",
              "  _uploadFiles,\n",
              "  _uploadFilesContinue,\n",
              "};\n",
              "})(self);\n",
              "</script> "
            ]
          },
          "metadata": {}
        },
        {
          "output_type": "stream",
          "name": "stdout",
          "text": [
            "Saving data.csv to data.csv\n"
          ]
        }
      ]
    },
    {
      "cell_type": "code",
      "execution_count": 40,
      "metadata": {
        "id": "TJHkjla0nT9m"
      },
      "outputs": [],
      "source": [
        "#Read Data\n",
        "# user_session_events = pd.read_excel('user_session_events.xlsx')\n",
        "# user_sessions = pd.read_excel('user_sessions.xlsx')\n",
        "data = pd.read_csv('data.csv')"
      ]
    },
    {
      "cell_type": "code",
      "source": [
        "data.head()"
      ],
      "metadata": {
        "colab": {
          "base_uri": "https://localhost:8080/",
          "height": 490
        },
        "id": "KuMaYvH4qgtk",
        "outputId": "1ded4334-23cb-467a-85d3-4a2207d8cc01"
      },
      "execution_count": 41,
      "outputs": [
        {
          "output_type": "execute_result",
          "data": {
            "text/plain": [
              "   Unnamed: 0                   session_id                          datetime  \\\n",
              "0           0  1657777021124.48c7f281de5ab  2022-07-14 05:37:06.382000+00:00   \n",
              "1           1  1657777021124.48c7f281de5ab  2022-07-14 05:37:06.382000+00:00   \n",
              "2           2  1657777021124.48c7f281de5ab  2022-07-14 05:37:06.382000+00:00   \n",
              "3           3  1657777021124.48c7f281de5ab  2022-07-14 05:37:06.382000+00:00   \n",
              "4           4  1657777021124.48c7f281de5ab  2022-07-14 05:37:06.382000+00:00   \n",
              "\n",
              "   supply_id              ip                        user_device_id  \\\n",
              "0        NaN  197.237.180.26  a6d972d2-b895-a05e-798d-42f2f8481d00   \n",
              "1        NaN  197.237.180.26  a6d972d2-b895-a05e-798d-42f2f8481d00   \n",
              "2        NaN  197.237.180.26  a6d972d2-b895-a05e-798d-42f2f8481d00   \n",
              "3        NaN  197.237.180.26  a6d972d2-b895-a05e-798d-42f2f8481d00   \n",
              "4        NaN  197.237.180.26  a6d972d2-b895-a05e-798d-42f2f8481d00   \n",
              "\n",
              "        app_name app_bundle app_ver channel_id  ... video_title page_id  \\\n",
              "0  Bob the train    1099280   5.8.4        780  ...    bus song       0   \n",
              "1  Bob the train    1099280   5.8.4        780  ...    bus song       0   \n",
              "2  Bob the train    1099280   5.8.4        780  ...    bus song       0   \n",
              "3  Bob the train    1099280   5.8.4        780  ...    bus song       0   \n",
              "4  Bob the train    1099280   5.8.4        780  ...    bus song       0   \n",
              "\n",
              "  playlist_id category_id revenue cost                    start_datetime  \\\n",
              "0         NaN         NaN     0.0  0.0  2022-07-14 05:45:38.371000+00:00   \n",
              "1         NaN         NaN     0.0  0.0  2022-07-14 05:53:43.743000+00:00   \n",
              "2         NaN         NaN     0.0  0.0  2022-07-14 06:31:57.475000+00:00   \n",
              "3         NaN         NaN     0.0  0.0  2022-07-14 05:53:30.845000+00:00   \n",
              "4         NaN         NaN     0.0  0.0  2022-07-14 05:59:49.196000+00:00   \n",
              "\n",
              "                       end_datetime additional_data_1 language  \n",
              "0  2022-07-14 05:45:38.371000+00:00               NaN    en-KE  \n",
              "1  2022-07-14 05:53:43.743000+00:00               NaN    en-KE  \n",
              "2  2022-07-14 06:31:57.475000+00:00               NaN    en-KE  \n",
              "3  2022-07-14 05:53:30.845000+00:00               NaN    en-KE  \n",
              "4  2022-07-14 05:59:49.196000+00:00               NaN    en-KE  \n",
              "\n",
              "[5 rows x 43 columns]"
            ],
            "text/html": [
              "\n",
              "  <div id=\"df-57c68f37-a845-414c-a773-423e76340a70\">\n",
              "    <div class=\"colab-df-container\">\n",
              "      <div>\n",
              "<style scoped>\n",
              "    .dataframe tbody tr th:only-of-type {\n",
              "        vertical-align: middle;\n",
              "    }\n",
              "\n",
              "    .dataframe tbody tr th {\n",
              "        vertical-align: top;\n",
              "    }\n",
              "\n",
              "    .dataframe thead th {\n",
              "        text-align: right;\n",
              "    }\n",
              "</style>\n",
              "<table border=\"1\" class=\"dataframe\">\n",
              "  <thead>\n",
              "    <tr style=\"text-align: right;\">\n",
              "      <th></th>\n",
              "      <th>Unnamed: 0</th>\n",
              "      <th>session_id</th>\n",
              "      <th>datetime</th>\n",
              "      <th>supply_id</th>\n",
              "      <th>ip</th>\n",
              "      <th>user_device_id</th>\n",
              "      <th>app_name</th>\n",
              "      <th>app_bundle</th>\n",
              "      <th>app_ver</th>\n",
              "      <th>channel_id</th>\n",
              "      <th>...</th>\n",
              "      <th>video_title</th>\n",
              "      <th>page_id</th>\n",
              "      <th>playlist_id</th>\n",
              "      <th>category_id</th>\n",
              "      <th>revenue</th>\n",
              "      <th>cost</th>\n",
              "      <th>start_datetime</th>\n",
              "      <th>end_datetime</th>\n",
              "      <th>additional_data_1</th>\n",
              "      <th>language</th>\n",
              "    </tr>\n",
              "  </thead>\n",
              "  <tbody>\n",
              "    <tr>\n",
              "      <th>0</th>\n",
              "      <td>0</td>\n",
              "      <td>1657777021124.48c7f281de5ab</td>\n",
              "      <td>2022-07-14 05:37:06.382000+00:00</td>\n",
              "      <td>NaN</td>\n",
              "      <td>197.237.180.26</td>\n",
              "      <td>a6d972d2-b895-a05e-798d-42f2f8481d00</td>\n",
              "      <td>Bob the train</td>\n",
              "      <td>1099280</td>\n",
              "      <td>5.8.4</td>\n",
              "      <td>780</td>\n",
              "      <td>...</td>\n",
              "      <td>bus song</td>\n",
              "      <td>0</td>\n",
              "      <td>NaN</td>\n",
              "      <td>NaN</td>\n",
              "      <td>0.0</td>\n",
              "      <td>0.0</td>\n",
              "      <td>2022-07-14 05:45:38.371000+00:00</td>\n",
              "      <td>2022-07-14 05:45:38.371000+00:00</td>\n",
              "      <td>NaN</td>\n",
              "      <td>en-KE</td>\n",
              "    </tr>\n",
              "    <tr>\n",
              "      <th>1</th>\n",
              "      <td>1</td>\n",
              "      <td>1657777021124.48c7f281de5ab</td>\n",
              "      <td>2022-07-14 05:37:06.382000+00:00</td>\n",
              "      <td>NaN</td>\n",
              "      <td>197.237.180.26</td>\n",
              "      <td>a6d972d2-b895-a05e-798d-42f2f8481d00</td>\n",
              "      <td>Bob the train</td>\n",
              "      <td>1099280</td>\n",
              "      <td>5.8.4</td>\n",
              "      <td>780</td>\n",
              "      <td>...</td>\n",
              "      <td>bus song</td>\n",
              "      <td>0</td>\n",
              "      <td>NaN</td>\n",
              "      <td>NaN</td>\n",
              "      <td>0.0</td>\n",
              "      <td>0.0</td>\n",
              "      <td>2022-07-14 05:53:43.743000+00:00</td>\n",
              "      <td>2022-07-14 05:53:43.743000+00:00</td>\n",
              "      <td>NaN</td>\n",
              "      <td>en-KE</td>\n",
              "    </tr>\n",
              "    <tr>\n",
              "      <th>2</th>\n",
              "      <td>2</td>\n",
              "      <td>1657777021124.48c7f281de5ab</td>\n",
              "      <td>2022-07-14 05:37:06.382000+00:00</td>\n",
              "      <td>NaN</td>\n",
              "      <td>197.237.180.26</td>\n",
              "      <td>a6d972d2-b895-a05e-798d-42f2f8481d00</td>\n",
              "      <td>Bob the train</td>\n",
              "      <td>1099280</td>\n",
              "      <td>5.8.4</td>\n",
              "      <td>780</td>\n",
              "      <td>...</td>\n",
              "      <td>bus song</td>\n",
              "      <td>0</td>\n",
              "      <td>NaN</td>\n",
              "      <td>NaN</td>\n",
              "      <td>0.0</td>\n",
              "      <td>0.0</td>\n",
              "      <td>2022-07-14 06:31:57.475000+00:00</td>\n",
              "      <td>2022-07-14 06:31:57.475000+00:00</td>\n",
              "      <td>NaN</td>\n",
              "      <td>en-KE</td>\n",
              "    </tr>\n",
              "    <tr>\n",
              "      <th>3</th>\n",
              "      <td>3</td>\n",
              "      <td>1657777021124.48c7f281de5ab</td>\n",
              "      <td>2022-07-14 05:37:06.382000+00:00</td>\n",
              "      <td>NaN</td>\n",
              "      <td>197.237.180.26</td>\n",
              "      <td>a6d972d2-b895-a05e-798d-42f2f8481d00</td>\n",
              "      <td>Bob the train</td>\n",
              "      <td>1099280</td>\n",
              "      <td>5.8.4</td>\n",
              "      <td>780</td>\n",
              "      <td>...</td>\n",
              "      <td>bus song</td>\n",
              "      <td>0</td>\n",
              "      <td>NaN</td>\n",
              "      <td>NaN</td>\n",
              "      <td>0.0</td>\n",
              "      <td>0.0</td>\n",
              "      <td>2022-07-14 05:53:30.845000+00:00</td>\n",
              "      <td>2022-07-14 05:53:30.845000+00:00</td>\n",
              "      <td>NaN</td>\n",
              "      <td>en-KE</td>\n",
              "    </tr>\n",
              "    <tr>\n",
              "      <th>4</th>\n",
              "      <td>4</td>\n",
              "      <td>1657777021124.48c7f281de5ab</td>\n",
              "      <td>2022-07-14 05:37:06.382000+00:00</td>\n",
              "      <td>NaN</td>\n",
              "      <td>197.237.180.26</td>\n",
              "      <td>a6d972d2-b895-a05e-798d-42f2f8481d00</td>\n",
              "      <td>Bob the train</td>\n",
              "      <td>1099280</td>\n",
              "      <td>5.8.4</td>\n",
              "      <td>780</td>\n",
              "      <td>...</td>\n",
              "      <td>bus song</td>\n",
              "      <td>0</td>\n",
              "      <td>NaN</td>\n",
              "      <td>NaN</td>\n",
              "      <td>0.0</td>\n",
              "      <td>0.0</td>\n",
              "      <td>2022-07-14 05:59:49.196000+00:00</td>\n",
              "      <td>2022-07-14 05:59:49.196000+00:00</td>\n",
              "      <td>NaN</td>\n",
              "      <td>en-KE</td>\n",
              "    </tr>\n",
              "  </tbody>\n",
              "</table>\n",
              "<p>5 rows × 43 columns</p>\n",
              "</div>\n",
              "      <button class=\"colab-df-convert\" onclick=\"convertToInteractive('df-57c68f37-a845-414c-a773-423e76340a70')\"\n",
              "              title=\"Convert this dataframe to an interactive table.\"\n",
              "              style=\"display:none;\">\n",
              "        \n",
              "  <svg xmlns=\"http://www.w3.org/2000/svg\" height=\"24px\"viewBox=\"0 0 24 24\"\n",
              "       width=\"24px\">\n",
              "    <path d=\"M0 0h24v24H0V0z\" fill=\"none\"/>\n",
              "    <path d=\"M18.56 5.44l.94 2.06.94-2.06 2.06-.94-2.06-.94-.94-2.06-.94 2.06-2.06.94zm-11 1L8.5 8.5l.94-2.06 2.06-.94-2.06-.94L8.5 2.5l-.94 2.06-2.06.94zm10 10l.94 2.06.94-2.06 2.06-.94-2.06-.94-.94-2.06-.94 2.06-2.06.94z\"/><path d=\"M17.41 7.96l-1.37-1.37c-.4-.4-.92-.59-1.43-.59-.52 0-1.04.2-1.43.59L10.3 9.45l-7.72 7.72c-.78.78-.78 2.05 0 2.83L4 21.41c.39.39.9.59 1.41.59.51 0 1.02-.2 1.41-.59l7.78-7.78 2.81-2.81c.8-.78.8-2.07 0-2.86zM5.41 20L4 18.59l7.72-7.72 1.47 1.35L5.41 20z\"/>\n",
              "  </svg>\n",
              "      </button>\n",
              "      \n",
              "  <style>\n",
              "    .colab-df-container {\n",
              "      display:flex;\n",
              "      flex-wrap:wrap;\n",
              "      gap: 12px;\n",
              "    }\n",
              "\n",
              "    .colab-df-convert {\n",
              "      background-color: #E8F0FE;\n",
              "      border: none;\n",
              "      border-radius: 50%;\n",
              "      cursor: pointer;\n",
              "      display: none;\n",
              "      fill: #1967D2;\n",
              "      height: 32px;\n",
              "      padding: 0 0 0 0;\n",
              "      width: 32px;\n",
              "    }\n",
              "\n",
              "    .colab-df-convert:hover {\n",
              "      background-color: #E2EBFA;\n",
              "      box-shadow: 0px 1px 2px rgba(60, 64, 67, 0.3), 0px 1px 3px 1px rgba(60, 64, 67, 0.15);\n",
              "      fill: #174EA6;\n",
              "    }\n",
              "\n",
              "    [theme=dark] .colab-df-convert {\n",
              "      background-color: #3B4455;\n",
              "      fill: #D2E3FC;\n",
              "    }\n",
              "\n",
              "    [theme=dark] .colab-df-convert:hover {\n",
              "      background-color: #434B5C;\n",
              "      box-shadow: 0px 1px 3px 1px rgba(0, 0, 0, 0.15);\n",
              "      filter: drop-shadow(0px 1px 2px rgba(0, 0, 0, 0.3));\n",
              "      fill: #FFFFFF;\n",
              "    }\n",
              "  </style>\n",
              "\n",
              "      <script>\n",
              "        const buttonEl =\n",
              "          document.querySelector('#df-57c68f37-a845-414c-a773-423e76340a70 button.colab-df-convert');\n",
              "        buttonEl.style.display =\n",
              "          google.colab.kernel.accessAllowed ? 'block' : 'none';\n",
              "\n",
              "        async function convertToInteractive(key) {\n",
              "          const element = document.querySelector('#df-57c68f37-a845-414c-a773-423e76340a70');\n",
              "          const dataTable =\n",
              "            await google.colab.kernel.invokeFunction('convertToInteractive',\n",
              "                                                     [key], {});\n",
              "          if (!dataTable) return;\n",
              "\n",
              "          const docLinkHtml = 'Like what you see? Visit the ' +\n",
              "            '<a target=\"_blank\" href=https://colab.research.google.com/notebooks/data_table.ipynb>data table notebook</a>'\n",
              "            + ' to learn more about interactive tables.';\n",
              "          element.innerHTML = '';\n",
              "          dataTable['output_type'] = 'display_data';\n",
              "          await google.colab.output.renderOutput(dataTable, element);\n",
              "          const docLink = document.createElement('div');\n",
              "          docLink.innerHTML = docLinkHtml;\n",
              "          element.appendChild(docLink);\n",
              "        }\n",
              "      </script>\n",
              "    </div>\n",
              "  </div>\n",
              "  "
            ]
          },
          "metadata": {},
          "execution_count": 41
        }
      ]
    },
    {
      "cell_type": "markdown",
      "metadata": {
        "id": "2u5l2dUGnT9n"
      },
      "source": [
        "***Columns description***"
      ]
    },
    {
      "cell_type": "code",
      "execution_count": 42,
      "metadata": {
        "colab": {
          "base_uri": "https://localhost:8080/"
        },
        "id": "Z7KNc9-FnT9n",
        "outputId": "84cc98b7-2d6b-41bd-a102-be52d68983fc"
      },
      "outputs": [
        {
          "output_type": "stream",
          "name": "stdout",
          "text": [
            "Data Columns\n"
          ]
        },
        {
          "output_type": "execute_result",
          "data": {
            "text/plain": [
              "Index(['Unnamed: 0', 'session_id', 'datetime', 'supply_id', 'ip',\n",
              "       'user_device_id', 'app_name', 'app_bundle', 'app_ver', 'channel_id',\n",
              "       'full_user_agent', 'os_name', 'os_family', 'country', 'city', 'isp',\n",
              "       'carrier_id', 'connection_type', 'region', 'device_type', 'ua_family',\n",
              "       'platform', 'player_type', 'admanager_type', 'additional_data',\n",
              "       'default_language', 'id', 'session_id_1', 'datetime_1', 'event',\n",
              "       'adserver', 'video_content_id', 'content_session_id', 'video_title',\n",
              "       'page_id', 'playlist_id', 'category_id', 'revenue', 'cost',\n",
              "       'start_datetime', 'end_datetime', 'additional_data_1', 'language'],\n",
              "      dtype='object')"
            ]
          },
          "metadata": {},
          "execution_count": 42
        }
      ],
      "source": [
        "print(\"Data Columns\")\n",
        "data.columns"
      ]
    },
    {
      "cell_type": "code",
      "execution_count": 43,
      "metadata": {
        "colab": {
          "base_uri": "https://localhost:8080/"
        },
        "id": "npW7A16pnT9n",
        "outputId": "df471e9a-5d56-4183-a8c4-6a43c8a4f22e"
      },
      "outputs": [
        {
          "output_type": "execute_result",
          "data": {
            "text/plain": [
              "(20000, 43)"
            ]
          },
          "metadata": {},
          "execution_count": 43
        }
      ],
      "source": [
        "#Check the number of records\n",
        "data.shape"
      ]
    },
    {
      "cell_type": "markdown",
      "metadata": {
        "id": "AeMjJZASnT9o"
      },
      "source": [
        "# Data cleaning"
      ]
    },
    {
      "cell_type": "markdown",
      "metadata": {
        "id": "ax2a-JqdnT9o"
      },
      "source": [
        "***Check for null values***"
      ]
    },
    {
      "cell_type": "code",
      "execution_count": 44,
      "metadata": {
        "colab": {
          "base_uri": "https://localhost:8080/",
          "height": 476
        },
        "id": "_UybR0GWnT9o",
        "outputId": "a2fdfbbf-0849-4e13-a3c3-48c411310aed"
      },
      "outputs": [
        {
          "output_type": "execute_result",
          "data": {
            "text/plain": [
              "<matplotlib.axes._subplots.AxesSubplot at 0x7f21f420ec10>"
            ]
          },
          "metadata": {},
          "execution_count": 44
        },
        {
          "output_type": "display_data",
          "data": {
            "text/plain": [
              "<Figure size 1440x432 with 1 Axes>"
            ],
            "image/png": "[encoded data removed]"
          },
          "metadata": {
            "needs_background": "light"
          }
        }
      ],
      "source": [
        "#Plot to show null values in user_session_events table\n",
        "plt.figure(figsize=(20, 6))\n",
        "sns.heatmap(data.isnull(),yticklabels=False,cbar=False,cmap='cividis')"
      ]
    },
    {
      "cell_type": "code",
      "source": [
        "def missing_cols(df):\n",
        "    '''prints out columns with its amount of missing values'''\n",
        "    total = 0\n",
        "    for col in df.columns:\n",
        "        missing_vals = df[col].isnull().sum()\n",
        "        total += missing_vals\n",
        "        if missing_vals != 0:\n",
        "            print(f\"{col} => {df[col].isnull().sum()}\")\n",
        "    \n",
        "    if total == 0:\n",
        "        print(\"no missing values left\")"
      ],
      "metadata": {
        "id": "cG1Td7vu1O9d"
      },
      "execution_count": 45,
      "outputs": []
    },
    {
      "cell_type": "code",
      "source": [
        "missing_cols(data)"
      ],
      "metadata": {
        "colab": {
          "base_uri": "https://localhost:8080/"
        },
        "id": "xzqMi3IV1Sov",
        "outputId": "e3e2b8a2-7855-40a1-d6eb-7ab49920120b"
      },
      "execution_count": 46,
      "outputs": [
        {
          "output_type": "stream",
          "name": "stdout",
          "text": [
            "supply_id => 19124\n",
            "user_device_id => 2613\n",
            "app_name => 1\n",
            "app_bundle => 2\n",
            "channel_id => 1\n",
            "os_name => 3662\n",
            "os_family => 3662\n",
            "city => 434\n",
            "isp => 4\n",
            "carrier_id => 4\n",
            "connection_type => 56\n",
            "region => 438\n",
            "device_type => 2938\n",
            "ua_family => 7968\n",
            "platform => 50\n",
            "player_type => 11789\n",
            "admanager_type => 20000\n",
            "additional_data => 15982\n",
            "default_language => 564\n",
            "id => 20000\n",
            "adserver => 19466\n",
            "content_session_id => 3842\n",
            "video_title => 2430\n",
            "playlist_id => 10811\n",
            "category_id => 16757\n",
            "start_datetime => 4021\n",
            "end_datetime => 4043\n",
            "additional_data_1 => 15784\n",
            "language => 51\n"
          ]
        }
      ]
    },
    {
      "cell_type": "code",
      "source": [
        "def perc_missing(df):\n",
        "    '''prints out columns with missing values with its %'''\n",
        "    for col in df.columns:\n",
        "        pct = df[col].isna().mean() * 100\n",
        "        if (pct != 0):\n",
        "            print('{} => {}%'.format(col, round(pct, 2)))"
      ],
      "metadata": {
        "id": "3NQlsqJo1os0"
      },
      "execution_count": 47,
      "outputs": []
    },
    {
      "cell_type": "code",
      "source": [
        "perc_missing(data)"
      ],
      "metadata": {
        "colab": {
          "base_uri": "https://localhost:8080/"
        },
        "id": "8lmJBtYK1xSE",
        "outputId": "ff5f28c0-5a23-454c-f677-3c22ecc5f3f6"
      },
      "execution_count": 48,
      "outputs": [
        {
          "output_type": "stream",
          "name": "stdout",
          "text": [
            "supply_id => 95.62%\n",
            "user_device_id => 13.06%\n",
            "app_name => 0.0%\n",
            "app_bundle => 0.01%\n",
            "channel_id => 0.0%\n",
            "os_name => 18.31%\n",
            "os_family => 18.31%\n",
            "city => 2.17%\n",
            "isp => 0.02%\n",
            "carrier_id => 0.02%\n",
            "connection_type => 0.28%\n",
            "region => 2.19%\n",
            "device_type => 14.69%\n",
            "ua_family => 39.84%\n",
            "platform => 0.25%\n",
            "player_type => 58.94%\n",
            "admanager_type => 100.0%\n",
            "additional_data => 79.91%\n",
            "default_language => 2.82%\n",
            "id => 100.0%\n",
            "adserver => 97.33%\n",
            "content_session_id => 19.21%\n",
            "video_title => 12.15%\n",
            "playlist_id => 54.06%\n",
            "category_id => 83.78%\n",
            "start_datetime => 20.1%\n",
            "end_datetime => 20.22%\n",
            "additional_data_1 => 78.92%\n",
            "language => 0.26%\n"
          ]
        }
      ]
    },
    {
      "cell_type": "code",
      "source": [
        "#Droping Unwanted Columns\n",
        "data.drop(['Unnamed: 0', 'additional_data_1', 'additional_data'], axis=1, inplace=True)"
      ],
      "metadata": {
        "id": "RharDPNUZjKA"
      },
      "execution_count": 49,
      "outputs": []
    },
    {
      "cell_type": "code",
      "source": [
        "# Drop columns that are missing 10% of the data\n",
        "df = data.copy() # Make a copy\n",
        "df.dropna(axis=1, thresh = int(0.20*df.shape[0]), inplace=True)"
      ],
      "metadata": {
        "id": "yp6ey-GV2r19"
      },
      "execution_count": 51,
      "outputs": []
    },
    {
      "cell_type": "code",
      "execution_count": 52,
      "metadata": {
        "colab": {
          "base_uri": "https://localhost:8080/",
          "height": 476
        },
        "id": "70SRl660nT9q",
        "outputId": "c6b38e34-5bb0-4823-fd05-28d2eec30e62"
      },
      "outputs": [
        {
          "output_type": "execute_result",
          "data": {
            "text/plain": [
              "<matplotlib.axes._subplots.AxesSubplot at 0x7f21f44bda50>"
            ]
          },
          "metadata": {},
          "execution_count": 52
        },
        {
          "output_type": "display_data",
          "data": {
            "text/plain": [
              "<Figure size 1440x432 with 1 Axes>"
            ],
            "image/png": "[encoded data removed]"
          },
          "metadata": {
            "needs_background": "light"
          }
        }
      ],
      "source": [
        "# Heatmap of the entire dataset\n",
        "plt.figure(figsize=(20, 6))\n",
        "sns.heatmap(df.isnull(),yticklabels=False,cbar=False,cmap='cividis')\n"
      ]
    },
    {
      "cell_type": "code",
      "source": [
        "# Check for % of missing data per column \n",
        "perc_missing(df)"
      ],
      "metadata": {
        "colab": {
          "base_uri": "https://localhost:8080/"
        },
        "id": "tHqwgt70KBz9",
        "outputId": "a70c9b6d-ee6c-44d2-fbc9-d221ad37bafd"
      },
      "execution_count": 53,
      "outputs": [
        {
          "output_type": "stream",
          "name": "stdout",
          "text": [
            "user_device_id => 13.06%\n",
            "app_name => 0.0%\n",
            "app_bundle => 0.01%\n",
            "channel_id => 0.0%\n",
            "os_name => 18.31%\n",
            "os_family => 18.31%\n",
            "city => 2.17%\n",
            "isp => 0.02%\n",
            "carrier_id => 0.02%\n",
            "connection_type => 0.28%\n",
            "region => 2.19%\n",
            "device_type => 14.69%\n",
            "ua_family => 39.84%\n",
            "platform => 0.25%\n",
            "player_type => 58.94%\n",
            "default_language => 2.82%\n",
            "content_session_id => 19.21%\n",
            "video_title => 12.15%\n",
            "playlist_id => 54.06%\n",
            "start_datetime => 20.1%\n",
            "end_datetime => 20.22%\n",
            "language => 0.26%\n"
          ]
        }
      ]
    },
    {
      "cell_type": "markdown",
      "source": [
        "Since majority of Items are categorical and highly related like city and country, it's impossible to impute all by mode as it will result to inconsistencies."
      ],
      "metadata": {
        "id": "UBUfTxP7SwlN"
      }
    },
    {
      "cell_type": "code",
      "source": [
        "df.drop(['user_device_id', 'os_family', 'region', 'ua_family', 'player_type', 'playlist_id'], axis=1, inplace=True)"
      ],
      "metadata": {
        "id": "bPW16l4aTpKj"
      },
      "execution_count": 54,
      "outputs": []
    },
    {
      "cell_type": "markdown",
      "source": [
        "***Convert Columns Datatypes***"
      ],
      "metadata": {
        "id": "rA71uGndfdAi"
      }
    },
    {
      "cell_type": "code",
      "source": [
        "#Converting all date fields from objects to datetime\n",
        "df['datetime'] = datetime.strptime(date_time,\"%Y-%m-%dT%H:%M:%S%z\")\n",
        "df['start_datetime'] = datetime.strptime(date_time,\"%Y-%m-%dT%H:%M:%S%z\")\n",
        "df['end_datetime'] = datetime.strptime(date_time,\"%Y-%m-%dT%H:%M:%S%z\")\n"
      ],
      "metadata": {
        "id": "hAuRAqoZjuz3"
      },
      "execution_count": 56,
      "outputs": []
    },
    {
      "cell_type": "code",
      "source": [
        "df.info()"
      ],
      "metadata": {
        "colab": {
          "base_uri": "https://localhost:8080/"
        },
        "id": "W2oh_x6YPaWZ",
        "outputId": "3b89cd89-5919-4e52-b6f5-85543f71e149"
      },
      "execution_count": null,
      "outputs": [
        {
          "output_type": "stream",
          "name": "stdout",
          "text": [
            "<class 'pandas.core.frame.DataFrame'>\n",
            "RangeIndex: 20000 entries, 0 to 19999\n",
            "Data columns (total 30 columns):\n",
            " #   Column              Non-Null Count  Dtype                    \n",
            "---  ------              --------------  -----                    \n",
            " 0   session_id          20000 non-null  object                   \n",
            " 1   datetime            20000 non-null  datetime64[ns, UTC-07:00]\n",
            " 2   ip                  20000 non-null  object                   \n",
            " 3   app_name            20000 non-null  object                   \n",
            " 4   app_bundle          20000 non-null  object                   \n",
            " 5   app_ver             20000 non-null  object                   \n",
            " 6   channel_id          20000 non-null  object                   \n",
            " 7   full_user_agent     20000 non-null  object                   \n",
            " 8   os_name             20000 non-null  object                   \n",
            " 9   country             20000 non-null  object                   \n",
            " 10  city                20000 non-null  object                   \n",
            " 11  isp                 20000 non-null  object                   \n",
            " 12  carrier_id          20000 non-null  object                   \n",
            " 13  connection_type     20000 non-null  object                   \n",
            " 14  device_type         20000 non-null  object                   \n",
            " 15  platform            20000 non-null  object                   \n",
            " 16  default_language    20000 non-null  object                   \n",
            " 17  session_id_1        20000 non-null  object                   \n",
            " 18  datetime_1          20000 non-null  object                   \n",
            " 19  event               20000 non-null  int64                    \n",
            " 20  video_content_id    20000 non-null  int64                    \n",
            " 21  content_session_id  20000 non-null  object                   \n",
            " 22  video_title         20000 non-null  object                   \n",
            " 23  page_id             20000 non-null  int64                    \n",
            " 24  revenue             20000 non-null  float64                  \n",
            " 25  cost                20000 non-null  float64                  \n",
            " 26  start_datetime      20000 non-null  datetime64[ns, UTC-07:00]\n",
            " 27  end_datetime        20000 non-null  datetime64[ns, UTC-07:00]\n",
            " 28  language            20000 non-null  object                   \n",
            " 29  diff                20000 non-null  timedelta64[ns]          \n",
            "dtypes: datetime64[ns, UTC-07:00](3), float64(2), int64(3), object(21), timedelta64[ns](1)\n",
            "memory usage: 4.6+ MB\n"
          ]
        }
      ]
    },
    {
      "cell_type": "code",
      "source": [
        "df.shape"
      ],
      "metadata": {
        "colab": {
          "base_uri": "https://localhost:8080/"
        },
        "id": "pE65DQZXRjXb",
        "outputId": "1a83d931-0190-45ae-b48c-5e10ef0695d7"
      },
      "execution_count": null,
      "outputs": [
        {
          "output_type": "execute_result",
          "data": {
            "text/plain": [
              "(20000, 35)"
            ]
          },
          "metadata": {},
          "execution_count": 121
        }
      ]
    },
    {
      "cell_type": "code",
      "source": [
        "#Check the % of missing values\n",
        "perc_missing(df)"
      ],
      "metadata": {
        "colab": {
          "base_uri": "https://localhost:8080/"
        },
        "id": "Ygn4NEO389_c",
        "outputId": "eef27d6b-0b4a-4e4c-f064-6f26f4cbc556"
      },
      "execution_count": null,
      "outputs": [
        {
          "output_type": "stream",
          "name": "stdout",
          "text": [
            "app_name => 0.0%\n",
            "app_bundle => 0.01%\n",
            "channel_id => 0.0%\n",
            "os_name => 18.31%\n",
            "city => 2.17%\n",
            "isp => 0.02%\n",
            "carrier_id => 0.02%\n",
            "connection_type => 0.28%\n",
            "device_type => 14.69%\n",
            "platform => 0.25%\n",
            "default_language => 2.82%\n",
            "content_session_id => 19.21%\n",
            "video_title => 12.15%\n",
            "language => 0.26%\n"
          ]
        }
      ]
    },
    {
      "cell_type": "markdown",
      "source": [
        "***Adding More Features***"
      ],
      "metadata": {
        "id": "i_mK_qQYQHfw"
      }
    },
    {
      "cell_type": "code",
      "source": [
        "#Checking time difference\n",
        "df['diff'] = df['start_datetime'] - df['end_datetime']"
      ],
      "metadata": {
        "id": "WRXoDPwFbfhg"
      },
      "execution_count": 59,
      "outputs": []
    },
    {
      "cell_type": "code",
      "source": [],
      "metadata": {
        "id": "x4eBmR9gUE8N"
      },
      "execution_count": null,
      "outputs": []
    },
    {
      "cell_type": "markdown",
      "source": [
        "***Imputing the null values***"
      ],
      "metadata": {
        "id": "vMfHAVFl7-sf"
      }
    },
    {
      "cell_type": "markdown",
      "source": [
        "***Taking advantage of sklearn SimpleImputer package to impute missing values with mode***"
      ],
      "metadata": {
        "id": "BDO3Y8ahAa6c"
      }
    },
    {
      "cell_type": "code",
      "source": [
        "#Imputing the remaining missing values with mode\n",
        "imputer = SimpleImputer(strategy='most_frequent', missing_values=np.nan)\n",
        "imputer = imputer.fit(df[['app_name', 'app_bundle', 'channel_id', 'os_name', 'city', 'isp', 'carrier_id', 'connection_type', 'device_type', 'platform', 'default_language','content_session_id', 'video_title', 'language']])\n",
        "df[['app_name', 'app_bundle', 'channel_id', 'os_name', 'city', 'isp', 'carrier_id', 'connection_type', 'device_type', 'platform', 'default_language','content_session_id', 'video_title', 'language']] = imputer.transform(df[['app_name', 'app_bundle', 'channel_id', 'os_name', 'city', 'isp', 'carrier_id', 'connection_type', 'device_type', 'platform', 'default_language','content_session_id', 'video_title', 'language']])\n",
        "perc_missing(df)"
      ],
      "metadata": {
        "id": "zvQUpE7o-RN-"
      },
      "execution_count": 60,
      "outputs": []
    },
    {
      "cell_type": "code",
      "source": [
        "df.isnull().sum()"
      ],
      "metadata": {
        "colab": {
          "base_uri": "https://localhost:8080/"
        },
        "id": "FjSofrbhnubr",
        "outputId": "1c86f8b9-9ef5-4f2e-ad2d-275f3cc16a67"
      },
      "execution_count": null,
      "outputs": [
        {
          "output_type": "execute_result",
          "data": {
            "text/plain": [
              "session_id            0\n",
              "datetime              0\n",
              "ip                    0\n",
              "app_name              0\n",
              "app_bundle            0\n",
              "app_ver               0\n",
              "channel_id            0\n",
              "full_user_agent       0\n",
              "os_name               0\n",
              "country               0\n",
              "city                  0\n",
              "isp                   0\n",
              "carrier_id            0\n",
              "connection_type       0\n",
              "device_type           0\n",
              "platform              0\n",
              "default_language      0\n",
              "session_id_1          0\n",
              "datetime_1            0\n",
              "event                 0\n",
              "video_content_id      0\n",
              "content_session_id    0\n",
              "video_title           0\n",
              "page_id               0\n",
              "revenue               0\n",
              "cost                  0\n",
              "start_datetime        0\n",
              "end_datetime          0\n",
              "language              0\n",
              "diff                  0\n",
              "dtype: int64"
            ]
          },
          "metadata": {},
          "execution_count": 136
        }
      ]
    },
    {
      "cell_type": "code",
      "source": [
        "#Check the new shape of the data\n",
        "df.shape"
      ],
      "metadata": {
        "colab": {
          "base_uri": "https://localhost:8080/"
        },
        "id": "ClsIWt-35Mpn",
        "outputId": "446c83bc-9930-4eb5-d97e-445cc741063a"
      },
      "execution_count": null,
      "outputs": [
        {
          "output_type": "execute_result",
          "data": {
            "text/plain": [
              "(20000, 30)"
            ]
          },
          "metadata": {},
          "execution_count": 137
        }
      ]
    },
    {
      "cell_type": "markdown",
      "metadata": {
        "id": "-6ZS7UXTnT9q"
      },
      "source": [
        "I believe this is ok, we can move forward with analysis and feature engineering."
      ]
    },
    {
      "cell_type": "code",
      "source": [
        "type(df)"
      ],
      "metadata": {
        "colab": {
          "base_uri": "https://localhost:8080/"
        },
        "id": "MgH5MBKRaTP3",
        "outputId": "ef8d246a-e88e-4aa4-f4b3-78f4ba3918db"
      },
      "execution_count": null,
      "outputs": [
        {
          "output_type": "execute_result",
          "data": {
            "text/plain": [
              "pandas.core.frame.DataFrame"
            ]
          },
          "metadata": {},
          "execution_count": 138
        }
      ]
    },
    {
      "cell_type": "code",
      "source": [
        "# Copy of clean clean data file\n",
        "df.to_csv(\"data_clean.csv\")"
      ],
      "metadata": {
        "id": "L0dgKweZdFE9"
      },
      "execution_count": null,
      "outputs": []
    },
    {
      "cell_type": "markdown",
      "metadata": {
        "id": "Pi-sjdZ5nT9t"
      },
      "source": [
        "The data cleaning is now performed, let's jump to the EDA!"
      ]
    },
    {
      "cell_type": "markdown",
      "metadata": {
        "id": "utQv9KbnnT9t"
      },
      "source": [
        "# Exploratory Data Analysis (EDA)"
      ]
    },
    {
      "cell_type": "code",
      "source": [
        "#Read Clean csv\n",
        "url = 'https://raw.githubusercontent.com/kabirodavies/data-project/main/data_clean.csv'\n",
        "eda_df = pd.read_csv(url, index_col=[0])"
      ],
      "metadata": {
        "id": "AT6QQlRx5CGT"
      },
      "execution_count": 28,
      "outputs": []
    },
    {
      "cell_type": "code",
      "source": [
        "eda_df.shape"
      ],
      "metadata": {
        "colab": {
          "base_uri": "https://localhost:8080/"
        },
        "id": "FqltiFrtw75t",
        "outputId": "ab4572fc-f03b-4cfc-abcc-3ea4948c424f"
      },
      "execution_count": 29,
      "outputs": [
        {
          "output_type": "execute_result",
          "data": {
            "text/plain": [
              "(20000, 30)"
            ]
          },
          "metadata": {},
          "execution_count": 29
        }
      ]
    },
    {
      "cell_type": "code",
      "source": [
        "# Heatmap of clean dataset\n",
        "plt.figure(figsize=(20, 6))\n",
        "sns.heatmap(eda_df.isnull(),yticklabels=False,cbar=False,cmap='cividis')"
      ],
      "metadata": {
        "colab": {
          "base_uri": "https://localhost:8080/",
          "height": 476
        },
        "id": "dn40ChB702Ng",
        "outputId": "395b53c8-76be-420e-b608-c975301c7bdc"
      },
      "execution_count": 62,
      "outputs": [
        {
          "output_type": "execute_result",
          "data": {
            "text/plain": [
              "<matplotlib.axes._subplots.AxesSubplot at 0x7f21f3a10c50>"
            ]
          },
          "metadata": {},
          "execution_count": 62
        },
        {
          "output_type": "display_data",
          "data": {
            "text/plain": [
              "<Figure size 1440x432 with 1 Axes>"
            ],
            "image/png": "[encoded data removed]"
          },
          "metadata": {
            "needs_background": "light"
          }
        }
      ]
    },
    {
      "cell_type": "code",
      "source": [
        "eda_df.head(3)"
      ],
      "metadata": {
        "colab": {
          "base_uri": "https://localhost:8080/",
          "height": 393
        },
        "id": "YdgEhmdeTD07",
        "outputId": "55ff6488-8ba4-4407-c5da-f0bce8b65d72"
      },
      "execution_count": 63,
      "outputs": [
        {
          "output_type": "execute_result",
          "data": {
            "text/plain": [
              "                    session_id                   datetime              ip  \\\n",
              "0  1657777021124.48c7f281de5ab  2022-07-07 10:30:00-07:00  197.237.180.26   \n",
              "1  1657777021124.48c7f281de5ab  2022-07-07 10:30:00-07:00  197.237.180.26   \n",
              "2  1657777021124.48c7f281de5ab  2022-07-07 10:30:00-07:00  197.237.180.26   \n",
              "\n",
              "        app_name app_bundle app_ver channel_id  \\\n",
              "0  Bob the train    1099280   5.8.4        780   \n",
              "1  Bob the train    1099280   5.8.4        780   \n",
              "2  Bob the train    1099280   5.8.4        780   \n",
              "\n",
              "                                     full_user_agent os_name country  ...  \\\n",
              "0  Mozilla/5.0 (Web0S; Linux/SmartTV) AppleWebKit...   Linux      KE  ...   \n",
              "1  Mozilla/5.0 (Web0S; Linux/SmartTV) AppleWebKit...   Linux      KE  ...   \n",
              "2  Mozilla/5.0 (Web0S; Linux/SmartTV) AppleWebKit...   Linux      KE  ...   \n",
              "\n",
              "  video_content_id content_session_id  video_title page_id revenue cost  \\\n",
              "0         11390354      1657777896006     bus song       0     0.0  0.0   \n",
              "1         11390354      1657777896006     bus song       0     0.0  0.0   \n",
              "2         11390354      1657777896006     bus song       0     0.0  0.0   \n",
              "\n",
              "              start_datetime               end_datetime language    diff  \n",
              "0  2022-07-07 10:30:00-07:00  2022-07-07 10:30:00-07:00    en-KE  0 days  \n",
              "1  2022-07-07 10:30:00-07:00  2022-07-07 10:30:00-07:00    en-KE  0 days  \n",
              "2  2022-07-07 10:30:00-07:00  2022-07-07 10:30:00-07:00    en-KE  0 days  \n",
              "\n",
              "[3 rows x 30 columns]"
            ],
            "text/html": [
              "\n",
              "  <div id=\"df-6a89b7ff-e9ab-426e-af99-ad5525378393\">\n",
              "    <div class=\"colab-df-container\">\n",
              "      <div>\n",
              "<style scoped>\n",
              "    .dataframe tbody tr th:only-of-type {\n",
              "        vertical-align: middle;\n",
              "    }\n",
              "\n",
              "    .dataframe tbody tr th {\n",
              "        vertical-align: top;\n",
              "    }\n",
              "\n",
              "    .dataframe thead th {\n",
              "        text-align: right;\n",
              "    }\n",
              "</style>\n",
              "<table border=\"1\" class=\"dataframe\">\n",
              "  <thead>\n",
              "    <tr style=\"text-align: right;\">\n",
              "      <th></th>\n",
              "      <th>session_id</th>\n",
              "      <th>datetime</th>\n",
              "      <th>ip</th>\n",
              "      <th>app_name</th>\n",
              "      <th>app_bundle</th>\n",
              "      <th>app_ver</th>\n",
              "      <th>channel_id</th>\n",
              "      <th>full_user_agent</th>\n",
              "      <th>os_name</th>\n",
              "      <th>country</th>\n",
              "      <th>...</th>\n",
              "      <th>video_content_id</th>\n",
              "      <th>content_session_id</th>\n",
              "      <th>video_title</th>\n",
              "      <th>page_id</th>\n",
              "      <th>revenue</th>\n",
              "      <th>cost</th>\n",
              "      <th>start_datetime</th>\n",
              "      <th>end_datetime</th>\n",
              "      <th>language</th>\n",
              "      <th>diff</th>\n",
              "    </tr>\n",
              "  </thead>\n",
              "  <tbody>\n",
              "    <tr>\n",
              "      <th>0</th>\n",
              "      <td>1657777021124.48c7f281de5ab</td>\n",
              "      <td>2022-07-07 10:30:00-07:00</td>\n",
              "      <td>197.237.180.26</td>\n",
              "      <td>Bob the train</td>\n",
              "      <td>1099280</td>\n",
              "      <td>5.8.4</td>\n",
              "      <td>780</td>\n",
              "      <td>Mozilla/5.0 (Web0S; Linux/SmartTV) AppleWebKit...</td>\n",
              "      <td>Linux</td>\n",
              "      <td>KE</td>\n",
              "      <td>...</td>\n",
              "      <td>11390354</td>\n",
              "      <td>1657777896006</td>\n",
              "      <td>bus song</td>\n",
              "      <td>0</td>\n",
              "      <td>0.0</td>\n",
              "      <td>0.0</td>\n",
              "      <td>2022-07-07 10:30:00-07:00</td>\n",
              "      <td>2022-07-07 10:30:00-07:00</td>\n",
              "      <td>en-KE</td>\n",
              "      <td>0 days</td>\n",
              "    </tr>\n",
              "    <tr>\n",
              "      <th>1</th>\n",
              "      <td>1657777021124.48c7f281de5ab</td>\n",
              "      <td>2022-07-07 10:30:00-07:00</td>\n",
              "      <td>197.237.180.26</td>\n",
              "      <td>Bob the train</td>\n",
              "      <td>1099280</td>\n",
              "      <td>5.8.4</td>\n",
              "      <td>780</td>\n",
              "      <td>Mozilla/5.0 (Web0S; Linux/SmartTV) AppleWebKit...</td>\n",
              "      <td>Linux</td>\n",
              "      <td>KE</td>\n",
              "      <td>...</td>\n",
              "      <td>11390354</td>\n",
              "      <td>1657777896006</td>\n",
              "      <td>bus song</td>\n",
              "      <td>0</td>\n",
              "      <td>0.0</td>\n",
              "      <td>0.0</td>\n",
              "      <td>2022-07-07 10:30:00-07:00</td>\n",
              "      <td>2022-07-07 10:30:00-07:00</td>\n",
              "      <td>en-KE</td>\n",
              "      <td>0 days</td>\n",
              "    </tr>\n",
              "    <tr>\n",
              "      <th>2</th>\n",
              "      <td>1657777021124.48c7f281de5ab</td>\n",
              "      <td>2022-07-07 10:30:00-07:00</td>\n",
              "      <td>197.237.180.26</td>\n",
              "      <td>Bob the train</td>\n",
              "      <td>1099280</td>\n",
              "      <td>5.8.4</td>\n",
              "      <td>780</td>\n",
              "      <td>Mozilla/5.0 (Web0S; Linux/SmartTV) AppleWebKit...</td>\n",
              "      <td>Linux</td>\n",
              "      <td>KE</td>\n",
              "      <td>...</td>\n",
              "      <td>11390354</td>\n",
              "      <td>1657777896006</td>\n",
              "      <td>bus song</td>\n",
              "      <td>0</td>\n",
              "      <td>0.0</td>\n",
              "      <td>0.0</td>\n",
              "      <td>2022-07-07 10:30:00-07:00</td>\n",
              "      <td>2022-07-07 10:30:00-07:00</td>\n",
              "      <td>en-KE</td>\n",
              "      <td>0 days</td>\n",
              "    </tr>\n",
              "  </tbody>\n",
              "</table>\n",
              "<p>3 rows × 30 columns</p>\n",
              "</div>\n",
              "      <button class=\"colab-df-convert\" onclick=\"convertToInteractive('df-6a89b7ff-e9ab-426e-af99-ad5525378393')\"\n",
              "              title=\"Convert this dataframe to an interactive table.\"\n",
              "              style=\"display:none;\">\n",
              "        \n",
              "  <svg xmlns=\"http://www.w3.org/2000/svg\" height=\"24px\"viewBox=\"0 0 24 24\"\n",
              "       width=\"24px\">\n",
              "    <path d=\"M0 0h24v24H0V0z\" fill=\"none\"/>\n",
              "    <path d=\"M18.56 5.44l.94 2.06.94-2.06 2.06-.94-2.06-.94-.94-2.06-.94 2.06-2.06.94zm-11 1L8.5 8.5l.94-2.06 2.06-.94-2.06-.94L8.5 2.5l-.94 2.06-2.06.94zm10 10l.94 2.06.94-2.06 2.06-.94-2.06-.94-.94-2.06-.94 2.06-2.06.94z\"/><path d=\"M17.41 7.96l-1.37-1.37c-.4-.4-.92-.59-1.43-.59-.52 0-1.04.2-1.43.59L10.3 9.45l-7.72 7.72c-.78.78-.78 2.05 0 2.83L4 21.41c.39.39.9.59 1.41.59.51 0 1.02-.2 1.41-.59l7.78-7.78 2.81-2.81c.8-.78.8-2.07 0-2.86zM5.41 20L4 18.59l7.72-7.72 1.47 1.35L5.41 20z\"/>\n",
              "  </svg>\n",
              "      </button>\n",
              "      \n",
              "  <style>\n",
              "    .colab-df-container {\n",
              "      display:flex;\n",
              "      flex-wrap:wrap;\n",
              "      gap: 12px;\n",
              "    }\n",
              "\n",
              "    .colab-df-convert {\n",
              "      background-color: #E8F0FE;\n",
              "      border: none;\n",
              "      border-radius: 50%;\n",
              "      cursor: pointer;\n",
              "      display: none;\n",
              "      fill: #1967D2;\n",
              "      height: 32px;\n",
              "      padding: 0 0 0 0;\n",
              "      width: 32px;\n",
              "    }\n",
              "\n",
              "    .colab-df-convert:hover {\n",
              "      background-color: #E2EBFA;\n",
              "      box-shadow: 0px 1px 2px rgba(60, 64, 67, 0.3), 0px 1px 3px 1px rgba(60, 64, 67, 0.15);\n",
              "      fill: #174EA6;\n",
              "    }\n",
              "\n",
              "    [theme=dark] .colab-df-convert {\n",
              "      background-color: #3B4455;\n",
              "      fill: #D2E3FC;\n",
              "    }\n",
              "\n",
              "    [theme=dark] .colab-df-convert:hover {\n",
              "      background-color: #434B5C;\n",
              "      box-shadow: 0px 1px 3px 1px rgba(0, 0, 0, 0.15);\n",
              "      filter: drop-shadow(0px 1px 2px rgba(0, 0, 0, 0.3));\n",
              "      fill: #FFFFFF;\n",
              "    }\n",
              "  </style>\n",
              "\n",
              "      <script>\n",
              "        const buttonEl =\n",
              "          document.querySelector('#df-6a89b7ff-e9ab-426e-af99-ad5525378393 button.colab-df-convert');\n",
              "        buttonEl.style.display =\n",
              "          google.colab.kernel.accessAllowed ? 'block' : 'none';\n",
              "\n",
              "        async function convertToInteractive(key) {\n",
              "          const element = document.querySelector('#df-6a89b7ff-e9ab-426e-af99-ad5525378393');\n",
              "          const dataTable =\n",
              "            await google.colab.kernel.invokeFunction('convertToInteractive',\n",
              "                                                     [key], {});\n",
              "          if (!dataTable) return;\n",
              "\n",
              "          const docLinkHtml = 'Like what you see? Visit the ' +\n",
              "            '<a target=\"_blank\" href=https://colab.research.google.com/notebooks/data_table.ipynb>data table notebook</a>'\n",
              "            + ' to learn more about interactive tables.';\n",
              "          element.innerHTML = '';\n",
              "          dataTable['output_type'] = 'display_data';\n",
              "          await google.colab.output.renderOutput(dataTable, element);\n",
              "          const docLink = document.createElement('div');\n",
              "          docLink.innerHTML = docLinkHtml;\n",
              "          element.appendChild(docLink);\n",
              "        }\n",
              "      </script>\n",
              "    </div>\n",
              "  </div>\n",
              "  "
            ]
          },
          "metadata": {},
          "execution_count": 63
        }
      ]
    },
    {
      "cell_type": "markdown",
      "source": [
        "***Let's have a look at the correlation between the numeric variables.***\n"
      ],
      "metadata": {
        "id": "nCmBrJC6ruRz"
      }
    },
    {
      "cell_type": "code",
      "source": [
        "corr = eda_df.corr()\n",
        "f, ax = plt.subplots(figsize=(12, 10))\n",
        "mask = np.triu(np.ones_like(corr, dtype=bool))\n",
        "cmap = sns.diverging_palette(230, 20, as_cmap=True)\n",
        "sns.heatmap(corr, annot=True, mask = mask, cmap=cmap)"
      ],
      "metadata": {
        "colab": {
          "base_uri": "https://localhost:8080/",
          "height": 613
        },
        "id": "qidnamPXuiFZ",
        "outputId": "002905a7-cc0b-4fa0-9b5c-1ff953e192b1"
      },
      "execution_count": 64,
      "outputs": [
        {
          "output_type": "execute_result",
          "data": {
            "text/plain": [
              "<matplotlib.axes._subplots.AxesSubplot at 0x7f21f39b3450>"
            ]
          },
          "metadata": {},
          "execution_count": 64
        },
        {
          "output_type": "display_data",
          "data": {
            "text/plain": [
              "<Figure size 864x720 with 2 Axes>"
            ],
            "image/png": "[encoded data removed]"
          },
          "metadata": {
            "needs_background": "light"
          }
        }
      ]
    },
    {
      "cell_type": "code",
      "source": [
        "# # Visualizing the correlation\n",
        "# fig = plt.figure(figsize=(10,8));\n",
        "# ax = fig.add_subplot(111);\n",
        "# plot_corr(eda_df.corr(), xnames = eda_df.corr().columns, ax = ax, );"
      ],
      "metadata": {
        "id": "L5oUmQ8nrr27"
      },
      "execution_count": 34,
      "outputs": []
    },
    {
      "cell_type": "markdown",
      "source": [
        "***Create a new column from events column for better visalization***"
      ],
      "metadata": {
        "id": "jWwnlHhuUW3C"
      }
    },
    {
      "cell_type": "code",
      "source": [
        "def create_event_value(eda_df):\n",
        "  if eda_df['event'] == 24:\n",
        "    return 'app_open'\n",
        "  elif eda_df['event'] == 40:\n",
        "    return 'page_navigation'\n",
        "  elif eda_df['event'] == 23:\n",
        "    return 'carousel_click'\n",
        "  elif eda_df['event'] == 29:\n",
        "    return 'start_video'\n",
        "  elif eda_df['event']== 21:\n",
        "    return 'video_play'\n",
        "  elif eda_df['event'] == 22:\n",
        "    return 'video_pause'\n",
        "  elif eda_df['event'] == 31:\n",
        "    return 'add_opportunity'\n",
        "  elif eda_df['event'] == 26:\n",
        "    return 'add_request'\n",
        "  elif eda_df['event'] == 43:\n",
        "    return 'ad_break_started'\n",
        "  elif eda_df['event'] == 27:\n",
        "    return 'ad_impression'\n",
        "  elif eda_df['event'] == 28:\n",
        "    return 'ad_complete'\n",
        "  elif eda_df['event'] == 44:\n",
        "    return 'ad_break_completed'\n",
        "  elif eda_df['event'] == 33:\n",
        "    return 'error_message'\n",
        "  elif eda_df['event'] == 32:\n",
        "    return 'video_end'\n",
        "  elif eda_df['event'] == 30:\n",
        "    return 'error'\n",
        "  elif eda_df['event'] == 41:\n",
        "    return '<keyword>'\n",
        "  else:\n",
        "    return 'exit_app'\n",
        "  \n",
        "\n"
      ],
      "metadata": {
        "id": "cy1TRN98UYeD"
      },
      "execution_count": 22,
      "outputs": []
    },
    {
      "cell_type": "code",
      "source": [
        "eda_df['event_val'] = eda_df.apply(lambda eda_df: create_event_value(eda_df), axis=1)"
      ],
      "metadata": {
        "id": "O9ZXSid1mxK7"
      },
      "execution_count": 23,
      "outputs": []
    },
    {
      "cell_type": "code",
      "source": [
        "eda_df['event_val'].head(40)"
      ],
      "metadata": {
        "colab": {
          "base_uri": "https://localhost:8080/"
        },
        "id": "PtevjCAvUYcP",
        "outputId": "e434dcb4-e606-401f-f7f2-5d924acab9e7"
      },
      "execution_count": 24,
      "outputs": [
        {
          "output_type": "execute_result",
          "data": {
            "text/plain": [
              "0         add_request\n",
              "1         add_request\n",
              "2         add_request\n",
              "3         add_request\n",
              "4         add_request\n",
              "5         add_request\n",
              "6         add_request\n",
              "7         add_request\n",
              "8         add_request\n",
              "9         add_request\n",
              "10        add_request\n",
              "11        add_request\n",
              "12        add_request\n",
              "13        add_request\n",
              "14        add_request\n",
              "15        add_request\n",
              "16        add_request\n",
              "17        add_request\n",
              "18        add_request\n",
              "19        add_request\n",
              "20        add_request\n",
              "21        add_request\n",
              "22    add_opportunity\n",
              "23        add_request\n",
              "24        add_request\n",
              "25        add_request\n",
              "26        add_request\n",
              "27        add_request\n",
              "28        add_request\n",
              "29        add_request\n",
              "30        add_request\n",
              "31        add_request\n",
              "32        add_request\n",
              "33        add_request\n",
              "34        add_request\n",
              "35        add_request\n",
              "36        add_request\n",
              "37        add_request\n",
              "38        add_request\n",
              "39        add_request\n",
              "Name: event_val, dtype: object"
            ]
          },
          "metadata": {},
          "execution_count": 24
        }
      ]
    },
    {
      "cell_type": "code",
      "source": [
        "user_acivity = eda_df.groupby('event_val').size()\n",
        "user_acivity"
      ],
      "metadata": {
        "id": "TcR9XRjcKrdZ",
        "colab": {
          "base_uri": "https://localhost:8080/"
        },
        "outputId": "04749fa1-9cfc-444d-f229-dd2c9ff7bacb"
      },
      "execution_count": 25,
      "outputs": [
        {
          "output_type": "execute_result",
          "data": {
            "text/plain": [
              "event_val\n",
              "ad_break_completed       1\n",
              "ad_break_started         2\n",
              "ad_complete            341\n",
              "ad_impression          347\n",
              "add_opportunity       1341\n",
              "add_request           9055\n",
              "app_open               611\n",
              "carousel_click         203\n",
              "error                  493\n",
              "error_message          136\n",
              "exit_app               156\n",
              "page_navigation         13\n",
              "start_video           1184\n",
              "video_end             1012\n",
              "video_pause           2364\n",
              "video_play            2741\n",
              "dtype: int64"
            ]
          },
          "metadata": {},
          "execution_count": 25
        }
      ]
    },
    {
      "cell_type": "code",
      "source": [
        "eda_df.head()"
      ],
      "metadata": {
        "colab": {
          "base_uri": "https://localhost:8080/",
          "height": 560
        },
        "id": "2UnEY9HsoPAy",
        "outputId": "c4165d14-872e-4e7e-edc2-6267d04ff088"
      },
      "execution_count": 20,
      "outputs": [
        {
          "output_type": "execute_result",
          "data": {
            "text/plain": [
              "                    session_id                   datetime              ip  \\\n",
              "0  1657777021124.48c7f281de5ab  2022-07-07 10:30:00-07:00  197.237.180.26   \n",
              "1  1657777021124.48c7f281de5ab  2022-07-07 10:30:00-07:00  197.237.180.26   \n",
              "2  1657777021124.48c7f281de5ab  2022-07-07 10:30:00-07:00  197.237.180.26   \n",
              "3  1657777021124.48c7f281de5ab  2022-07-07 10:30:00-07:00  197.237.180.26   \n",
              "4  1657777021124.48c7f281de5ab  2022-07-07 10:30:00-07:00  197.237.180.26   \n",
              "\n",
              "        app_name app_bundle app_ver channel_id  \\\n",
              "0  Bob the train    1099280   5.8.4        780   \n",
              "1  Bob the train    1099280   5.8.4        780   \n",
              "2  Bob the train    1099280   5.8.4        780   \n",
              "3  Bob the train    1099280   5.8.4        780   \n",
              "4  Bob the train    1099280   5.8.4        780   \n",
              "\n",
              "                                     full_user_agent os_name country  ...  \\\n",
              "0  Mozilla/5.0 (Web0S; Linux/SmartTV) AppleWebKit...   Linux      KE  ...   \n",
              "1  Mozilla/5.0 (Web0S; Linux/SmartTV) AppleWebKit...   Linux      KE  ...   \n",
              "2  Mozilla/5.0 (Web0S; Linux/SmartTV) AppleWebKit...   Linux      KE  ...   \n",
              "3  Mozilla/5.0 (Web0S; Linux/SmartTV) AppleWebKit...   Linux      KE  ...   \n",
              "4  Mozilla/5.0 (Web0S; Linux/SmartTV) AppleWebKit...   Linux      KE  ...   \n",
              "\n",
              "  video_content_id content_session_id  video_title page_id revenue cost  \\\n",
              "0         11390354      1657777896006     bus song       0     0.0  0.0   \n",
              "1         11390354      1657777896006     bus song       0     0.0  0.0   \n",
              "2         11390354      1657777896006     bus song       0     0.0  0.0   \n",
              "3         11390354      1657777896006     bus song       0     0.0  0.0   \n",
              "4         11390354      1657777896006     bus song       0     0.0  0.0   \n",
              "\n",
              "              start_datetime               end_datetime language    diff  \n",
              "0  2022-07-07 10:30:00-07:00  2022-07-07 10:30:00-07:00    en-KE  0 days  \n",
              "1  2022-07-07 10:30:00-07:00  2022-07-07 10:30:00-07:00    en-KE  0 days  \n",
              "2  2022-07-07 10:30:00-07:00  2022-07-07 10:30:00-07:00    en-KE  0 days  \n",
              "3  2022-07-07 10:30:00-07:00  2022-07-07 10:30:00-07:00    en-KE  0 days  \n",
              "4  2022-07-07 10:30:00-07:00  2022-07-07 10:30:00-07:00    en-KE  0 days  \n",
              "\n",
              "[5 rows x 30 columns]"
            ],
            "text/html": [
              "\n",
              "  <div id=\"df-56857af7-5a97-4fe2-a6c9-917fad735d63\">\n",
              "    <div class=\"colab-df-container\">\n",
              "      <div>\n",
              "<style scoped>\n",
              "    .dataframe tbody tr th:only-of-type {\n",
              "        vertical-align: middle;\n",
              "    }\n",
              "\n",
              "    .dataframe tbody tr th {\n",
              "        vertical-align: top;\n",
              "    }\n",
              "\n",
              "    .dataframe thead th {\n",
              "        text-align: right;\n",
              "    }\n",
              "</style>\n",
              "<table border=\"1\" class=\"dataframe\">\n",
              "  <thead>\n",
              "    <tr style=\"text-align: right;\">\n",
              "      <th></th>\n",
              "      <th>session_id</th>\n",
              "      <th>datetime</th>\n",
              "      <th>ip</th>\n",
              "      <th>app_name</th>\n",
              "      <th>app_bundle</th>\n",
              "      <th>app_ver</th>\n",
              "      <th>channel_id</th>\n",
              "      <th>full_user_agent</th>\n",
              "      <th>os_name</th>\n",
              "      <th>country</th>\n",
              "      <th>...</th>\n",
              "      <th>video_content_id</th>\n",
              "      <th>content_session_id</th>\n",
              "      <th>video_title</th>\n",
              "      <th>page_id</th>\n",
              "      <th>revenue</th>\n",
              "      <th>cost</th>\n",
              "      <th>start_datetime</th>\n",
              "      <th>end_datetime</th>\n",
              "      <th>language</th>\n",
              "      <th>diff</th>\n",
              "    </tr>\n",
              "  </thead>\n",
              "  <tbody>\n",
              "    <tr>\n",
              "      <th>0</th>\n",
              "      <td>1657777021124.48c7f281de5ab</td>\n",
              "      <td>2022-07-07 10:30:00-07:00</td>\n",
              "      <td>197.237.180.26</td>\n",
              "      <td>Bob the train</td>\n",
              "      <td>1099280</td>\n",
              "      <td>5.8.4</td>\n",
              "      <td>780</td>\n",
              "      <td>Mozilla/5.0 (Web0S; Linux/SmartTV) AppleWebKit...</td>\n",
              "      <td>Linux</td>\n",
              "      <td>KE</td>\n",
              "      <td>...</td>\n",
              "      <td>11390354</td>\n",
              "      <td>1657777896006</td>\n",
              "      <td>bus song</td>\n",
              "      <td>0</td>\n",
              "      <td>0.0</td>\n",
              "      <td>0.0</td>\n",
              "      <td>2022-07-07 10:30:00-07:00</td>\n",
              "      <td>2022-07-07 10:30:00-07:00</td>\n",
              "      <td>en-KE</td>\n",
              "      <td>0 days</td>\n",
              "    </tr>\n",
              "    <tr>\n",
              "      <th>1</th>\n",
              "      <td>1657777021124.48c7f281de5ab</td>\n",
              "      <td>2022-07-07 10:30:00-07:00</td>\n",
              "      <td>197.237.180.26</td>\n",
              "      <td>Bob the train</td>\n",
              "      <td>1099280</td>\n",
              "      <td>5.8.4</td>\n",
              "      <td>780</td>\n",
              "      <td>Mozilla/5.0 (Web0S; Linux/SmartTV) AppleWebKit...</td>\n",
              "      <td>Linux</td>\n",
              "      <td>KE</td>\n",
              "      <td>...</td>\n",
              "      <td>11390354</td>\n",
              "      <td>1657777896006</td>\n",
              "      <td>bus song</td>\n",
              "      <td>0</td>\n",
              "      <td>0.0</td>\n",
              "      <td>0.0</td>\n",
              "      <td>2022-07-07 10:30:00-07:00</td>\n",
              "      <td>2022-07-07 10:30:00-07:00</td>\n",
              "      <td>en-KE</td>\n",
              "      <td>0 days</td>\n",
              "    </tr>\n",
              "    <tr>\n",
              "      <th>2</th>\n",
              "      <td>1657777021124.48c7f281de5ab</td>\n",
              "      <td>2022-07-07 10:30:00-07:00</td>\n",
              "      <td>197.237.180.26</td>\n",
              "      <td>Bob the train</td>\n",
              "      <td>1099280</td>\n",
              "      <td>5.8.4</td>\n",
              "      <td>780</td>\n",
              "      <td>Mozilla/5.0 (Web0S; Linux/SmartTV) AppleWebKit...</td>\n",
              "      <td>Linux</td>\n",
              "      <td>KE</td>\n",
              "      <td>...</td>\n",
              "      <td>11390354</td>\n",
              "      <td>1657777896006</td>\n",
              "      <td>bus song</td>\n",
              "      <td>0</td>\n",
              "      <td>0.0</td>\n",
              "      <td>0.0</td>\n",
              "      <td>2022-07-07 10:30:00-07:00</td>\n",
              "      <td>2022-07-07 10:30:00-07:00</td>\n",
              "      <td>en-KE</td>\n",
              "      <td>0 days</td>\n",
              "    </tr>\n",
              "    <tr>\n",
              "      <th>3</th>\n",
              "      <td>1657777021124.48c7f281de5ab</td>\n",
              "      <td>2022-07-07 10:30:00-07:00</td>\n",
              "      <td>197.237.180.26</td>\n",
              "      <td>Bob the train</td>\n",
              "      <td>1099280</td>\n",
              "      <td>5.8.4</td>\n",
              "      <td>780</td>\n",
              "      <td>Mozilla/5.0 (Web0S; Linux/SmartTV) AppleWebKit...</td>\n",
              "      <td>Linux</td>\n",
              "      <td>KE</td>\n",
              "      <td>...</td>\n",
              "      <td>11390354</td>\n",
              "      <td>1657777896006</td>\n",
              "      <td>bus song</td>\n",
              "      <td>0</td>\n",
              "      <td>0.0</td>\n",
              "      <td>0.0</td>\n",
              "      <td>2022-07-07 10:30:00-07:00</td>\n",
              "      <td>2022-07-07 10:30:00-07:00</td>\n",
              "      <td>en-KE</td>\n",
              "      <td>0 days</td>\n",
              "    </tr>\n",
              "    <tr>\n",
              "      <th>4</th>\n",
              "      <td>1657777021124.48c7f281de5ab</td>\n",
              "      <td>2022-07-07 10:30:00-07:00</td>\n",
              "      <td>197.237.180.26</td>\n",
              "      <td>Bob the train</td>\n",
              "      <td>1099280</td>\n",
              "      <td>5.8.4</td>\n",
              "      <td>780</td>\n",
              "      <td>Mozilla/5.0 (Web0S; Linux/SmartTV) AppleWebKit...</td>\n",
              "      <td>Linux</td>\n",
              "      <td>KE</td>\n",
              "      <td>...</td>\n",
              "      <td>11390354</td>\n",
              "      <td>1657777896006</td>\n",
              "      <td>bus song</td>\n",
              "      <td>0</td>\n",
              "      <td>0.0</td>\n",
              "      <td>0.0</td>\n",
              "      <td>2022-07-07 10:30:00-07:00</td>\n",
              "      <td>2022-07-07 10:30:00-07:00</td>\n",
              "      <td>en-KE</td>\n",
              "      <td>0 days</td>\n",
              "    </tr>\n",
              "  </tbody>\n",
              "</table>\n",
              "<p>5 rows × 30 columns</p>\n",
              "</div>\n",
              "      <button class=\"colab-df-convert\" onclick=\"convertToInteractive('df-56857af7-5a97-4fe2-a6c9-917fad735d63')\"\n",
              "              title=\"Convert this dataframe to an interactive table.\"\n",
              "              style=\"display:none;\">\n",
              "        \n",
              "  <svg xmlns=\"http://www.w3.org/2000/svg\" height=\"24px\"viewBox=\"0 0 24 24\"\n",
              "       width=\"24px\">\n",
              "    <path d=\"M0 0h24v24H0V0z\" fill=\"none\"/>\n",
              "    <path d=\"M18.56 5.44l.94 2.06.94-2.06 2.06-.94-2.06-.94-.94-2.06-.94 2.06-2.06.94zm-11 1L8.5 8.5l.94-2.06 2.06-.94-2.06-.94L8.5 2.5l-.94 2.06-2.06.94zm10 10l.94 2.06.94-2.06 2.06-.94-2.06-.94-.94-2.06-.94 2.06-2.06.94z\"/><path d=\"M17.41 7.96l-1.37-1.37c-.4-.4-.92-.59-1.43-.59-.52 0-1.04.2-1.43.59L10.3 9.45l-7.72 7.72c-.78.78-.78 2.05 0 2.83L4 21.41c.39.39.9.59 1.41.59.51 0 1.02-.2 1.41-.59l7.78-7.78 2.81-2.81c.8-.78.8-2.07 0-2.86zM5.41 20L4 18.59l7.72-7.72 1.47 1.35L5.41 20z\"/>\n",
              "  </svg>\n",
              "      </button>\n",
              "      \n",
              "  <style>\n",
              "    .colab-df-container {\n",
              "      display:flex;\n",
              "      flex-wrap:wrap;\n",
              "      gap: 12px;\n",
              "    }\n",
              "\n",
              "    .colab-df-convert {\n",
              "      background-color: #E8F0FE;\n",
              "      border: none;\n",
              "      border-radius: 50%;\n",
              "      cursor: pointer;\n",
              "      display: none;\n",
              "      fill: #1967D2;\n",
              "      height: 32px;\n",
              "      padding: 0 0 0 0;\n",
              "      width: 32px;\n",
              "    }\n",
              "\n",
              "    .colab-df-convert:hover {\n",
              "      background-color: #E2EBFA;\n",
              "      box-shadow: 0px 1px 2px rgba(60, 64, 67, 0.3), 0px 1px 3px 1px rgba(60, 64, 67, 0.15);\n",
              "      fill: #174EA6;\n",
              "    }\n",
              "\n",
              "    [theme=dark] .colab-df-convert {\n",
              "      background-color: #3B4455;\n",
              "      fill: #D2E3FC;\n",
              "    }\n",
              "\n",
              "    [theme=dark] .colab-df-convert:hover {\n",
              "      background-color: #434B5C;\n",
              "      box-shadow: 0px 1px 3px 1px rgba(0, 0, 0, 0.15);\n",
              "      filter: drop-shadow(0px 1px 2px rgba(0, 0, 0, 0.3));\n",
              "      fill: #FFFFFF;\n",
              "    }\n",
              "  </style>\n",
              "\n",
              "      <script>\n",
              "        const buttonEl =\n",
              "          document.querySelector('#df-56857af7-5a97-4fe2-a6c9-917fad735d63 button.colab-df-convert');\n",
              "        buttonEl.style.display =\n",
              "          google.colab.kernel.accessAllowed ? 'block' : 'none';\n",
              "\n",
              "        async function convertToInteractive(key) {\n",
              "          const element = document.querySelector('#df-56857af7-5a97-4fe2-a6c9-917fad735d63');\n",
              "          const dataTable =\n",
              "            await google.colab.kernel.invokeFunction('convertToInteractive',\n",
              "                                                     [key], {});\n",
              "          if (!dataTable) return;\n",
              "\n",
              "          const docLinkHtml = 'Like what you see? Visit the ' +\n",
              "            '<a target=\"_blank\" href=https://colab.research.google.com/notebooks/data_table.ipynb>data table notebook</a>'\n",
              "            + ' to learn more about interactive tables.';\n",
              "          element.innerHTML = '';\n",
              "          dataTable['output_type'] = 'display_data';\n",
              "          await google.colab.output.renderOutput(dataTable, element);\n",
              "          const docLink = document.createElement('div');\n",
              "          docLink.innerHTML = docLinkHtml;\n",
              "          element.appendChild(docLink);\n",
              "        }\n",
              "      </script>\n",
              "    </div>\n",
              "  </div>\n",
              "  "
            ]
          },
          "metadata": {},
          "execution_count": 20
        }
      ]
    },
    {
      "cell_type": "code",
      "source": [
        "eda_df.info()"
      ],
      "metadata": {
        "id": "FWSg8mg4UYTi",
        "colab": {
          "base_uri": "https://localhost:8080/"
        },
        "outputId": "3acd0bc5-d55f-4f60-c684-6e1e66aa846d"
      },
      "execution_count": 13,
      "outputs": [
        {
          "output_type": "stream",
          "name": "stdout",
          "text": [
            "<class 'pandas.core.frame.DataFrame'>\n",
            "RangeIndex: 20000 entries, 0 to 19999\n",
            "Data columns (total 32 columns):\n",
            " #   Column              Non-Null Count  Dtype  \n",
            "---  ------              --------------  -----  \n",
            " 0   Unnamed: 0          20000 non-null  int64  \n",
            " 1   session_id          20000 non-null  object \n",
            " 2   datetime            20000 non-null  object \n",
            " 3   ip                  20000 non-null  object \n",
            " 4   app_name            20000 non-null  object \n",
            " 5   app_bundle          20000 non-null  object \n",
            " 6   app_ver             20000 non-null  object \n",
            " 7   channel_id          20000 non-null  object \n",
            " 8   full_user_agent     20000 non-null  object \n",
            " 9   os_name             20000 non-null  object \n",
            " 10  country             20000 non-null  object \n",
            " 11  city                20000 non-null  object \n",
            " 12  isp                 20000 non-null  object \n",
            " 13  carrier_id          20000 non-null  float64\n",
            " 14  connection_type     20000 non-null  object \n",
            " 15  device_type         20000 non-null  object \n",
            " 16  platform            20000 non-null  object \n",
            " 17  default_language    20000 non-null  object \n",
            " 18  session_id_1        20000 non-null  object \n",
            " 19  datetime_1          20000 non-null  object \n",
            " 20  event               20000 non-null  int64  \n",
            " 21  video_content_id    20000 non-null  int64  \n",
            " 22  content_session_id  20000 non-null  object \n",
            " 23  video_title         20000 non-null  object \n",
            " 24  page_id             20000 non-null  int64  \n",
            " 25  revenue             20000 non-null  float64\n",
            " 26  cost                20000 non-null  float64\n",
            " 27  start_datetime      20000 non-null  object \n",
            " 28  end_datetime        20000 non-null  object \n",
            " 29  language            20000 non-null  object \n",
            " 30  diff                20000 non-null  object \n",
            " 31  event_val           20000 non-null  object \n",
            "dtypes: float64(3), int64(4), object(25)\n",
            "memory usage: 4.9+ MB\n"
          ]
        }
      ]
    },
    {
      "cell_type": "code",
      "source": [],
      "metadata": {
        "id": "tKPdgC4VUYLu"
      },
      "execution_count": null,
      "outputs": []
    },
    {
      "cell_type": "code",
      "source": [
        "# Distribution of user activity onn OTT platforms\n",
        "eda_df['event'].value_counts().plot(kind='barh')"
      ],
      "metadata": {
        "colab": {
          "base_uri": "https://localhost:8080/",
          "height": 283
        },
        "id": "kyBYe_LsdNjE",
        "outputId": "ecca8728-818e-4925-9ce9-29cd4e33c814"
      },
      "execution_count": null,
      "outputs": [
        {
          "output_type": "execute_result",
          "data": {
            "text/plain": [
              "<matplotlib.axes._subplots.AxesSubplot at 0x7fe1498b68d0>"
            ]
          },
          "metadata": {},
          "execution_count": 142
        },
        {
          "output_type": "display_data",
          "data": {
            "text/plain": [
              "<Figure size 432x288 with 1 Axes>"
            ],
            "image/png": "[encoded data removed]"
          },
          "metadata": {
            "needs_background": "light"
          }
        }
      ]
    },
    {
      "cell_type": "markdown",
      "source": [
        "1. 28 - Ad Complete\n",
        "2. 27 - Ad Impression\n",
        "3. 30 - Error\n",
        "4. 24 - App Opeb\n",
        "5. 32 - End Video\n",
        "6. 29 - Start Video\n",
        "7. 31 - Ad Opportunity\n",
        "8. 22 - Video Pause\n",
        "9. 21 - Video Play\n",
        "10. 26 - Ad request\n"
      ],
      "metadata": {
        "id": "wbd2F5-y0JaC"
      }
    },
    {
      "cell_type": "markdown",
      "source": [
        "The Huge difference in ad request and Ad complete needs to investigated further. Start and End Video are almost similar indicating that perhaps users tend to enjoy the video content."
      ],
      "metadata": {
        "id": "daYXnVZs2pit"
      }
    },
    {
      "cell_type": "markdown",
      "metadata": {
        "id": "gsRp0L_4nT9t"
      },
      "source": [
        "Here are the questions I would like to answer in the analysis:\n",
        "1. What is the OTT platform with the highest traffic?\n",
        "2. What is the traffic distribution on OTT platforms and where is the traffic coming from (Country)?\n",
        "3. Which are the best performing videos and do users skip ads on this videos?\n",
        "4. How old are videos on OTT platforms and does age of video have any impact on ad impression?"
      ]
    },
    {
      "cell_type": "markdown",
      "metadata": {
        "id": "HPpLDvy0nT9t"
      },
      "source": [
        "\n",
        "\n",
        "```\n",
        "# This is formatted as code\n",
        "```\n",
        "\n",
        "##### ***1. What is the OTT platform with the most traffic?***\n",
        "----------"
      ]
    },
    {
      "cell_type": "code",
      "source": [
        "eda_df['app_name'].value_counts()"
      ],
      "metadata": {
        "colab": {
          "base_uri": "https://localhost:8080/"
        },
        "id": "C02Z4Saz8ELP",
        "outputId": "0ca4eb5c-8457-4402-b2e9-7c57f52b7599"
      },
      "execution_count": null,
      "outputs": [
        {
          "output_type": "execute_result",
          "data": {
            "text/plain": [
              "Culture Forward TV                  3812\n",
              "Aquarium TV                         2918\n",
              "Getreel Fireplaces                  1347\n",
              "Free Classic Movies                 1279\n",
              "Helen Doron TV                      1234\n",
              "ADULTish                            1185\n",
              "Bob the train                        928\n",
              "FashionTV+                           790\n",
              "IndiMusic TV                         759\n",
              "FashionTV+ / Fashion & Lifestyle     750\n",
              "Coffee Jazz                          609\n",
              "Kids TV                              603\n",
              "The Kids Channel                     497\n",
              "IndieBox                             365\n",
              "Encourage TV (Binge)-AirTable        339\n",
              "Tasty tv                             320\n",
              "Kids Planet                          276\n",
              "Relaxing Nature                      248\n",
              "Fashion TV                           235\n",
              "Baby Hazel Nursery Rhymes            172\n",
              "WesternFlix                          166\n",
              "The Live Train Channel               145\n",
              "Marvel Comic Universe                142\n",
              "Wawkalak TV                          101\n",
              "Kids Tv Française                     79\n",
              "Classic Cartoons                      77\n",
              "Classic Reruns TV                     64\n",
              "8K Landscapes                         62\n",
              "Scare TV                              62\n",
              "Toonbo                                57\n",
              "Cool School                           49\n",
              "Bayview - Free Movies                 40\n",
              "Dr SEC TV Network                     33\n",
              "Top 80s Hits                          33\n",
              "Games Tips&Tricks                     26\n",
              "Bob el Tren Español                   26\n",
              "Kids TV Español Latino                24\n",
              "Wow Kidz                              14\n",
              "Top Rated Movies                      14\n",
              "OVW WRESTLING LIVE TV                 14\n",
              "Space-TV                              13\n",
              "Dog on TV                             11\n",
              "iKOFLIX                               10\n",
              "Sports International TV               10\n",
              "Oggy                                  10\n",
              "Kids TV Deutschland                    9\n",
              "FoxD Streaming Network                 7\n",
              "Nollywood Capital TV                   7\n",
              "UCL TV                                 6\n",
              "High Octane                            6\n",
              "Channel Fight Masterclass              3\n",
              "Real Music TV                          3\n",
              "24 FLIX                                3\n",
              "Tiger - Best Social Videos             2\n",
              "FVM                                    1\n",
              "MEFLIX                                 1\n",
              "Fishing Offshore                       1\n",
              "OVW WRESTLING TV                       1\n",
              "K Pop                                  1\n",
              "POPSTAR                                1\n",
              "Name: app_name, dtype: int64"
            ]
          },
          "metadata": {},
          "execution_count": 35
        }
      ]
    },
    {
      "cell_type": "markdown",
      "metadata": {
        "id": "UBa6UcuUnT93"
      },
      "source": [
        "##### ***2. What is the traffic distribution on OTT platforms and where is the traffic coming from (Country)?***\n",
        "----------"
      ]
    },
    {
      "cell_type": "code",
      "source": [],
      "metadata": {
        "id": "8S98kAFWSeiU"
      },
      "execution_count": null,
      "outputs": []
    },
    {
      "cell_type": "code",
      "source": [],
      "metadata": {
        "id": "ZJb6GFS_Sec7"
      },
      "execution_count": null,
      "outputs": []
    },
    {
      "cell_type": "code",
      "source": [],
      "metadata": {
        "id": "Z9Ro6LfHSeNA"
      },
      "execution_count": null,
      "outputs": []
    },
    {
      "cell_type": "markdown",
      "source": [
        "##### ***3. Which are the best performing videos and do users skip ads on this videos?***\n",
        "----------"
      ],
      "metadata": {
        "id": "rsvS3gNDih7s"
      }
    },
    {
      "cell_type": "code",
      "source": [],
      "metadata": {
        "id": "6TMitagaSgnj"
      },
      "execution_count": null,
      "outputs": []
    },
    {
      "cell_type": "code",
      "source": [],
      "metadata": {
        "id": "oePMlEZBSghP"
      },
      "execution_count": null,
      "outputs": []
    },
    {
      "cell_type": "code",
      "source": [],
      "metadata": {
        "id": "zXqrKZRaSgYf"
      },
      "execution_count": null,
      "outputs": []
    },
    {
      "cell_type": "markdown",
      "metadata": {
        "id": "mBTDBn7YnT97"
      },
      "source": [
        "##### ***4. How old are videos on OTT platforms and does age of video have any impact on ad impression?***\n",
        "----------"
      ]
    },
    {
      "cell_type": "code",
      "source": [],
      "metadata": {
        "id": "DOQqwgJgShk6"
      },
      "execution_count": null,
      "outputs": []
    },
    {
      "cell_type": "code",
      "source": [],
      "metadata": {
        "id": "WjJ9tjC2Shev"
      },
      "execution_count": null,
      "outputs": []
    },
    {
      "cell_type": "code",
      "source": [],
      "metadata": {
        "id": "cOJzFitgShXR"
      },
      "execution_count": null,
      "outputs": []
    },
    {
      "cell_type": "markdown",
      "metadata": {
        "id": "DagPe8sLnT9_"
      },
      "source": [
        "# Model building"
      ]
    },
    {
      "cell_type": "code",
      "source": [],
      "metadata": {
        "id": "Uu2Bdsle1c5t"
      },
      "execution_count": null,
      "outputs": []
    }
  ],
  "metadata": {
    "kernelspec": {
      "display_name": "Python 3",
      "language": "python",
      "name": "python3"
    },
    "language_info": {
      "codemirror_mode": {
        "name": "ipython",
        "version": 3
      },
      "file_extension": ".py",
      "mimetype": "text/x-python",
      "name": "python",
      "nbconvert_exporter": "python",
      "pygments_lexer": "ipython3",
      "version": "3.7.4"
    },
    "colab": {
      "provenance": [],
      "collapsed_sections": [],
      "toc_visible": true,
      "include_colab_link": true
    }
  },
  "nbformat": 4,
  "nbformat_minor": 0
}